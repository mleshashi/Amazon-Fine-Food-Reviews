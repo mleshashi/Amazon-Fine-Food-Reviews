{
 "cells": [
  {
   "cell_type": "markdown",
   "metadata": {},
   "source": [
    "**Shashi Sharma, ss139529@gmail.com**"
   ]
  },
  {
   "cell_type": "markdown",
   "metadata": {
    "colab_type": "text",
    "id": "4UPJU7FIDYHb"
   },
   "source": [
    "# Amazon Fine Food Reviews Analysis using Logistic Regression\n",
    "\n",
    "\n",
    "Data Source: https://www.kaggle.com/snap/amazon-fine-food-reviews <br>\n",
    "\n",
    "EDA: https://nycdatascience.com/blog/student-works/amazon-fine-foods-visualization/\n",
    "\n",
    "\n",
    "The Amazon Fine Food Reviews dataset consists of reviews of fine foods from Amazon.<br>\n",
    "\n",
    "Number of reviews: 568,454<br>\n",
    "Number of users: 256,059<br>\n",
    "Number of products: 74,258<br>\n",
    "Timespan: Oct 1999 - Oct 2012<br>\n",
    "Number of Attributes/Columns in data: 10 \n",
    "\n",
    "Attribute Information:\n",
    "\n",
    "1. Id\n",
    "2. ProductId - unique identifier for the product\n",
    "3. UserId - unqiue identifier for the user\n",
    "4. ProfileName\n",
    "5. HelpfulnessNumerator - number of users who found the review helpful\n",
    "6. HelpfulnessDenominator - number of users who indicated whether they found the review helpful or not\n",
    "7. Score - rating between 1 and 5\n",
    "8. Time - timestamp for the review\n",
    "9. Summary - brief summary of the review\n",
    "10. Text - text of the review\n",
    "\n",
    "\n",
    "#### Objective:\n",
    "Given a review, determine whether the review is positive (rating of 4 or 5) or negative (rating of 1 or 2).\n",
    "\n",
    "<br>\n",
    "[Q] How to determine if a review is positive or negative?<br>\n",
    "<br> \n",
    "[Ans] We could use Score/Rating. A rating of 4 or 5 can be cosnidered as a positive review. A rating of 1 or 2 can be considered as negative one. A review of rating 3 is considered nuetral and such reviews are ignored from our analysis. This is an approximate and proxy way of determining the polarity (positivity/negativity) of a review.\n",
    "\n",
    "\n"
   ]
  },
  {
   "cell_type": "markdown",
   "metadata": {
    "colab_type": "text",
    "id": "Iac3VjZcDYHf"
   },
   "source": [
    "# [1]. Reading Data"
   ]
  },
  {
   "cell_type": "markdown",
   "metadata": {
    "colab_type": "text",
    "id": "wEsMRzNDDYHi"
   },
   "source": [
    "## [1.1] Loading the data\n",
    "\n",
    "The dataset is available in two forms\n",
    "1. .csv file\n",
    "2. SQLite Database\n",
    "\n",
    "In order to load the data, We have used the SQLITE dataset as it is easier to query the data and visualise the data efficiently.\n",
    "<br> \n",
    "\n",
    "Here as we only want to get the global sentiment of the recommendations (positive or negative), we will purposefully ignore all Scores equal to 3. If the score is above 3, then the recommendation wil be set to \"positive\". Otherwise, it will be set to \"negative\"."
   ]
  },
  {
   "cell_type": "code",
   "execution_count": 1,
   "metadata": {
    "colab": {},
    "colab_type": "code",
    "id": "ADl9geUvDYHl"
   },
   "outputs": [
    {
     "name": "stderr",
     "output_type": "stream",
     "text": [
      "C:\\Anaconda3\\lib\\site-packages\\gensim\\utils.py:1197: UserWarning: detected Windows; aliasing chunkize to chunkize_serial\n",
      "  warnings.warn(\"detected Windows; aliasing chunkize to chunkize_serial\")\n"
     ]
    }
   ],
   "source": [
    "%matplotlib inline\n",
    "import warnings\n",
    "warnings.filterwarnings(\"ignore\")\n",
    "\n",
    "\n",
    "import sqlite3\n",
    "import pandas as pd\n",
    "import numpy as np\n",
    "import nltk\n",
    "import string\n",
    "import matplotlib.pyplot as plt\n",
    "import seaborn as sns\n",
    "from sklearn.feature_extraction.text import TfidfTransformer\n",
    "from sklearn.feature_extraction.text import TfidfVectorizer\n",
    "\n",
    "from sklearn.feature_extraction.text import CountVectorizer\n",
    "from sklearn.metrics import confusion_matrix\n",
    "from sklearn import metrics\n",
    "from sklearn.metrics import roc_curve, auc\n",
    "from nltk.stem.porter import PorterStemmer\n",
    "\n",
    "import re\n",
    "# Tutorial about Python regular expressions: https://pymotw.com/2/re/\n",
    "import string\n",
    "from nltk.corpus import stopwords\n",
    "from nltk.stem import PorterStemmer\n",
    "from nltk.stem.wordnet import WordNetLemmatizer\n",
    "\n",
    "from gensim.models import Word2Vec\n",
    "from gensim.models import KeyedVectors\n",
    "import pickle\n",
    "\n",
    "from tqdm import tqdm\n",
    "import os\n",
    "from sklearn.neighbors import KNeighborsClassifier\n",
    "from sklearn import datasets, neighbors\n",
    "from sklearn.model_selection import train_test_split\n",
    "from sklearn.model_selection import cross_val_score\n",
    "from sklearn.neighbors import KNeighborsClassifier\n",
    "from sklearn.metrics import accuracy_score\n",
    "from collections import Counter\n",
    "from sklearn.metrics import accuracy_score\n",
    "from sklearn.metrics import classification_report\n",
    "from sklearn.preprocessing import StandardScaler\n"
   ]
  },
  {
   "cell_type": "code",
   "execution_count": 2,
   "metadata": {
    "colab": {},
    "colab_type": "code",
    "id": "9pO69buUDYHz",
    "outputId": "00371235-7840-4a31-be63-4945d6cbbb2e"
   },
   "outputs": [
    {
     "name": "stdout",
     "output_type": "stream",
     "text": [
      "Number of data points in our data (100000, 10)\n"
     ]
    },
    {
     "data": {
      "text/html": [
       "<div>\n",
       "<style scoped>\n",
       "    .dataframe tbody tr th:only-of-type {\n",
       "        vertical-align: middle;\n",
       "    }\n",
       "\n",
       "    .dataframe tbody tr th {\n",
       "        vertical-align: top;\n",
       "    }\n",
       "\n",
       "    .dataframe thead th {\n",
       "        text-align: right;\n",
       "    }\n",
       "</style>\n",
       "<table border=\"1\" class=\"dataframe\">\n",
       "  <thead>\n",
       "    <tr style=\"text-align: right;\">\n",
       "      <th></th>\n",
       "      <th>Id</th>\n",
       "      <th>ProductId</th>\n",
       "      <th>UserId</th>\n",
       "      <th>ProfileName</th>\n",
       "      <th>HelpfulnessNumerator</th>\n",
       "      <th>HelpfulnessDenominator</th>\n",
       "      <th>Score</th>\n",
       "      <th>Time</th>\n",
       "      <th>Summary</th>\n",
       "      <th>Text</th>\n",
       "    </tr>\n",
       "  </thead>\n",
       "  <tbody>\n",
       "    <tr>\n",
       "      <td>0</td>\n",
       "      <td>10</td>\n",
       "      <td>B00171APVA</td>\n",
       "      <td>A21BT40VZCCYT4</td>\n",
       "      <td>Carol A. Reed</td>\n",
       "      <td>0</td>\n",
       "      <td>0</td>\n",
       "      <td>1</td>\n",
       "      <td>1351209600</td>\n",
       "      <td>Healthy Dog Food</td>\n",
       "      <td>This is a very healthy dog food. Good for thei...</td>\n",
       "    </tr>\n",
       "    <tr>\n",
       "      <td>1</td>\n",
       "      <td>1089</td>\n",
       "      <td>B004FD13RW</td>\n",
       "      <td>A1BPLP0BKERV</td>\n",
       "      <td>Paul</td>\n",
       "      <td>0</td>\n",
       "      <td>0</td>\n",
       "      <td>1</td>\n",
       "      <td>1351209600</td>\n",
       "      <td>It is awesome.</td>\n",
       "      <td>My partner is very happy with the tea, and is ...</td>\n",
       "    </tr>\n",
       "    <tr>\n",
       "      <td>2</td>\n",
       "      <td>5703</td>\n",
       "      <td>B009WSNWC4</td>\n",
       "      <td>AMP7K1O84DH1T</td>\n",
       "      <td>ESTY</td>\n",
       "      <td>0</td>\n",
       "      <td>0</td>\n",
       "      <td>1</td>\n",
       "      <td>1351209600</td>\n",
       "      <td>DELICIOUS</td>\n",
       "      <td>Purchased this product at a local store in NY ...</td>\n",
       "    </tr>\n",
       "    <tr>\n",
       "      <td>3</td>\n",
       "      <td>5924</td>\n",
       "      <td>B00523NRVO</td>\n",
       "      <td>A2JDXKFZ0PFHKU</td>\n",
       "      <td>James W. Shondel</td>\n",
       "      <td>0</td>\n",
       "      <td>0</td>\n",
       "      <td>1</td>\n",
       "      <td>1351209600</td>\n",
       "      <td>The perfect pop!</td>\n",
       "      <td>These lollipops are are well done, look exactl...</td>\n",
       "    </tr>\n",
       "    <tr>\n",
       "      <td>4</td>\n",
       "      <td>7178</td>\n",
       "      <td>B004OQLIHK</td>\n",
       "      <td>AKHQMSUORSA91</td>\n",
       "      <td>Pen Name</td>\n",
       "      <td>0</td>\n",
       "      <td>0</td>\n",
       "      <td>1</td>\n",
       "      <td>1351209600</td>\n",
       "      <td>Delicious!</td>\n",
       "      <td>I have ordered these raisins multiple times.  ...</td>\n",
       "    </tr>\n",
       "  </tbody>\n",
       "</table>\n",
       "</div>"
      ],
      "text/plain": [
       "     Id   ProductId          UserId       ProfileName  HelpfulnessNumerator  \\\n",
       "0    10  B00171APVA  A21BT40VZCCYT4     Carol A. Reed                     0   \n",
       "1  1089  B004FD13RW    A1BPLP0BKERV              Paul                     0   \n",
       "2  5703  B009WSNWC4   AMP7K1O84DH1T              ESTY                     0   \n",
       "3  5924  B00523NRVO  A2JDXKFZ0PFHKU  James W. Shondel                     0   \n",
       "4  7178  B004OQLIHK   AKHQMSUORSA91          Pen Name                     0   \n",
       "\n",
       "   HelpfulnessDenominator  Score        Time           Summary  \\\n",
       "0                       0      1  1351209600  Healthy Dog Food   \n",
       "1                       0      1  1351209600    It is awesome.   \n",
       "2                       0      1  1351209600         DELICIOUS   \n",
       "3                       0      1  1351209600  The perfect pop!   \n",
       "4                       0      1  1351209600        Delicious!   \n",
       "\n",
       "                                                Text  \n",
       "0  This is a very healthy dog food. Good for thei...  \n",
       "1  My partner is very happy with the tea, and is ...  \n",
       "2  Purchased this product at a local store in NY ...  \n",
       "3  These lollipops are are well done, look exactl...  \n",
       "4  I have ordered these raisins multiple times.  ...  "
      ]
     },
     "execution_count": 2,
     "metadata": {},
     "output_type": "execute_result"
    }
   ],
   "source": [
    "\n",
    "# using the SQLite Table to read data.\n",
    "con = sqlite3.connect('database.sqlite') \n",
    "#filtering only positive and negative reviews i.e. \n",
    "# not taking into consideration those reviews with Score=3\n",
    "# SELECT * FROM Reviews WHERE Score != 3 LIMIT 500000, will give top 500000 data points\n",
    "# you can change the number to any other number based on your computing power\n",
    "\n",
    "# filtered_data = pd.read_sql_query(\"\"\" SELECT * FROM Reviews WHERE Score != 3 LIMIT 500000\"\"\", con) \n",
    "# for tsne assignment you can take 5k data points\n",
    "\n",
    "filtered_data = pd.read_sql_query(\"\"\" SELECT * FROM Reviews WHERE Score != 3 ORDER BY TIME DESC LIMIT 100000\"\"\", con) \n",
    "\n",
    "# Give reviews with Score>3 a positive rating, and reviews with a score<3 a negative rating.\n",
    "def partition(x):\n",
    "    if x < 3:\n",
    "        return 0\n",
    "    return 1\n",
    "\n",
    "#changing reviews with score less than 3 to be positive and vice-versa\n",
    "ActualScore = filtered_data['Score']\n",
    "positiveNegative = ActualScore.map(partition) \n",
    "filtered_data['Score'] = positiveNegative\n",
    "print(\"Number of data points in our data\", filtered_data.shape)\n",
    "filtered_data.head(5)"
   ]
  },
  {
   "cell_type": "code",
   "execution_count": 3,
   "metadata": {
    "colab": {},
    "colab_type": "code",
    "id": "bDrGXaolDYIH"
   },
   "outputs": [],
   "source": [
    "display = pd.read_sql_query(\"\"\"\n",
    "SELECT UserId, ProductId, ProfileName, Time, Score, Text, COUNT(*)\n",
    "FROM Reviews\n",
    "GROUP BY UserId\n",
    "HAVING COUNT(*)>1\n",
    "\"\"\", con)"
   ]
  },
  {
   "cell_type": "code",
   "execution_count": 4,
   "metadata": {
    "colab": {},
    "colab_type": "code",
    "id": "Jj-M3g0FDYIj",
    "outputId": "2c700ad5-02ad-4f43-a532-fb847609043e",
    "scrolled": true
   },
   "outputs": [
    {
     "name": "stdout",
     "output_type": "stream",
     "text": [
      "(80668, 7)\n"
     ]
    },
    {
     "data": {
      "text/html": [
       "<div>\n",
       "<style scoped>\n",
       "    .dataframe tbody tr th:only-of-type {\n",
       "        vertical-align: middle;\n",
       "    }\n",
       "\n",
       "    .dataframe tbody tr th {\n",
       "        vertical-align: top;\n",
       "    }\n",
       "\n",
       "    .dataframe thead th {\n",
       "        text-align: right;\n",
       "    }\n",
       "</style>\n",
       "<table border=\"1\" class=\"dataframe\">\n",
       "  <thead>\n",
       "    <tr style=\"text-align: right;\">\n",
       "      <th></th>\n",
       "      <th>UserId</th>\n",
       "      <th>ProductId</th>\n",
       "      <th>ProfileName</th>\n",
       "      <th>Time</th>\n",
       "      <th>Score</th>\n",
       "      <th>Text</th>\n",
       "      <th>COUNT(*)</th>\n",
       "    </tr>\n",
       "  </thead>\n",
       "  <tbody>\n",
       "    <tr>\n",
       "      <td>0</td>\n",
       "      <td>#oc-R115TNMSPFT9I7</td>\n",
       "      <td>B007Y59HVM</td>\n",
       "      <td>Breyton</td>\n",
       "      <td>1331510400</td>\n",
       "      <td>2</td>\n",
       "      <td>Overall its just OK when considering the price...</td>\n",
       "      <td>2</td>\n",
       "    </tr>\n",
       "    <tr>\n",
       "      <td>1</td>\n",
       "      <td>#oc-R11D9D7SHXIJB9</td>\n",
       "      <td>B005HG9ET0</td>\n",
       "      <td>Louis E. Emory \"hoppy\"</td>\n",
       "      <td>1342396800</td>\n",
       "      <td>5</td>\n",
       "      <td>My wife has recurring extreme muscle spasms, u...</td>\n",
       "      <td>3</td>\n",
       "    </tr>\n",
       "    <tr>\n",
       "      <td>2</td>\n",
       "      <td>#oc-R11DNU2NBKQ23Z</td>\n",
       "      <td>B007Y59HVM</td>\n",
       "      <td>Kim Cieszykowski</td>\n",
       "      <td>1348531200</td>\n",
       "      <td>1</td>\n",
       "      <td>This coffee is horrible and unfortunately not ...</td>\n",
       "      <td>2</td>\n",
       "    </tr>\n",
       "    <tr>\n",
       "      <td>3</td>\n",
       "      <td>#oc-R11O5J5ZVQE25C</td>\n",
       "      <td>B005HG9ET0</td>\n",
       "      <td>Penguin Chick</td>\n",
       "      <td>1346889600</td>\n",
       "      <td>5</td>\n",
       "      <td>This will be the bottle that you grab from the...</td>\n",
       "      <td>3</td>\n",
       "    </tr>\n",
       "    <tr>\n",
       "      <td>4</td>\n",
       "      <td>#oc-R12KPBODL2B5ZD</td>\n",
       "      <td>B007OSBE1U</td>\n",
       "      <td>Christopher P. Presta</td>\n",
       "      <td>1348617600</td>\n",
       "      <td>1</td>\n",
       "      <td>I didnt like this coffee. Instead of telling y...</td>\n",
       "      <td>2</td>\n",
       "    </tr>\n",
       "  </tbody>\n",
       "</table>\n",
       "</div>"
      ],
      "text/plain": [
       "               UserId   ProductId             ProfileName        Time  Score  \\\n",
       "0  #oc-R115TNMSPFT9I7  B007Y59HVM                 Breyton  1331510400      2   \n",
       "1  #oc-R11D9D7SHXIJB9  B005HG9ET0  Louis E. Emory \"hoppy\"  1342396800      5   \n",
       "2  #oc-R11DNU2NBKQ23Z  B007Y59HVM        Kim Cieszykowski  1348531200      1   \n",
       "3  #oc-R11O5J5ZVQE25C  B005HG9ET0           Penguin Chick  1346889600      5   \n",
       "4  #oc-R12KPBODL2B5ZD  B007OSBE1U   Christopher P. Presta  1348617600      1   \n",
       "\n",
       "                                                Text  COUNT(*)  \n",
       "0  Overall its just OK when considering the price...         2  \n",
       "1  My wife has recurring extreme muscle spasms, u...         3  \n",
       "2  This coffee is horrible and unfortunately not ...         2  \n",
       "3  This will be the bottle that you grab from the...         3  \n",
       "4  I didnt like this coffee. Instead of telling y...         2  "
      ]
     },
     "execution_count": 4,
     "metadata": {},
     "output_type": "execute_result"
    }
   ],
   "source": [
    "print(display.shape)\n",
    "display.head() #BY DEFAULT IT DISPLAY 5 ROWS"
   ]
  },
  {
   "cell_type": "code",
   "execution_count": 5,
   "metadata": {
    "colab": {},
    "colab_type": "code",
    "id": "eAG-AQpWDYIx",
    "outputId": "889e7973-47ab-423b-fd10-ee5058498ad0"
   },
   "outputs": [
    {
     "data": {
      "text/html": [
       "<div>\n",
       "<style scoped>\n",
       "    .dataframe tbody tr th:only-of-type {\n",
       "        vertical-align: middle;\n",
       "    }\n",
       "\n",
       "    .dataframe tbody tr th {\n",
       "        vertical-align: top;\n",
       "    }\n",
       "\n",
       "    .dataframe thead th {\n",
       "        text-align: right;\n",
       "    }\n",
       "</style>\n",
       "<table border=\"1\" class=\"dataframe\">\n",
       "  <thead>\n",
       "    <tr style=\"text-align: right;\">\n",
       "      <th></th>\n",
       "      <th>UserId</th>\n",
       "      <th>ProductId</th>\n",
       "      <th>ProfileName</th>\n",
       "      <th>Time</th>\n",
       "      <th>Score</th>\n",
       "      <th>Text</th>\n",
       "      <th>COUNT(*)</th>\n",
       "    </tr>\n",
       "  </thead>\n",
       "  <tbody>\n",
       "    <tr>\n",
       "      <td>80638</td>\n",
       "      <td>AZY10LLTJ71NX</td>\n",
       "      <td>B006P7E5ZI</td>\n",
       "      <td>undertheshrine \"undertheshrine\"</td>\n",
       "      <td>1334707200</td>\n",
       "      <td>5</td>\n",
       "      <td>I was recommended to try green tea extract to ...</td>\n",
       "      <td>5</td>\n",
       "    </tr>\n",
       "  </tbody>\n",
       "</table>\n",
       "</div>"
      ],
      "text/plain": [
       "              UserId   ProductId                      ProfileName        Time  \\\n",
       "80638  AZY10LLTJ71NX  B006P7E5ZI  undertheshrine \"undertheshrine\"  1334707200   \n",
       "\n",
       "       Score                                               Text  COUNT(*)  \n",
       "80638      5  I was recommended to try green tea extract to ...         5  "
      ]
     },
     "execution_count": 5,
     "metadata": {},
     "output_type": "execute_result"
    }
   ],
   "source": [
    "display[display['UserId']=='AZY10LLTJ71NX']"
   ]
  },
  {
   "cell_type": "code",
   "execution_count": 6,
   "metadata": {
    "colab": {},
    "colab_type": "code",
    "id": "3qBpPZKaDYI7",
    "outputId": "375dd0be-186a-4b00-8594-06fb20ded08a"
   },
   "outputs": [
    {
     "data": {
      "text/plain": [
       "393063"
      ]
     },
     "execution_count": 6,
     "metadata": {},
     "output_type": "execute_result"
    }
   ],
   "source": [
    "display['COUNT(*)'].sum()"
   ]
  },
  {
   "cell_type": "markdown",
   "metadata": {
    "colab_type": "text",
    "id": "G1rTdPsqDYJI"
   },
   "source": [
    "#  [2] Exploratory Data Analysis"
   ]
  },
  {
   "cell_type": "markdown",
   "metadata": {
    "colab_type": "text",
    "id": "Wh5RH-NsDYJJ"
   },
   "source": [
    "## [2.1] Data Cleaning: Deduplication\n",
    "\n",
    "It is observed (as shown in the table below) that the reviews data had many duplicate entries. Hence it was necessary to remove duplicates in order to get unbiased results for the analysis of the data.  Following is an example:"
   ]
  },
  {
   "cell_type": "code",
   "execution_count": 7,
   "metadata": {
    "colab": {},
    "colab_type": "code",
    "id": "EUF69tvsDYJO",
    "outputId": "d08434a0-b58a-4d4a-db71-729bbb1539e5",
    "scrolled": false
   },
   "outputs": [
    {
     "data": {
      "text/html": [
       "<div>\n",
       "<style scoped>\n",
       "    .dataframe tbody tr th:only-of-type {\n",
       "        vertical-align: middle;\n",
       "    }\n",
       "\n",
       "    .dataframe tbody tr th {\n",
       "        vertical-align: top;\n",
       "    }\n",
       "\n",
       "    .dataframe thead th {\n",
       "        text-align: right;\n",
       "    }\n",
       "</style>\n",
       "<table border=\"1\" class=\"dataframe\">\n",
       "  <thead>\n",
       "    <tr style=\"text-align: right;\">\n",
       "      <th></th>\n",
       "      <th>Id</th>\n",
       "      <th>ProductId</th>\n",
       "      <th>UserId</th>\n",
       "      <th>ProfileName</th>\n",
       "      <th>HelpfulnessNumerator</th>\n",
       "      <th>HelpfulnessDenominator</th>\n",
       "      <th>Score</th>\n",
       "      <th>Time</th>\n",
       "      <th>Summary</th>\n",
       "      <th>Text</th>\n",
       "    </tr>\n",
       "  </thead>\n",
       "  <tbody>\n",
       "    <tr>\n",
       "      <td>0</td>\n",
       "      <td>78445</td>\n",
       "      <td>B000HDL1RQ</td>\n",
       "      <td>AR5J8UI46CURR</td>\n",
       "      <td>Geetha Krishnan</td>\n",
       "      <td>2</td>\n",
       "      <td>2</td>\n",
       "      <td>5</td>\n",
       "      <td>1199577600</td>\n",
       "      <td>LOACKER QUADRATINI VANILLA WAFERS</td>\n",
       "      <td>DELICIOUS WAFERS. I FIND THAT EUROPEAN WAFERS ...</td>\n",
       "    </tr>\n",
       "    <tr>\n",
       "      <td>1</td>\n",
       "      <td>138317</td>\n",
       "      <td>B000HDOPYC</td>\n",
       "      <td>AR5J8UI46CURR</td>\n",
       "      <td>Geetha Krishnan</td>\n",
       "      <td>2</td>\n",
       "      <td>2</td>\n",
       "      <td>5</td>\n",
       "      <td>1199577600</td>\n",
       "      <td>LOACKER QUADRATINI VANILLA WAFERS</td>\n",
       "      <td>DELICIOUS WAFERS. I FIND THAT EUROPEAN WAFERS ...</td>\n",
       "    </tr>\n",
       "    <tr>\n",
       "      <td>2</td>\n",
       "      <td>138277</td>\n",
       "      <td>B000HDOPYM</td>\n",
       "      <td>AR5J8UI46CURR</td>\n",
       "      <td>Geetha Krishnan</td>\n",
       "      <td>2</td>\n",
       "      <td>2</td>\n",
       "      <td>5</td>\n",
       "      <td>1199577600</td>\n",
       "      <td>LOACKER QUADRATINI VANILLA WAFERS</td>\n",
       "      <td>DELICIOUS WAFERS. I FIND THAT EUROPEAN WAFERS ...</td>\n",
       "    </tr>\n",
       "    <tr>\n",
       "      <td>3</td>\n",
       "      <td>73791</td>\n",
       "      <td>B000HDOPZG</td>\n",
       "      <td>AR5J8UI46CURR</td>\n",
       "      <td>Geetha Krishnan</td>\n",
       "      <td>2</td>\n",
       "      <td>2</td>\n",
       "      <td>5</td>\n",
       "      <td>1199577600</td>\n",
       "      <td>LOACKER QUADRATINI VANILLA WAFERS</td>\n",
       "      <td>DELICIOUS WAFERS. I FIND THAT EUROPEAN WAFERS ...</td>\n",
       "    </tr>\n",
       "    <tr>\n",
       "      <td>4</td>\n",
       "      <td>155049</td>\n",
       "      <td>B000PAQ75C</td>\n",
       "      <td>AR5J8UI46CURR</td>\n",
       "      <td>Geetha Krishnan</td>\n",
       "      <td>2</td>\n",
       "      <td>2</td>\n",
       "      <td>5</td>\n",
       "      <td>1199577600</td>\n",
       "      <td>LOACKER QUADRATINI VANILLA WAFERS</td>\n",
       "      <td>DELICIOUS WAFERS. I FIND THAT EUROPEAN WAFERS ...</td>\n",
       "    </tr>\n",
       "  </tbody>\n",
       "</table>\n",
       "</div>"
      ],
      "text/plain": [
       "       Id   ProductId         UserId      ProfileName  HelpfulnessNumerator  \\\n",
       "0   78445  B000HDL1RQ  AR5J8UI46CURR  Geetha Krishnan                     2   \n",
       "1  138317  B000HDOPYC  AR5J8UI46CURR  Geetha Krishnan                     2   \n",
       "2  138277  B000HDOPYM  AR5J8UI46CURR  Geetha Krishnan                     2   \n",
       "3   73791  B000HDOPZG  AR5J8UI46CURR  Geetha Krishnan                     2   \n",
       "4  155049  B000PAQ75C  AR5J8UI46CURR  Geetha Krishnan                     2   \n",
       "\n",
       "   HelpfulnessDenominator  Score        Time  \\\n",
       "0                       2      5  1199577600   \n",
       "1                       2      5  1199577600   \n",
       "2                       2      5  1199577600   \n",
       "3                       2      5  1199577600   \n",
       "4                       2      5  1199577600   \n",
       "\n",
       "                             Summary  \\\n",
       "0  LOACKER QUADRATINI VANILLA WAFERS   \n",
       "1  LOACKER QUADRATINI VANILLA WAFERS   \n",
       "2  LOACKER QUADRATINI VANILLA WAFERS   \n",
       "3  LOACKER QUADRATINI VANILLA WAFERS   \n",
       "4  LOACKER QUADRATINI VANILLA WAFERS   \n",
       "\n",
       "                                                Text  \n",
       "0  DELICIOUS WAFERS. I FIND THAT EUROPEAN WAFERS ...  \n",
       "1  DELICIOUS WAFERS. I FIND THAT EUROPEAN WAFERS ...  \n",
       "2  DELICIOUS WAFERS. I FIND THAT EUROPEAN WAFERS ...  \n",
       "3  DELICIOUS WAFERS. I FIND THAT EUROPEAN WAFERS ...  \n",
       "4  DELICIOUS WAFERS. I FIND THAT EUROPEAN WAFERS ...  "
      ]
     },
     "execution_count": 7,
     "metadata": {},
     "output_type": "execute_result"
    }
   ],
   "source": [
    "display= pd.read_sql_query(\"\"\"\n",
    "SELECT *\n",
    "FROM Reviews\n",
    "WHERE Score != 3 AND UserId=\"AR5J8UI46CURR\"\n",
    "ORDER BY ProductID\n",
    "\"\"\", con)\n",
    "display.head()"
   ]
  },
  {
   "cell_type": "markdown",
   "metadata": {
    "colab_type": "text",
    "id": "cKrGPQEfDYJW"
   },
   "source": [
    "As it can be seen above that same user has multiple reviews with same values for HelpfulnessNumerator, HelpfulnessDenominator, Score, Time, Summary and Text and on doing analysis it was found that <br>\n",
    "<br> \n",
    "ProductId=B000HDOPZG was Loacker Quadratini Vanilla Wafer Cookies, 8.82-Ounce Packages (Pack of 8)<br>\n",
    "<br> \n",
    "ProductId=B000HDL1RQ was Loacker Quadratini Lemon Wafer Cookies, 8.82-Ounce Packages (Pack of 8) and so on<br>\n",
    "\n",
    "It was inferred after analysis that reviews with same parameters other than ProductId belonged to the same product just having different flavour or quantity. Hence in order to reduce redundancy it was decided to eliminate the rows having same parameters.<br>\n",
    "\n",
    "The method used for the same was that we first sort the data according to ProductId and then just keep the first similar product review and delelte the others. for eg. in the above just the review for ProductId=B000HDL1RQ remains. This method ensures that there is only one representative for each product and deduplication without sorting would lead to possibility of different representatives still existing for the same product."
   ]
  },
  {
   "cell_type": "code",
   "execution_count": 8,
   "metadata": {
    "colab": {},
    "colab_type": "code",
    "id": "eQWrz1nFDYJX"
   },
   "outputs": [],
   "source": [
    "#Sorting data according to ProductId in ascending order\n",
    "sorted_data=filtered_data.sort_values('ProductId', axis=0, ascending=True, inplace=False, kind='quicksort', na_position='last')"
   ]
  },
  {
   "cell_type": "code",
   "execution_count": 9,
   "metadata": {
    "colab": {},
    "colab_type": "code",
    "id": "4CS7fUdLDYJd",
    "outputId": "6fa1310c-c733-4bb5-9b0a-cbb72b05e086"
   },
   "outputs": [
    {
     "data": {
      "text/plain": [
       "(71551, 10)"
      ]
     },
     "execution_count": 9,
     "metadata": {},
     "output_type": "execute_result"
    }
   ],
   "source": [
    "#Deduplication of entries\n",
    "final=sorted_data.drop_duplicates(subset={\"UserId\",\"ProfileName\",\"Time\",\"Text\"}, keep='first', inplace=False)\n",
    "final.shape"
   ]
  },
  {
   "cell_type": "code",
   "execution_count": 10,
   "metadata": {},
   "outputs": [],
   "source": [
    "#Sorting data according to Time in descending order\n",
    "final=final.sort_values('Time', axis=0, ascending=True)"
   ]
  },
  {
   "cell_type": "code",
   "execution_count": 11,
   "metadata": {
    "colab": {},
    "colab_type": "code",
    "id": "Hcc_-CJMDYJk",
    "outputId": "8490fe52-8d00-4196-d0f4-5718b54f10e8"
   },
   "outputs": [
    {
     "data": {
      "text/plain": [
       "71.551"
      ]
     },
     "execution_count": 11,
     "metadata": {},
     "output_type": "execute_result"
    }
   ],
   "source": [
    "#Checking to see how much % of data still remains\n",
    "(final['Id'].size*1.0)/(filtered_data['Id'].size*1.0)*100"
   ]
  },
  {
   "cell_type": "markdown",
   "metadata": {
    "colab_type": "text",
    "id": "engwR6VNDYJq"
   },
   "source": [
    "<b>Observation:-</b> It was also seen that in two rows given below the value of HelpfulnessNumerator is greater than HelpfulnessDenominator which is not practically possible hence these two rows too are removed from calcualtions"
   ]
  },
  {
   "cell_type": "code",
   "execution_count": 12,
   "metadata": {
    "colab": {},
    "colab_type": "code",
    "id": "hjN7-OL_DYJt",
    "outputId": "5e4c5f88-4f27-42ca-e378-04cbc8e8d8d9"
   },
   "outputs": [
    {
     "data": {
      "text/html": [
       "<div>\n",
       "<style scoped>\n",
       "    .dataframe tbody tr th:only-of-type {\n",
       "        vertical-align: middle;\n",
       "    }\n",
       "\n",
       "    .dataframe tbody tr th {\n",
       "        vertical-align: top;\n",
       "    }\n",
       "\n",
       "    .dataframe thead th {\n",
       "        text-align: right;\n",
       "    }\n",
       "</style>\n",
       "<table border=\"1\" class=\"dataframe\">\n",
       "  <thead>\n",
       "    <tr style=\"text-align: right;\">\n",
       "      <th></th>\n",
       "      <th>Id</th>\n",
       "      <th>ProductId</th>\n",
       "      <th>UserId</th>\n",
       "      <th>ProfileName</th>\n",
       "      <th>HelpfulnessNumerator</th>\n",
       "      <th>HelpfulnessDenominator</th>\n",
       "      <th>Score</th>\n",
       "      <th>Time</th>\n",
       "      <th>Summary</th>\n",
       "      <th>Text</th>\n",
       "    </tr>\n",
       "  </thead>\n",
       "  <tbody>\n",
       "    <tr>\n",
       "      <td>0</td>\n",
       "      <td>64422</td>\n",
       "      <td>B000MIDROQ</td>\n",
       "      <td>A161DK06JJMCYF</td>\n",
       "      <td>J. E. Stephens \"Jeanne\"</td>\n",
       "      <td>3</td>\n",
       "      <td>1</td>\n",
       "      <td>5</td>\n",
       "      <td>1224892800</td>\n",
       "      <td>Bought This for My Son at College</td>\n",
       "      <td>My son loves spaghetti so I didn't hesitate or...</td>\n",
       "    </tr>\n",
       "    <tr>\n",
       "      <td>1</td>\n",
       "      <td>44737</td>\n",
       "      <td>B001EQ55RW</td>\n",
       "      <td>A2V0I904FH7ABY</td>\n",
       "      <td>Ram</td>\n",
       "      <td>3</td>\n",
       "      <td>2</td>\n",
       "      <td>4</td>\n",
       "      <td>1212883200</td>\n",
       "      <td>Pure cocoa taste with crunchy almonds inside</td>\n",
       "      <td>It was almost a 'love at first bite' - the per...</td>\n",
       "    </tr>\n",
       "  </tbody>\n",
       "</table>\n",
       "</div>"
      ],
      "text/plain": [
       "      Id   ProductId          UserId              ProfileName  \\\n",
       "0  64422  B000MIDROQ  A161DK06JJMCYF  J. E. Stephens \"Jeanne\"   \n",
       "1  44737  B001EQ55RW  A2V0I904FH7ABY                      Ram   \n",
       "\n",
       "   HelpfulnessNumerator  HelpfulnessDenominator  Score        Time  \\\n",
       "0                     3                       1      5  1224892800   \n",
       "1                     3                       2      4  1212883200   \n",
       "\n",
       "                                        Summary  \\\n",
       "0             Bought This for My Son at College   \n",
       "1  Pure cocoa taste with crunchy almonds inside   \n",
       "\n",
       "                                                Text  \n",
       "0  My son loves spaghetti so I didn't hesitate or...  \n",
       "1  It was almost a 'love at first bite' - the per...  "
      ]
     },
     "execution_count": 12,
     "metadata": {},
     "output_type": "execute_result"
    }
   ],
   "source": [
    "display= pd.read_sql_query(\"\"\"\n",
    "SELECT *\n",
    "FROM Reviews\n",
    "WHERE Score != 3 AND Id=44737 OR Id=64422\n",
    "ORDER BY ProductID\n",
    "\"\"\", con)\n",
    "\n",
    "display.head()"
   ]
  },
  {
   "cell_type": "code",
   "execution_count": 13,
   "metadata": {
    "colab": {},
    "colab_type": "code",
    "id": "Ezix6kJ_DYJ3"
   },
   "outputs": [],
   "source": [
    "final=final[final.HelpfulnessNumerator<=final.HelpfulnessDenominator]"
   ]
  },
  {
   "cell_type": "code",
   "execution_count": 14,
   "metadata": {
    "colab": {},
    "colab_type": "code",
    "id": "yWsVhvArDYJ9",
    "outputId": "0fd8ea32-ce27-4232-a7f1-880eb06ca956"
   },
   "outputs": [
    {
     "name": "stdout",
     "output_type": "stream",
     "text": [
      "(71551, 10)\n"
     ]
    },
    {
     "data": {
      "text/plain": [
       "1    59256\n",
       "0    12295\n",
       "Name: Score, dtype: int64"
      ]
     },
     "execution_count": 14,
     "metadata": {},
     "output_type": "execute_result"
    }
   ],
   "source": [
    "#Before starting the next phase of preprocessing lets see the number of entries left\n",
    "print(final.shape)\n",
    "Score=final['Score']\n",
    "#How many positive and negative reviews are present in our dataset?\n",
    "final['Score'].value_counts()"
   ]
  },
  {
   "cell_type": "markdown",
   "metadata": {
    "colab_type": "text",
    "id": "AoLxCQ-VDYKI"
   },
   "source": [
    "#  [3] Preprocessing"
   ]
  },
  {
   "cell_type": "markdown",
   "metadata": {
    "colab_type": "text",
    "id": "P7Zq_ToqDYKJ"
   },
   "source": [
    "## [3.1].  Preprocessing Review Text\n",
    "\n",
    "Now that we have finished deduplication our data requires some preprocessing before we go on further with analysis and making the prediction model.\n",
    "\n",
    "Hence in the Preprocessing phase we do the following in the order below:-\n",
    "\n",
    "1. Begin by removing the html tags\n",
    "2. Remove any punctuations or limited set of special characters like , or . or # etc.\n",
    "3. Check if the word is made up of english letters and is not alpha-numeric\n",
    "4. Check to see if the length of the word is greater than 2 (as it was researched that there is no adjective in 2-letters)\n",
    "5. Convert the word to lowercase\n",
    "6. Remove Stopwords\n",
    "7. Finally Snowball Stemming the word (it was obsereved to be better than Porter Stemming)<br>\n",
    "\n",
    "After which we collect the words used to describe positive and negative reviews"
   ]
  },
  {
   "cell_type": "code",
   "execution_count": 15,
   "metadata": {
    "colab": {},
    "colab_type": "code",
    "id": "3jw5g5yEDYKL",
    "outputId": "06d7bd61-438f-4319-a9f7-ecb2312f3dec"
   },
   "outputs": [
    {
     "name": "stdout",
     "output_type": "stream",
     "text": [
      "They are very good and I'm glad I ordered them.They taste a lot like tuna fish and u get all the omega 3 fatty nutrients.\n",
      "==================================================\n",
      "I love this litter and it is well worth the money.  First of all its light and I no longer have to lug heavy bags or boxes home from the store.  Even though it clumps well around my cat's waste, it can be shaken off and the waste disposed of in my toilet.  I do this every day.  There is absolutely no odor anymore and no more little pieces of cat litter and dust being tracked out of the box.  I wish I had known about this before but I'm grateful I know of it now.  My cat is fine with it and acts as though nothing has changed.  I give this 5 stars because there aren't more stars available.\n",
      "==================================================\n",
      "I bought this because it is a green product. However, it was more trouble then it worth. It's hard to scoop, needs frequent changing, it tracks worse around the house, and it does nothing to control the cat smell issue.\n",
      "==================================================\n",
      "I got a pack from my mother-in-law one day to eat as a snack at work.  It was really good.  They look like cookies, so you feel like you're eating something that's more fattening that it is.  I can't wait to try the blueberry.\n",
      "==================================================\n"
     ]
    }
   ],
   "source": [
    "# printing some random reviews\n",
    "sent_0 = final['Text'].values[0]\n",
    "print(sent_0)\n",
    "print(\"=\"*50)\n",
    "\n",
    "sent_1000 = final['Text'].values[1000]\n",
    "print(sent_1000)\n",
    "print(\"=\"*50)\n",
    "\n",
    "sent_1500 = final['Text'].values[1500]\n",
    "print(sent_1500)\n",
    "print(\"=\"*50)\n",
    "\n",
    "sent_4900 = final['Text'].values[4900]\n",
    "print(sent_4900)\n",
    "print(\"=\"*50)"
   ]
  },
  {
   "cell_type": "code",
   "execution_count": 16,
   "metadata": {
    "colab": {},
    "colab_type": "code",
    "id": "WloiOvL3DYKT",
    "outputId": "0a0a8f4b-1999-467d-ea4e-06c5280d3c17"
   },
   "outputs": [
    {
     "name": "stdout",
     "output_type": "stream",
     "text": [
      "They are very good and I'm glad I ordered them.They taste a lot like tuna fish and u get all the omega 3 fatty nutrients.\n"
     ]
    }
   ],
   "source": [
    "# remove urls from text python: https://stackoverflow.com/a/40823105/4084039\n",
    "sent_0 = re.sub(r\"http\\S+\", \"\", sent_0)\n",
    "sent_1000 = re.sub(r\"http\\S+\", \"\", sent_1000)\n",
    "sent_150 = re.sub(r\"http\\S+\", \"\", sent_1500)\n",
    "sent_4900 = re.sub(r\"http\\S+\", \"\", sent_4900)\n",
    "\n",
    "print(sent_0)"
   ]
  },
  {
   "cell_type": "code",
   "execution_count": 17,
   "metadata": {
    "colab": {},
    "colab_type": "code",
    "id": "SzCCi9tPDYKf",
    "outputId": "d01ec7e4-bcab-4639-e6d9-7ddbe80aaed1"
   },
   "outputs": [
    {
     "name": "stdout",
     "output_type": "stream",
     "text": [
      "They are very good and I'm glad I ordered them.They taste a lot like tuna fish and u get all the omega 3 fatty nutrients.\n",
      "==================================================\n",
      "I love this litter and it is well worth the money.  First of all its light and I no longer have to lug heavy bags or boxes home from the store.  Even though it clumps well around my cat's waste, it can be shaken off and the waste disposed of in my toilet.  I do this every day.  There is absolutely no odor anymore and no more little pieces of cat litter and dust being tracked out of the box.  I wish I had known about this before but I'm grateful I know of it now.  My cat is fine with it and acts as though nothing has changed.  I give this 5 stars because there aren't more stars available.\n",
      "==================================================\n",
      "I bought this because it is a green product. However, it was more trouble then it worth. It's hard to scoop, needs frequent changing, it tracks worse around the house, and it does nothing to control the cat smell issue.\n",
      "==================================================\n",
      "I got a pack from my mother-in-law one day to eat as a snack at work.  It was really good.  They look like cookies, so you feel like you're eating something that's more fattening that it is.  I can't wait to try the blueberry.\n"
     ]
    }
   ],
   "source": [
    "# https://stackoverflow.com/questions/16206380/python-beautifulsoup-how-to-remove-all-tags-from-an-element\n",
    "from bs4 import BeautifulSoup\n",
    "\n",
    "soup = BeautifulSoup(sent_0, 'lxml')\n",
    "text = soup.get_text()\n",
    "print(text)\n",
    "print(\"=\"*50)\n",
    "\n",
    "soup = BeautifulSoup(sent_1000, 'lxml')\n",
    "text = soup.get_text()\n",
    "print(text)\n",
    "print(\"=\"*50)\n",
    "\n",
    "soup = BeautifulSoup(sent_1500, 'lxml')\n",
    "text = soup.get_text()\n",
    "print(text)\n",
    "print(\"=\"*50)\n",
    "\n",
    "soup = BeautifulSoup(sent_4900, 'lxml')\n",
    "text = soup.get_text()\n",
    "print(text)"
   ]
  },
  {
   "cell_type": "code",
   "execution_count": 18,
   "metadata": {
    "colab": {},
    "colab_type": "code",
    "id": "vQ2mdt2jDYKo"
   },
   "outputs": [],
   "source": [
    "# https://stackoverflow.com/a/47091490/4084039\n",
    "import re\n",
    "\n",
    "def decontracted(phrase):\n",
    "    # specific\n",
    "    phrase = re.sub(r\"won't\", \"will not\", phrase)\n",
    "    phrase = re.sub(r\"can\\'t\", \"can not\", phrase)\n",
    "\n",
    "    # general\n",
    "    phrase = re.sub(r\"n\\'t\", \" not\", phrase)\n",
    "    phrase = re.sub(r\"\\'re\", \" are\", phrase)\n",
    "    phrase = re.sub(r\"\\'s\", \" is\", phrase)\n",
    "    phrase = re.sub(r\"\\'d\", \" would\", phrase)\n",
    "    phrase = re.sub(r\"\\'ll\", \" will\", phrase)\n",
    "    phrase = re.sub(r\"\\'t\", \" not\", phrase)\n",
    "    phrase = re.sub(r\"\\'ve\", \" have\", phrase)\n",
    "    phrase = re.sub(r\"\\'m\", \" am\", phrase)\n",
    "    return phrase"
   ]
  },
  {
   "cell_type": "code",
   "execution_count": 19,
   "metadata": {
    "colab": {},
    "colab_type": "code",
    "id": "GD5_8P5jDYKr",
    "outputId": "84eccfc3-59b4-45cc-805d-6397baa625fe"
   },
   "outputs": [
    {
     "name": "stdout",
     "output_type": "stream",
     "text": [
      "I bought this because it is a green product. However, it was more trouble then it worth. It is hard to scoop, needs frequent changing, it tracks worse around the house, and it does nothing to control the cat smell issue.\n",
      "==================================================\n"
     ]
    }
   ],
   "source": [
    "sent_1500 = decontracted(sent_1500)\n",
    "print(sent_1500)\n",
    "print(\"=\"*50)"
   ]
  },
  {
   "cell_type": "code",
   "execution_count": 20,
   "metadata": {
    "colab": {},
    "colab_type": "code",
    "id": "qTHM_mDnDYKx",
    "outputId": "997e9b00-4c34-44dc-ac7e-8e401a52f083"
   },
   "outputs": [
    {
     "name": "stdout",
     "output_type": "stream",
     "text": [
      "They are very good and I'm glad I ordered them.They taste a lot like tuna fish and u get all the omega  fatty nutrients.\n"
     ]
    }
   ],
   "source": [
    "#remove words with numbers python: https://stackoverflow.com/a/18082370/4084039\n",
    "sent_0 = re.sub(\"\\S*\\d\\S*\", \"\", sent_0).strip()\n",
    "print(sent_0)"
   ]
  },
  {
   "cell_type": "code",
   "execution_count": 21,
   "metadata": {
    "colab": {},
    "colab_type": "code",
    "id": "pXhZUMDzDYK6",
    "outputId": "3a80315a-1042-480b-fdfb-01c360a99823"
   },
   "outputs": [
    {
     "name": "stdout",
     "output_type": "stream",
     "text": [
      "I bought this because it is a green product However it was more trouble then it worth It is hard to scoop needs frequent changing it tracks worse around the house and it does nothing to control the cat smell issue \n"
     ]
    }
   ],
   "source": [
    "#remove spacial character: https://stackoverflow.com/a/5843547/4084039\n",
    "sent_1500 = re.sub('[^A-Za-z0-9]+', ' ', sent_1500)\n",
    "print(sent_1500)"
   ]
  },
  {
   "cell_type": "code",
   "execution_count": 22,
   "metadata": {
    "colab": {},
    "colab_type": "code",
    "id": "vZJNhKvKDYLA"
   },
   "outputs": [],
   "source": [
    "# https://gist.github.com/sebleier/554280\n",
    "# we are removing the words from the stop words list: 'no', 'nor', 'not'\n",
    "# <br /><br /> ==> after the above steps, we are getting \"br br\"\n",
    "# we are including them into stop words list\n",
    "# instead of <br /> if we have <br/> these tags would have revmoved in the 1st step\n",
    "\n",
    "stopwords= set(['br', 'the', 'i', 'me', 'my', 'myself', 'we', 'our', 'ours', 'ourselves', 'you', \"you're\", \"you've\",\\\n",
    "            \"you'll\", \"you'd\", 'your', 'yours', 'yourself', 'yourselves', 'he', 'him', 'his', 'himself', \\\n",
    "            'she', \"she's\", 'her', 'hers', 'herself', 'it', \"it's\", 'its', 'itself', 'they', 'them', 'their',\\\n",
    "            'theirs', 'themselves', 'what', 'which', 'who', 'whom', 'this', 'that', \"that'll\", 'these', 'those', \\\n",
    "            'am', 'is', 'are', 'was', 'were', 'be', 'been', 'being', 'have', 'has', 'had', 'having', 'do', 'does', \\\n",
    "            'did', 'doing', 'a', 'an', 'the', 'and', 'but', 'if', 'or', 'because', 'as', 'until', 'while', 'of', \\\n",
    "            'at', 'by', 'for', 'with', 'about', 'against', 'between', 'into', 'through', 'during', 'before', 'after',\\\n",
    "            'above', 'below', 'to', 'from', 'up', 'down', 'in', 'out', 'on', 'off', 'over', 'under', 'again', 'further',\\\n",
    "            'then', 'once', 'here', 'there', 'when', 'where', 'why', 'how', 'all', 'any', 'both', 'each', 'few', 'more',\\\n",
    "            'most', 'other', 'some', 'such', 'only', 'own', 'same', 'so', 'than', 'too', 'very', \\\n",
    "            's', 't', 'can', 'will', 'just', 'don', \"don't\", 'should', \"should've\", 'now', 'd', 'll', 'm', 'o', 're', \\\n",
    "            've', 'y', 'ain', 'aren', \"aren't\", 'couldn', \"couldn't\", 'didn', \"didn't\", 'doesn', \"doesn't\", 'hadn',\\\n",
    "            \"hadn't\", 'hasn', \"hasn't\", 'haven', \"haven't\", 'isn', \"isn't\", 'ma', 'mightn', \"mightn't\", 'mustn',\\\n",
    "            \"mustn't\", 'needn', \"needn't\", 'shan', \"shan't\", 'shouldn', \"shouldn't\", 'wasn', \"wasn't\", 'weren', \"weren't\", \\\n",
    "            'won', \"won't\", 'wouldn', \"wouldn't\"])"
   ]
  },
  {
   "cell_type": "code",
   "execution_count": 23,
   "metadata": {
    "colab": {},
    "colab_type": "code",
    "id": "1Rd8zIc8DYLF",
    "outputId": "33fd610b-9479-4f0e-bfd1-10e308b4b382"
   },
   "outputs": [
    {
     "name": "stderr",
     "output_type": "stream",
     "text": [
      "100%|██████████████████████████████████████████████████████████████████████████| 71551/71551 [00:58<00:00, 1219.95it/s]\n"
     ]
    }
   ],
   "source": [
    "# Combining all the above\n",
    "from tqdm import tqdm\n",
    "preprocessed_reviews = []\n",
    "# tqdm is for printing the status bar\n",
    "for sentance in tqdm(final['Text'].values):\n",
    "    sentance = re.sub(r\"http\\S+\", \"\", sentance)\n",
    "    sentance = BeautifulSoup(sentance, 'lxml').get_text()\n",
    "    sentance = decontracted(sentance)\n",
    "    sentance = re.sub(\"\\S*\\d\\S*\", \"\", sentance).strip()\n",
    "    sentance = re.sub('[^A-Za-z0-9]+', ' ', sentance)\n",
    "    # https://gist.github.com/sebleier/554280\n",
    "    sentance = ' '.join(word.lower() for word in sentance.split() if word.lower() not in stopwords)\n",
    "    preprocessed_reviews.append(sentance.strip())"
   ]
  },
  {
   "cell_type": "code",
   "execution_count": 24,
   "metadata": {
    "colab": {},
    "colab_type": "code",
    "id": "YBWzfi2NDYLL",
    "outputId": "479570d6-066b-4f7e-afe4-f6f21f19a95b"
   },
   "outputs": [
    {
     "name": "stdout",
     "output_type": "stream",
     "text": [
      "They are very good and I'm glad I ordered them.They taste a lot like tuna fish and u get all the omega  fatty nutrients.\n",
      "####\n",
      "good glad ordered taste lot like tuna fish u get omega fatty nutrients\n"
     ]
    }
   ],
   "source": [
    "#comparing the raw data and the preprocessed data:\n",
    "\n",
    "print(sent_0) \n",
    "print(\"####\")\n",
    "print(preprocessed_reviews[0])"
   ]
  },
  {
   "cell_type": "code",
   "execution_count": 25,
   "metadata": {
    "scrolled": true
   },
   "outputs": [
    {
     "data": {
      "text/plain": [
       "'bought green product however trouble worth hard scoop needs frequent changing tracks worse around house nothing control cat smell issue'"
      ]
     },
     "execution_count": 25,
     "metadata": {},
     "output_type": "execute_result"
    }
   ],
   "source": [
    "preprocessed_reviews[1500]"
   ]
  },
  {
   "cell_type": "code",
   "execution_count": 26,
   "metadata": {},
   "outputs": [
    {
     "name": "stdout",
     "output_type": "stream",
     "text": [
      "Sardines\n",
      "==================================================\n",
      "The best litter I've ever used!!!\n"
     ]
    }
   ],
   "source": [
    "# printing some random summary\n",
    "summ_0 = final['Summary'].values[0]\n",
    "print(summ_0)\n",
    "print(\"=\"*50)\n",
    "\n",
    "summ_1000 = final['Summary'].values[1000]\n",
    "print(summ_1000)"
   ]
  },
  {
   "cell_type": "code",
   "execution_count": 27,
   "metadata": {},
   "outputs": [
    {
     "name": "stderr",
     "output_type": "stream",
     "text": [
      "C:\\Anaconda3\\lib\\site-packages\\bs4\\__init__.py:219: UserWarning: \"b'...'\" looks like a filename, not markup. You should probably open this file and pass the filehandle into Beautiful Soup.\n",
      "  ' Beautiful Soup.' % markup)\n",
      "C:\\Anaconda3\\lib\\site-packages\\bs4\\__init__.py:219: UserWarning: \"b'...'\" looks like a filename, not markup. You should probably open this file and pass the filehandle into Beautiful Soup.\n",
      "  ' Beautiful Soup.' % markup)\n",
      "C:\\Anaconda3\\lib\\site-packages\\bs4\\__init__.py:219: UserWarning: \"b'.'\" looks like a filename, not markup. You should probably open this file and pass the filehandle into Beautiful Soup.\n",
      "  ' Beautiful Soup.' % markup)\n",
      "C:\\Anaconda3\\lib\\site-packages\\bs4\\__init__.py:219: UserWarning: \"b'...'\" looks like a filename, not markup. You should probably open this file and pass the filehandle into Beautiful Soup.\n",
      "  ' Beautiful Soup.' % markup)\n",
      "C:\\Anaconda3\\lib\\site-packages\\bs4\\__init__.py:219: UserWarning: \"b'...'\" looks like a filename, not markup. You should probably open this file and pass the filehandle into Beautiful Soup.\n",
      "  ' Beautiful Soup.' % markup)\n",
      "C:\\Anaconda3\\lib\\site-packages\\bs4\\__init__.py:219: UserWarning: \"b'...'\" looks like a filename, not markup. You should probably open this file and pass the filehandle into Beautiful Soup.\n",
      "  ' Beautiful Soup.' % markup)\n"
     ]
    }
   ],
   "source": [
    "## preprocessing the review summary to be use for feature engineering later. \n",
    "from tqdm import tqdm\n",
    "preprocessed_summary = []\n",
    "# tqdm is for printing the status bar\n",
    "for sentance in (final['Summary'].values):\n",
    "    sentance = re.sub(r\"http\\S+\", \"\", sentance)\n",
    "    sentance = BeautifulSoup(sentance, 'lxml').get_text()\n",
    "    sentance = decontracted(sentance)\n",
    "    sentance = re.sub(\"\\S*\\d\\S*\", \"\", sentance).strip()\n",
    "    sentance = re.sub('[^A-Za-z]+', ' ', sentance)\n",
    "    # https://gist.github.com/sebleier/554280\n",
    "    sentance = ' '.join(e.lower() for e in sentance.split() if e.lower() not in stopwords)\n",
    "    preprocessed_summary.append(sentance.strip())"
   ]
  },
  {
   "cell_type": "code",
   "execution_count": 28,
   "metadata": {},
   "outputs": [
    {
     "data": {
      "text/plain": [
       "'bad product'"
      ]
     },
     "execution_count": 28,
     "metadata": {},
     "output_type": "execute_result"
    }
   ],
   "source": [
    "preprocessed_summary[1500]"
   ]
  },
  {
   "cell_type": "markdown",
   "metadata": {
    "colab_type": "text",
    "id": "vSmZvNNZDYLi"
   },
   "source": [
    "# [4] Featurization"
   ]
  },
  {
   "cell_type": "markdown",
   "metadata": {},
   "source": [
    "#### Splitting the preprocessed_reviews data:"
   ]
  },
  {
   "cell_type": "code",
   "execution_count": 29,
   "metadata": {},
   "outputs": [],
   "source": [
    "Y = Score\n",
    "X= preprocessed_reviews"
   ]
  },
  {
   "cell_type": "code",
   "execution_count": 30,
   "metadata": {},
   "outputs": [
    {
     "data": {
      "text/plain": [
       "(71551,)"
      ]
     },
     "execution_count": 30,
     "metadata": {},
     "output_type": "execute_result"
    }
   ],
   "source": [
    "np.shape(X)"
   ]
  },
  {
   "cell_type": "code",
   "execution_count": 31,
   "metadata": {},
   "outputs": [],
   "source": [
    "# Slicing the Data X and Y into X_train, X_test, y_train and y_test in the ratio 70:30\n",
    "# making sure not to use train_test_split as it would randomly split points and disturb the sorting\n",
    "X_train= X[0:50086]\n",
    "X_test= X[50086:]\n",
    "y_train= Y[0:50086]\n",
    "y_test= Y[50086:]"
   ]
  },
  {
   "cell_type": "code",
   "execution_count": 32,
   "metadata": {},
   "outputs": [
    {
     "name": "stdout",
     "output_type": "stream",
     "text": [
      "(50086,) (50086,)\n",
      "(21465,) (21465,)\n"
     ]
    }
   ],
   "source": [
    "print(np.shape(X_train), np.shape(y_train))\n",
    "print(np.shape(X_test), np.shape(y_test))\n"
   ]
  },
  {
   "cell_type": "markdown",
   "metadata": {
    "colab_type": "text",
    "id": "zZs1QbloDYLk"
   },
   "source": [
    "## [4.1] BAG OF WORDS"
   ]
  },
  {
   "cell_type": "code",
   "execution_count": 82,
   "metadata": {
    "colab": {},
    "colab_type": "code",
    "id": "KGkxITLpDYLl",
    "outputId": "16064dd0-ec67-4bdc-eb91-bde23ac4377b"
   },
   "outputs": [
    {
     "name": "stdout",
     "output_type": "stream",
     "text": [
      "some feature names  ['aa', 'aaa', 'aaaa', 'aaaaa', 'aaaaaahhhhh', 'aaaaallll', 'aaaahhhhhhhhhhh', 'aaaannnnddd', 'aaah', 'aabout']\n",
      "==================================================\n",
      "the type of count vectorizer  <class 'scipy.sparse.csr.csr_matrix'>\n",
      "the number of unique words in X_train 42876\n",
      "==================================================\n",
      "After vectorizations\n",
      "(50086, 42876) (50086,)\n",
      "(21465, 42876) (21465,)\n"
     ]
    }
   ],
   "source": [
    "#BoW\n",
    "count_vect = CountVectorizer(dtype='float')\n",
    "count_vect.fit(X_train) # fit has to happen only on train data\n",
    "print(\"some feature names \", count_vect.get_feature_names()[:10])\n",
    "print('='*50)\n",
    "\n",
    "X_train_bow = count_vect.transform(X_train)\n",
    "X_test_bow = count_vect.transform(X_test)\n",
    "\n",
    "print(\"the type of count vectorizer \",type(X_train_bow))\n",
    "print(\"the number of unique words in X_train\",X_train_bow.shape[1])\n",
    "print('='*50)\n",
    "print(\"After vectorizations\")\n",
    "print(X_train_bow.shape, y_train.shape)\n",
    "print(X_test_bow.shape, y_test.shape)"
   ]
  },
  {
   "cell_type": "markdown",
   "metadata": {
    "colab_type": "text",
    "id": "_pcNUauJDYLr"
   },
   "source": [
    "## [4.2] Bi-Grams and n-Grams."
   ]
  },
  {
   "cell_type": "code",
   "execution_count": 34,
   "metadata": {
    "colab": {},
    "colab_type": "code",
    "id": "cM2SIgUvDYLt",
    "outputId": "6c8ccfed-f489-4347-99da-e9baff3625d0"
   },
   "outputs": [
    {
     "name": "stdout",
     "output_type": "stream",
     "text": [
      "==================================================\n",
      "the type of count vectorizer  <class 'scipy.sparse.csr.csr_matrix'>\n",
      "==================================================\n",
      "After vectorizations\n",
      "(50086, 5000) (50086,)\n",
      "(21465, 5000) (21465,)\n",
      "the number of unique words including both unigrams and bigrams in X_train  5000\n"
     ]
    }
   ],
   "source": [
    "#bi-gram, tri-gram and n-gram\n",
    "\n",
    "#removing stop words like \"not\" should be avoided before building n-grams\n",
    "# count_vect = CountVectorizer(ngram_range=(1,2))\n",
    "# please do read the CountVectorizer documentation http://scikit-learn.org/stable/modules/generated/sklearn.feature_extraction.text.CountVectorizer.html\n",
    "# you can choose these numebrs min_df=10, max_features=5000, of your choice\n",
    "count_vect = CountVectorizer(ngram_range=(1,2), min_df=10, max_features=5000) \n",
    "count_vect.fit(X_train)\n",
    "print('='*50)\n",
    "\n",
    "X_train_big = count_vect.transform(X_train)\n",
    "X_test_big = count_vect.transform(X_test)\n",
    "print(\"the type of count vectorizer \",type(X_train_big))\n",
    "print('='*50)\n",
    "\n",
    "print(\"After vectorizations\")\n",
    "print(X_train_big.shape, y_train.shape)\n",
    "print(X_test_big.shape, y_test.shape)\n",
    "\n",
    "print(\"the number of unique words including both unigrams and bigrams in X_train \", X_train_big.shape[1])"
   ]
  },
  {
   "cell_type": "markdown",
   "metadata": {
    "colab_type": "text",
    "id": "6bReCy__DYLx"
   },
   "source": [
    "## [4.3] TF-IDF"
   ]
  },
  {
   "cell_type": "code",
   "execution_count": 35,
   "metadata": {
    "colab": {},
    "colab_type": "code",
    "id": "hfpsAqaXDYLy",
    "outputId": "1c5e5547-33a4-4e6a-f47c-f38d2ce17a05",
    "scrolled": true
   },
   "outputs": [
    {
     "name": "stdout",
     "output_type": "stream",
     "text": [
      "==================================================\n",
      "the type of tf_idf_vect <class 'scipy.sparse.csr.csr_matrix'>\n",
      "==================================================\n",
      "After vectorizations\n",
      "(50086, 30052) (50086,)\n",
      "(21465, 30052) (21465,)\n",
      "==================================================\n",
      "The number of unique words in tf_idf_vect of X_train  30052\n"
     ]
    }
   ],
   "source": [
    "tf_idf_vect = TfidfVectorizer(ngram_range=(1,2), min_df=10)\n",
    "tf_idf_vect.fit(X_train)\n",
    "print('='*50)\n",
    "\n",
    "X_train_tfidf = tf_idf_vect.transform(X_train)\n",
    "X_test_tfidf = tf_idf_vect.transform(X_test)\n",
    "print(\"the type of tf_idf_vect\",type(X_train_big))\n",
    "print('='*50)\n",
    "\n",
    "print(\"After vectorizations\")\n",
    "print(X_train_tfidf.shape, y_train.shape)\n",
    "print(X_test_tfidf.shape, y_test.shape)\n",
    "print('='*50)\n",
    "print(\"The number of unique words in tf_idf_vect of X_train \", X_train_tfidf.shape[1])"
   ]
  },
  {
   "cell_type": "markdown",
   "metadata": {
    "colab_type": "text",
    "id": "9kpriSSvDYL8"
   },
   "source": [
    "## [4.4] Word2Vec"
   ]
  },
  {
   "cell_type": "code",
   "execution_count": 36,
   "metadata": {
    "colab": {},
    "colab_type": "code",
    "id": "zm7QLZ2jDYL-"
   },
   "outputs": [],
   "source": [
    "# Train your own Word2Vec model using your own text corpus\n",
    "i=0\n",
    "X_train_los=[]\n",
    "for sentance in X_train:\n",
    "    X_train_los.append(sentance.split())\n",
    "\n",
    "k=0\n",
    "X_test_los=[]\n",
    "for sentance in X_test:\n",
    "    X_test_los.append(sentance.split())"
   ]
  },
  {
   "cell_type": "code",
   "execution_count": 37,
   "metadata": {
    "colab": {},
    "colab_type": "code",
    "id": "mLAtDE_UDYMF",
    "outputId": "cb45d3d1-edd5-4fe3-925f-7cd88bf05161",
    "scrolled": true
   },
   "outputs": [
    {
     "name": "stdout",
     "output_type": "stream",
     "text": [
      "[('awesome', 0.8582444190979004), ('good', 0.83689284324646), ('fantastic', 0.8184249401092529), ('excellent', 0.7945510149002075), ('terrific', 0.7815141677856445), ('wonderful', 0.7721036076545715), ('perfect', 0.7643352746963501), ('fabulous', 0.7248638272285461), ('amazing', 0.7184268832206726), ('incredible', 0.6999317407608032)]\n",
      "==================================================\n",
      "[('good', 0.8182591199874878), ('excellent', 0.8066108822822571), ('wonderful', 0.7986730337142944), ('fantastic', 0.7562503218650818), ('awesome', 0.7537949681282043), ('perfect', 0.7229082584381104), ('amazing', 0.684680163860321), ('delicious', 0.6796684861183167), ('love', 0.655672013759613), ('decent', 0.6388846635818481)]\n"
     ]
    }
   ],
   "source": [
    "# min_count = 5 considers only words that occured atleast 5 times\n",
    "#Conveting X_train to w2v\n",
    "X_trainw2v=Word2Vec(X_train_los,min_count=5,size=50, workers=4)\n",
    "print(X_trainw2v.wv.most_similar('great'))\n",
    "print('='*50)\n",
    "\n",
    "\n",
    "X_testw2v=Word2Vec(X_test_los,min_count=5,size=50, workers=4)\n",
    "print(X_testw2v.wv.most_similar('great'))\n",
    "\n"
   ]
  },
  {
   "cell_type": "code",
   "execution_count": 38,
   "metadata": {},
   "outputs": [
    {
     "name": "stdout",
     "output_type": "stream",
     "text": [
      "number of words that occured minimum 5 times in X_train_w2v_words 13760\n",
      "==================================================\n",
      "number of words that occured minimum 5 times in X_train_w2v_words 8842\n",
      "==================================================\n"
     ]
    }
   ],
   "source": [
    "X_train_w2v_words = list(X_trainw2v.wv.vocab)\n",
    "print(\"number of words that occured minimum 5 times in X_train_w2v_words\",len(X_train_w2v_words))\n",
    "print('='*50)\n",
    "\n",
    "X_test_w2v_words = list(X_testw2v.wv.vocab)\n",
    "print(\"number of words that occured minimum 5 times in X_train_w2v_words\",len(X_test_w2v_words))\n",
    "print('='*50)"
   ]
  },
  {
   "cell_type": "markdown",
   "metadata": {
    "colab_type": "text",
    "id": "cse_ZlapDYMX"
   },
   "source": [
    "## [4.4.1] Converting text into vectors using Avg W2V, TFIDF-W2V"
   ]
  },
  {
   "cell_type": "markdown",
   "metadata": {
    "colab_type": "text",
    "id": "3H0BUlYEDYMY"
   },
   "source": [
    "#### [4.4.1.1] Avg W2v"
   ]
  },
  {
   "cell_type": "code",
   "execution_count": 39,
   "metadata": {
    "colab": {},
    "colab_type": "code",
    "id": "czBD_JcEDYMY",
    "outputId": "2bfa328d-04a0-45ae-ad72-25576c7edc3c",
    "scrolled": true
   },
   "outputs": [
    {
     "name": "stdout",
     "output_type": "stream",
     "text": [
      "50086\n",
      "50\n",
      "==================================================\n",
      "21465\n",
      "50\n"
     ]
    }
   ],
   "source": [
    "# average Word2Vec for X_TRAIN\n",
    "X_train_w2v= []; # the avg-w2v for each sentence/review is stored in this list\n",
    "for sent in X_train_los: # for each review/sentence in X_TRAIN\n",
    "    sent_vec = np.zeros(50) # as word vectors are of zero length 50, you might need to change this to 300 if you use google's w2v\n",
    "    cnt_words =0; # num of words with a valid vector in the sentence/review\n",
    "    for word in sent: # for each word in a review/sentence\n",
    "        if word in X_train_w2v_words:\n",
    "            vec = X_trainw2v.wv[word]\n",
    "            sent_vec += vec\n",
    "            cnt_words += 1\n",
    "    if cnt_words != 0:\n",
    "        sent_vec /= cnt_words\n",
    "    X_train_w2v.append(sent_vec)\n",
    "print(len(X_train_w2v))\n",
    "print(len(X_train_w2v[0]))\n",
    "print('='*50)\n",
    "\n",
    "\n",
    "# average Word2Vec for X_TEST\n",
    "X_test_w2v=[];\n",
    "for sent in X_test_los: \n",
    "    sent_vec = np.zeros(50) \n",
    "    cnt_words =0; \n",
    "    for word in sent:\n",
    "        if word in X_test_w2v_words:\n",
    "            vec = X_testw2v.wv[word]\n",
    "            sent_vec += vec\n",
    "            cnt_words += 1\n",
    "    if cnt_words != 0:\n",
    "        sent_vec /= cnt_words\n",
    "    X_test_w2v.append(sent_vec)\n",
    "print(len(X_test_w2v))\n",
    "print(len(X_test_w2v[0]))"
   ]
  },
  {
   "cell_type": "markdown",
   "metadata": {
    "colab_type": "text",
    "id": "ZKhyFyhmDYMd"
   },
   "source": [
    "#### [4.4.1.2] TFIDF weighted W2v"
   ]
  },
  {
   "cell_type": "code",
   "execution_count": 40,
   "metadata": {
    "colab": {},
    "colab_type": "code",
    "id": "2UmpXW92DYMe"
   },
   "outputs": [],
   "source": [
    "# Sentence = [\"abc def pqr\", \"def def def abc\", \"pqr pqr def\"]\n",
    "model = TfidfVectorizer()\n",
    "X_train_tfidf_los = model.fit(X_train)\n",
    "X_train_tfidf_feat = model.get_feature_names()\n",
    "# we are converting a dictionary with word as a key, and the idf as a value\n",
    "X_train_dictionary = dict(zip(X_train_tfidf_feat, list(X_train_tfidf_los.idf_)))\n",
    "\n",
    "\n",
    "model2 = TfidfVectorizer()\n",
    "X_test_tfidf_los = model2.fit(X_test)\n",
    "X_test_tfidf_feat = model2.get_feature_names()\n",
    "# we are converting a dictionary with word as a key, and the idf as a value\n",
    "X_test_dictionary = dict(zip(X_test_tfidf_feat, list(X_test_tfidf_los.idf_)))"
   ]
  },
  {
   "cell_type": "code",
   "execution_count": 42,
   "metadata": {
    "colab": {},
    "colab_type": "code",
    "id": "yJgfDSnUDYMk",
    "outputId": "fa3cabf4-d68c-482f-c37d-ae3ff4794bf1",
    "scrolled": true
   },
   "outputs": [
    {
     "name": "stderr",
     "output_type": "stream",
     "text": [
      "100%|████████████████████████████████████████████████████████████████████████████| 50086/50086 [11:13<00:00, 74.40it/s]\n",
      "100%|███████████████████████████████████████████████████████████████████████████| 21465/21465 [02:38<00:00, 135.59it/s]\n"
     ]
    }
   ],
   "source": [
    "# TF-IDF weighted Word2Vec for X_TRAIN, X_CV and X_test:\n",
    "# final_tf_idf is the sparse matrix with row= sentence, col=word and cell_val = tfidf\n",
    "X_train_tfidfw2v = []; # the tfidf-w2v for each sentence/review is stored in this list\n",
    "a=0;\n",
    "for sent in tqdm(X_train_los): # for each review/sentence \n",
    "    sent_vec = np.zeros(50) # as word vectors are of zero length\n",
    "    weight_sum =0; # num of words with a valid vector in the sentence/review\n",
    "    for word in sent: # for each word in a review/sentence\n",
    "        if word in X_train_w2v_words and word in X_train_tfidf_feat:\n",
    "            vec = X_trainw2v.wv[word]\n",
    "            tf_idf = X_train_dictionary[word]*(sent.count(word)/len(sent))\n",
    "            sent_vec += (vec * tf_idf)\n",
    "            weight_sum += tf_idf\n",
    "    if weight_sum != 0:\n",
    "        sent_vec /= weight_sum\n",
    "    X_train_tfidfw2v.append(sent_vec)\n",
    "    a += 1\n",
    "\n",
    "\n",
    "X_test_tfidfw2v = [];\n",
    "b=0;\n",
    "for sent in tqdm(X_test_los): \n",
    "    sent_vec = np.zeros(50)\n",
    "    weight_sum =0;\n",
    "    for word in sent: \n",
    "        if word in X_test_w2v_words and word in X_test_tfidf_feat:\n",
    "            vec = X_testw2v.wv[word]\n",
    "            tf_idf = X_test_dictionary[word]*(sent.count(word)/len(sent))\n",
    "            sent_vec += (vec * tf_idf)\n",
    "            weight_sum += tf_idf\n",
    "    if weight_sum != 0:\n",
    "        sent_vec /= weight_sum\n",
    "    X_test_tfidfw2v.append(sent_vec)\n",
    "    b += 1"
   ]
  },
  {
   "cell_type": "code",
   "execution_count": 41,
   "metadata": {},
   "outputs": [],
   "source": [
    "#pd.to_pickle(X_train_tfidfw2v,'Xtrain_tfidfw2v')\n",
    "#pd.to_pickle(X_test_tfidfw2v,'Xtest_tfidfw2v')\n",
    "X_train_tfidfw2v=pd.read_pickle('Xtrain_tfidfw2v')\n",
    "X_test_tfidfw2v=pd.read_pickle('Xtest_tfidfw2v')"
   ]
  },
  {
   "cell_type": "markdown",
   "metadata": {
    "colab_type": "text",
    "id": "grP7WVsuDYMp"
   },
   "source": [
    "# [5] Assignment 12: Apply Logistic Regression"
   ]
  },
  {
   "cell_type": "markdown",
   "metadata": {
    "colab_type": "text",
    "id": "ysQgMV4SDYMq"
   },
   "source": [
    "<ol>\n",
    "    <li><strong>Apply Logistic Regression on these feature sets</strong>\n",
    "        <ul>\n",
    "            <li><font color='red'>SET 1:</font>Review text, preprocessed one converted into vectors using (BOW)</li>\n",
    "            <li><font color='red'>SET 2:</font>Review text, preprocessed one converted into vectors using (TFIDF)</li>\n",
    "            <li><font color='red'>SET 3:</font>Review text, preprocessed one converted into vectors using (AVG W2v)</li>\n",
    "            <li><font color='red'>SET 4:</font>Review text, preprocessed one converted into vectors using (TFIDF W2v)</li>\n",
    "        </ul>\n",
    "    </li>\n",
    "    <br>\n",
    "    <li><strong>Hyper paramter tuning (find best hyper parameters corresponding the algorithm that you choose)</strong>\n",
    "        <ul>\n",
    "    <li>Find the best hyper parameter which will give the maximum <a href='https://www.appliedaicourse.com/course/applied-ai-course-online/lessons/receiver-operating-characteristic-curve-roc-curve-and-auc-1/'>AUC</a> value</li>\n",
    "    <li>Find the best hyper paramter using k-fold cross validation or simple cross validation data</li>\n",
    "    <li>Use gridsearch cv or randomsearch cv or you can also write your own for loops to do this task of hyperparameter tuning</li>          \n",
    "        </ul>\n",
    "    </li>\n",
    "    <br>\n",
    "    <li><strong>Pertubation Test</strong>\n",
    "        <ul>\n",
    "    <li>Get the weights W after fit your model with the data X i.e Train data.</li>\n",
    "    <li>Add a noise to the X (X' = X + e) and get the new data set X' (if X is a sparse\n",
    "matrix, X.data+=e)</li>\n",
    "    <li>Fit the model again on data X' and get the weights W'</li>\n",
    "    <li>Add a small eps value(to eliminate the divisible by zero error) to W and W’ i.e\n",
    "W=W+10^-6 and W’ = W’+10^-6</li>\n",
    "    <li>Now find the % change between W and W' (| (W-W') / (W) |)*100)</li>\n",
    "    <li>Calculate the 0th, 10th, 20th, 30th, ...100th percentiles, and observe any sudden rise in the values of percentage_change_vector</li>\n",
    "    <li> Ex: consider your 99th percentile is 1.3 and your 100th percentiles are 34.6, there is sudden rise from 1.3 to 34.6, now calculate the 99.1, 99.2, 99.3,..., 100th percentile values and get the proper value after which there is sudden rise the values, assume it is 2.5</li>\n",
    "            <li> Print the feature names whose % change is more than a threshold x(in our example it's 2.5)</li>\n",
    "        </ul>\n",
    "    </li>\n",
    "    <br>\n",
    "    <li><strong>Sparsity</strong>\n",
    "        <ul>\n",
    "    <li>Calculate sparsity on weight vector obtained after using L1 regularization</li>\n",
    "        </ul>\n",
    "    </li>\n",
    "    <br><font color='red'>NOTE: Do sparsity and multicollinearity for any one of the vectorizers. Bow or tf-idf is recommended.</font>\n",
    "    <br>\n",
    "    <br>\n",
    "    <li><strong>Feature importance</strong>\n",
    "        <ul>\n",
    "    <li>Get top 10 important features for both positive and negative classes separately.</li>\n",
    "        </ul>\n",
    "    </li>\n",
    "    <br>\n",
    "    <li><strong>Feature engineering</strong>\n",
    "        <ul>\n",
    "    <li>To increase the performance of your model, you can also experiment with with feature engineering like :</li>\n",
    "            <ul>\n",
    "            <li>Taking length of reviews as another feature.</li>\n",
    "            <li>Considering some features from review summary as well.</li>\n",
    "        </ul>\n",
    "        </ul>\n",
    "    </li>\n",
    "    <br>\n",
    "    <li><strong>Representation of results</strong>\n",
    "        <ul>\n",
    "    <li>You need to plot the performance of model both on train data and cross validation data for each hyper parameter, like shown in the figure.\n",
    "    <img src='train_cv_auc.JPG' width=300px></li>\n",
    "    <li>Once after you found the best hyper parameter, you need to train your model with it, and find the AUC on test data and plot the ROC curve on both train and test.\n",
    "    <img src='train_test_auc.JPG' width=300px></li>\n",
    "    <li>Along with plotting ROC curve, you need to print the <a href='https://www.appliedaicourse.com/course/applied-ai-course-online/lessons/confusion-matrix-tpr-fpr-fnr-tnr-1/'>confusion matrix</a> with predicted and original labels of test data points. Please visualize your confusion matrices using <a href='https://seaborn.pydata.org/generated/seaborn.heatmap.html'>seaborn heatmaps.\n",
    "    <img src='confusion_matrix.png' width=300px></li>\n",
    "        </ul>\n",
    "    </li>\n",
    "    <br>\n",
    "    <li><strong>Conclusion</strong>\n",
    "        <ul>\n",
    "    <li>You need to summarize the results at the end of the notebook, summarize it in the table format. To print out a table please refer to this prettytable library<a href='http://zetcode.com/python/prettytable/'>  link</a> \n",
    "        <img src='summary.JPG' width=400px>\n",
    "    </li>\n",
    "        </ul>\n",
    "</ol>"
   ]
  },
  {
   "cell_type": "markdown",
   "metadata": {
    "colab_type": "text",
    "id": "juYtRIKQDYMr"
   },
   "source": [
    "<h4><font color='red'>Note: Data Leakage</font></h4>\n",
    "\n",
    "1. There will be an issue of data-leakage if you vectorize the entire data and then split it into train/cv/test.\n",
    "2. To avoid the issue of data-leakag, make sure to split your data first and then vectorize it. \n",
    "3. While vectorizing your data, apply the method fit_transform() on you train data, and apply the method transform() on cv/test data.\n",
    "4. For more details please go through this <a href='https://soundcloud.com/applied-ai-course/leakage-bow-and-tfidf'>link.</a>"
   ]
  },
  {
   "cell_type": "markdown",
   "metadata": {
    "colab_type": "text",
    "id": "WEbTAOWHDYMu"
   },
   "source": [
    "## [5.1] Applying Logistic Regression:"
   ]
  },
  {
   "cell_type": "markdown",
   "metadata": {
    "colab_type": "text",
    "id": "ArO5fI7kDYMv"
   },
   "source": [
    "## [5.1] Logistic Regression on BOW,<font color='red'> SET 1</font>"
   ]
  },
  {
   "cell_type": "code",
   "execution_count": 89,
   "metadata": {
    "colab": {},
    "colab_type": "code",
    "id": "Rw_A_9pfDYMw"
   },
   "outputs": [],
   "source": [
    "# Please write all the code with proper documentation\n",
    "# Standadizing both X_TRAIN_BOW AND X_TEST_BOW\n",
    "Standard = StandardScaler(with_mean=False).fit(X_train_bow) # Fitting the Standardizer only to train data to avoid data leakage.\n",
    "X_train_bow_S = Standard.transform(X_train_bow)\n",
    "X_test_bow_S = Standard.transform(X_test_bow)"
   ]
  },
  {
   "cell_type": "code",
   "execution_count": 90,
   "metadata": {
    "scrolled": false
   },
   "outputs": [
    {
     "data": {
      "text/plain": [
       "<50086x42876 sparse matrix of type '<class 'numpy.float64'>'\n",
       "\twith 1672115 stored elements in Compressed Sparse Row format>"
      ]
     },
     "execution_count": 90,
     "metadata": {},
     "output_type": "execute_result"
    }
   ],
   "source": [
    "X_train_bow_S"
   ]
  },
  {
   "cell_type": "code",
   "execution_count": 91,
   "metadata": {},
   "outputs": [],
   "source": [
    "# https://scikit-learn.org/stable/modules/generated/sklearn.model_selection.GridSearchCV.html\n",
    "# Using Grid search method to find the optimal K.\n",
    "from sklearn.model_selection import GridSearchCV\n",
    "from sklearn.linear_model import LogisticRegression\n",
    "from sklearn.metrics import roc_auc_score\n",
    "logistic = LogisticRegression(penalty='l1', class_weight = 'balanced')\n",
    "c= [0.00001,0.0001,0.001,0.01,0.1,1,10,100,1000,10000,100000]\n",
    "# Here c is the hyperparameter and it is the inverse of lamda.\n",
    "C= [{'C':c}]\n",
    "clf = GridSearchCV(logistic, C, cv=3, scoring='roc_auc', return_train_score= True )\n",
    "clf= clf.fit(X_train_bow_S, y_train)"
   ]
  },
  {
   "cell_type": "code",
   "execution_count": 92,
   "metadata": {
    "scrolled": true
   },
   "outputs": [
    {
     "data": {
      "image/png": "[encoded data removed]",
      "text/plain": [
       "<Figure size 432x288 with 1 Axes>"
      ]
     },
     "metadata": {},
     "output_type": "display_data"
    }
   ],
   "source": [
    "#Plotting performance of model both on train data and cross validation, and finding the best optimum K.\n",
    "train_auc= clf.cv_results_['mean_train_score']\n",
    "train_auc_std= clf.cv_results_['std_train_score']\n",
    "cv_auc = clf.cv_results_['mean_test_score'] \n",
    "cv_auc_std= clf.cv_results_['std_test_score']\n",
    "\n",
    "plt.semilogx(c, train_auc, label='Train AUC')\n",
    "# this code is copied from here: https://stackoverflow.com/a/48803361/4084039\n",
    "plt.gca().fill_between(c,train_auc - train_auc_std,train_auc + train_auc_std,alpha=0.2,color='darkblue')\n",
    "\n",
    "plt.semilogx(c, cv_auc, label='CV AUC')\n",
    "# this code is copied from here: https://stackoverflow.com/a/48803361/4084039\n",
    "plt.gca().fill_between(c,cv_auc - cv_auc_std,cv_auc + cv_auc_std,alpha=0.2,color='darkorange')\n",
    "plt.legend()\n",
    "plt.xlabel(\"c: hyperparameter\")\n",
    "plt.ylabel(\"AUC\")\n",
    "plt.title(\"ERROR PLOTS\")\n",
    "plt.show()"
   ]
  },
  {
   "cell_type": "code",
   "execution_count": 93,
   "metadata": {
    "scrolled": false
   },
   "outputs": [
    {
     "name": "stdout",
     "output_type": "stream",
     "text": [
      "1e-05 0.5 0.5 0.0\n",
      "0.0001 0.5 0.5 0.0\n",
      "0.001 0.8628178414570922 0.860512252200116 0.002305589256976215\n",
      "0.01 0.982881532981201 0.9327432754735856 0.05013825750761536\n",
      "0.1 0.9996196378910492 0.918276774504854 0.08134286338619523\n",
      "1 0.9999959961943711 0.8958968398731693 0.10409915632120181\n",
      "10 0.9999982963617048 0.8856326288146021 0.11436566754710265\n",
      "100 0.9999982963617048 0.8710460166137273 0.12895227974797752\n",
      "1000 0.999998296361705 0.8522996258446567 0.14769867051704832\n",
      "10000 0.999998296361705 0.8412251481920007 0.15877314816970434\n",
      "100000 0.999998296361705 0.8352512579553008 0.16474703840640426\n"
     ]
    }
   ],
   "source": [
    "l=0\n",
    "for i in c:\n",
    "    print (i,train_auc[l],cv_auc[l],train_auc[l]-cv_auc[l] )\n",
    "    l+=1"
   ]
  },
  {
   "cell_type": "code",
   "execution_count": 94,
   "metadata": {},
   "outputs": [
    {
     "name": "stdout",
     "output_type": "stream",
     "text": [
      "LogisticRegression(C=0.01, class_weight='balanced', dual=False,\n",
      "                   fit_intercept=True, intercept_scaling=1, l1_ratio=None,\n",
      "                   max_iter=100, multi_class='warn', n_jobs=None, penalty='l1',\n",
      "                   random_state=None, solver='warn', tol=0.0001, verbose=0,\n",
      "                   warm_start=False)\n"
     ]
    }
   ],
   "source": [
    "print(clf.best_estimator_)"
   ]
  },
  {
   "cell_type": "code",
   "execution_count": 49,
   "metadata": {},
   "outputs": [],
   "source": [
    "# Taking best c as per the graph and best_estimator_ function.\n",
    "# c value here is inverse of lamda\n",
    "#\n",
    "#best_c=0.01 # lamda = 100"
   ]
  },
  {
   "cell_type": "code",
   "execution_count": 95,
   "metadata": {},
   "outputs": [
    {
     "data": {
      "image/png": "[encoded data removed]",
      "text/plain": [
       "<Figure size 432x288 with 1 Axes>"
      ]
     },
     "metadata": {},
     "output_type": "display_data"
    }
   ],
   "source": [
    "#training our model with the best optimal c, and find the AUC on test data and plot the ROC curve on both train and test.\n",
    "# Set class_weight = 'balanced' on your LR models. This is will not allow the dominant class to get an unfair advantage.\n",
    "LR = LogisticRegression(penalty='l1', C=0.01, class_weight = 'balanced')\n",
    "LR.fit(X_train_bow_S, y_train)\n",
    "# roc_auc_score(y_true, y_score) the 2nd parameter should be probability estimates of the positive class\n",
    "# not the predicted outputs\n",
    "\n",
    "train_fpr, train_tpr, thresholds = roc_curve(y_train, LR.predict_proba(X_train_bow_S)[:,1])\n",
    "test_fpr, test_tpr, thresholds = roc_curve(y_test, LR.predict_proba(X_test_bow_S)[:,1])\n",
    "\n",
    "plt.plot(train_fpr, train_tpr, label=\"train AUC =\"+str(auc(train_fpr, train_tpr)))\n",
    "plt.plot(test_fpr, test_tpr, label=\"test AUC =\"+str(auc(test_fpr, test_tpr)))\n",
    "plt.legend()\n",
    "plt.xlabel(\"FPR\")\n",
    "plt.ylabel(\"TPR\")\n",
    "plt.title(\"ROC curve\")\n",
    "plt.show()"
   ]
  },
  {
   "cell_type": "code",
   "execution_count": 96,
   "metadata": {
    "scrolled": false
   },
   "outputs": [
    {
     "name": "stdout",
     "output_type": "stream",
     "text": [
      "Train confusion matrix\n"
     ]
    },
    {
     "data": {
      "image/png": "[encoded data removed]",
      "text/plain": [
       "<Figure size 432x288 with 2 Axes>"
      ]
     },
     "metadata": {},
     "output_type": "display_data"
    },
    {
     "name": "stdout",
     "output_type": "stream",
     "text": [
      "Test confusion matrix\n"
     ]
    },
    {
     "data": {
      "image/png": "[encoded data removed]",
      "text/plain": [
       "<Figure size 432x288 with 2 Axes>"
      ]
     },
     "metadata": {},
     "output_type": "display_data"
    }
   ],
   "source": [
    "# Confusion matrix\n",
    "print(\"Train confusion matrix\")\n",
    "matrix_train= confusion_matrix(y_train, LR.predict(X_train_bow_S))\n",
    "index = ['negative', 'positive']  \n",
    "columns = ['negative', 'positive']\n",
    "df_matrix_train = pd.DataFrame(matrix_train,columns,index)\n",
    "sns.heatmap(df_matrix_train, annot=True, fmt='d')\n",
    "plt.title(\"Confusion Matrix\") \n",
    "plt.xlabel(\"Predicted\")\n",
    "plt.ylabel(\"Actual\")\n",
    "plt.show()\n",
    "\n",
    "print(\"Test confusion matrix\")\n",
    "matrix_test= confusion_matrix(y_test, LR.predict(X_test_bow_S))\n",
    "index = ['negative', 'positive']  \n",
    "columns = ['negative', 'positive']\n",
    "df_matrix_test = pd.DataFrame(matrix_test,columns,index)\n",
    "sns.heatmap(df_matrix_test, annot=True, fmt='d')\n",
    "plt.title(\"Confusion Matrix\") \n",
    "plt.xlabel(\"Predicted\")\n",
    "plt.ylabel(\"Actual\")\n",
    "plt.show()"
   ]
  },
  {
   "cell_type": "markdown",
   "metadata": {},
   "source": [
    "#### [5.1.1.1] Calculating sparsity on weight vector obtained using L1 regularization on BOW,<font color='red'> SET 1</font>"
   ]
  },
  {
   "cell_type": "code",
   "execution_count": 97,
   "metadata": {},
   "outputs": [
    {
     "name": "stdout",
     "output_type": "stream",
     "text": [
      "No of non zero element in weight vector  4429\n"
     ]
    }
   ],
   "source": [
    "# Please write all the code with proper documentation\n",
    "# Sparsity increase with the increase of Lamda value. Or with the decrease of c value.\n",
    "# w1 is the weight vector using L1 regularization\n",
    "\n",
    "W_l1=LR.coef_\n",
    "#Sparsity of vector weight=no of zero in weight vector\n",
    "print('No of non zero element in weight vector ',np.count_nonzero(W_l1))"
   ]
  },
  {
   "cell_type": "markdown",
   "metadata": {
    "colab_type": "text",
    "id": "m0UxvEKBDYM8"
   },
   "source": [
    "### [5.1.2] Applying Logistic Regression with L2 regularization on BOW,<font color='red'> SET 1</font>"
   ]
  },
  {
   "cell_type": "code",
   "execution_count": 98,
   "metadata": {
    "colab": {},
    "colab_type": "code",
    "id": "5ffXQxa7DYM9"
   },
   "outputs": [],
   "source": [
    "# Please write all the code with proper documentation"
   ]
  },
  {
   "cell_type": "code",
   "execution_count": 99,
   "metadata": {},
   "outputs": [],
   "source": [
    "logistic_ = LogisticRegression(penalty='l2', class_weight = 'balanced')\n",
    "c= [0.00001,0.0001,0.001,0.01,0.1,1,10,100,1000,10000,100000]\n",
    "# Here c is the hyperparameter and it is the inverse of lamda.\n",
    "C= [{'C':c}]\n",
    "clf1 = GridSearchCV(logistic_, C, cv=3, scoring='roc_auc', return_train_score= True )\n",
    "clf1= clf1.fit(X_train_bow_S, y_train)"
   ]
  },
  {
   "cell_type": "code",
   "execution_count": 100,
   "metadata": {},
   "outputs": [
    {
     "data": {
      "image/png": "[encoded data removed]",
      "text/plain": [
       "<Figure size 432x288 with 1 Axes>"
      ]
     },
     "metadata": {},
     "output_type": "display_data"
    }
   ],
   "source": [
    "#Plotting performance of model both on train data and cross validation, and finding the best optimum K.\n",
    "train_auc1= clf1.cv_results_['mean_train_score']\n",
    "train_auc_std1= clf1.cv_results_['std_train_score']\n",
    "cv_auc1 = clf1.cv_results_['mean_test_score'] \n",
    "cv_auc_std1= clf1.cv_results_['std_test_score']\n",
    "\n",
    "plt.semilogx(c, train_auc1, label='Train AUC')\n",
    "# this code is copied from here: https://stackoverflow.com/a/48803361/4084039\n",
    "plt.gca().fill_between(c,train_auc1 - train_auc_std1,train_auc1 + train_auc_std1,alpha=0.2,color='darkblue')\n",
    "\n",
    "plt.semilogx(c, cv_auc1, label='CV AUC')\n",
    "# this code is copied from here: https://stackoverflow.com/a/48803361/4084039\n",
    "plt.gca().fill_between(c,cv_auc1 - cv_auc_std1,cv_auc1 + cv_auc_std1,alpha=0.2,color='darkorange')\n",
    "plt.legend()\n",
    "plt.xlabel(\"c: hyperparameter\")\n",
    "plt.ylabel(\"AUC\")\n",
    "plt.title(\"ERROR PLOTS\")\n",
    "plt.show()"
   ]
  },
  {
   "cell_type": "code",
   "execution_count": 101,
   "metadata": {},
   "outputs": [
    {
     "name": "stdout",
     "output_type": "stream",
     "text": [
      "LogisticRegression(C=1e-05, class_weight='balanced', dual=False,\n",
      "                   fit_intercept=True, intercept_scaling=1, l1_ratio=None,\n",
      "                   max_iter=100, multi_class='warn', n_jobs=None, penalty='l2',\n",
      "                   random_state=None, solver='warn', tol=0.0001, verbose=0,\n",
      "                   warm_start=False)\n"
     ]
    }
   ],
   "source": [
    "print(clf1.best_estimator_)"
   ]
  },
  {
   "cell_type": "code",
   "execution_count": 102,
   "metadata": {},
   "outputs": [],
   "source": [
    "#best_c=1e-05"
   ]
  },
  {
   "cell_type": "code",
   "execution_count": 103,
   "metadata": {},
   "outputs": [
    {
     "data": {
      "image/png": "[encoded data removed]",
      "text/plain": [
       "<Figure size 432x288 with 1 Axes>"
      ]
     },
     "metadata": {},
     "output_type": "display_data"
    }
   ],
   "source": [
    "#training our model with the best optimal K, and find the AUC on test data and plot the ROC curve on both train and test. \n",
    "LR1 = LogisticRegression(penalty='l2', C=1e-05, class_weight = 'balanced')\n",
    "LR1.fit(X_train_bow_S, y_train)\n",
    "# roc_auc_score(y_true, y_score) the 2nd parameter should be probability estimates of the positive class\n",
    "# not the predicted outputs\n",
    "\n",
    "train_fpr1, train_tpr1, thresholds1 = roc_curve(y_train, LR1.predict_proba(X_train_bow_S)[:,1])\n",
    "test_fpr1, test_tpr1, thresholds1 = roc_curve(y_test, LR1.predict_proba(X_test_bow_S)[:,1])\n",
    "\n",
    "plt.plot(train_fpr1, train_tpr1, label=\"train AUC =\"+str(auc(train_fpr1, train_tpr1)))\n",
    "plt.plot(test_fpr1, test_tpr1, label=\"test AUC =\"+str(auc(test_fpr1, test_tpr1)))\n",
    "plt.legend()\n",
    "plt.xlabel(\"FPR\")\n",
    "plt.ylabel(\"TPR\")\n",
    "plt.title(\"ROC curve\")\n",
    "plt.show()"
   ]
  },
  {
   "cell_type": "code",
   "execution_count": 104,
   "metadata": {},
   "outputs": [
    {
     "name": "stdout",
     "output_type": "stream",
     "text": [
      "Train confusion matrix\n"
     ]
    },
    {
     "data": {
      "image/png": "[encoded data removed]",
      "text/plain": [
       "<Figure size 432x288 with 2 Axes>"
      ]
     },
     "metadata": {},
     "output_type": "display_data"
    },
    {
     "name": "stdout",
     "output_type": "stream",
     "text": [
      "Test confusion matrix\n"
     ]
    },
    {
     "data": {
      "image/png": "[encoded data removed]",
      "text/plain": [
       "<Figure size 432x288 with 2 Axes>"
      ]
     },
     "metadata": {},
     "output_type": "display_data"
    }
   ],
   "source": [
    "# Confusion matrix\n",
    "print(\"Train confusion matrix\")\n",
    "matrix_train1= confusion_matrix(y_train, LR1.predict(X_train_bow_S))\n",
    "index = ['negative', 'positive']  \n",
    "columns = ['negative', 'positive']\n",
    "df_matrix_train1 = pd.DataFrame(matrix_train1,columns,index)\n",
    "sns.heatmap(df_matrix_train1, annot=True, fmt='d')\n",
    "plt.title(\"Confusion Matrix\") \n",
    "plt.xlabel(\"Predicted\")\n",
    "plt.ylabel(\"Actual\")\n",
    "plt.show()\n",
    "\n",
    "print(\"Test confusion matrix\")\n",
    "matrix_test1= confusion_matrix(y_test, LR1.predict(X_test_bow_S))\n",
    "index = ['negative', 'positive']  \n",
    "columns = ['negative', 'positive']\n",
    "df_matrix_test1 = pd.DataFrame(matrix_test1,columns,index)\n",
    "sns.heatmap(df_matrix_test1, annot=True, fmt='d')\n",
    "plt.title(\"Confusion Matrix\") \n",
    "plt.xlabel(\"Predicted\")\n",
    "plt.ylabel(\"Actual\")\n",
    "plt.show()"
   ]
  },
  {
   "cell_type": "markdown",
   "metadata": {
    "colab_type": "text",
    "id": "sgcPCRG8DYNC"
   },
   "source": [
    "#### [5.1.2.1] Performing pertubation test (multicollinearity check) on BOW,<font color='red'> SET 1</font>"
   ]
  },
  {
   "cell_type": "code",
   "execution_count": 105,
   "metadata": {
    "colab": {},
    "colab_type": "code",
    "id": "bT4Dm8fiDYNL"
   },
   "outputs": [],
   "source": [
    "# Please write all the code with proper documentation"
   ]
  },
  {
   "cell_type": "code",
   "execution_count": 106,
   "metadata": {},
   "outputs": [],
   "source": [
    "W_l2=LR1.coef_ # Weight using L2 regularization after fitting the X_train_bow_S with the model LR1\n",
    "X_n=X_train_bow_S"
   ]
  },
  {
   "cell_type": "code",
   "execution_count": 107,
   "metadata": {},
   "outputs": [
    {
     "data": {
      "text/plain": [
       "(50086, 42876)"
      ]
     },
     "execution_count": 107,
     "metadata": {},
     "output_type": "execute_result"
    }
   ],
   "source": [
    "# Add a noise to the X (X' = X + e) and get the new data set X' (if X is a sparse matrix, X.data+=e)\n",
    "Noise= np.random.normal(loc=0.0, scale=0.000001, size=X_n.data.shape)\n",
    "X_n.data= X_n.data + Noise\n",
    "X_n.shape # Shape of the new data set X_n (X_train_bow_S with noise)"
   ]
  },
  {
   "cell_type": "code",
   "execution_count": 108,
   "metadata": {},
   "outputs": [],
   "source": [
    "#Training the model with new data\n",
    "LR1_n = LogisticRegression(penalty='l2', C=1e-05, class_weight = 'balanced')\n",
    "LR1_n.fit(X_n, y_train)\n",
    "W_l2_n=LR1_n.coef_ #new Weight using L2 regularization after fitting the new data with noise with the new model LR1_n"
   ]
  },
  {
   "cell_type": "code",
   "execution_count": 109,
   "metadata": {},
   "outputs": [],
   "source": [
    "# Adding a small eps value(to eliminate the divisible by zero error) to the new and old weighsts:\n",
    "W_l2+= 0.000001\n",
    "W_l2_n+= 0.000001"
   ]
  },
  {
   "cell_type": "code",
   "execution_count": 110,
   "metadata": {},
   "outputs": [
    {
     "data": {
      "text/plain": [
       "42876"
      ]
     },
     "execution_count": 110,
     "metadata": {},
     "output_type": "execute_result"
    }
   ],
   "source": [
    "len(W_l2[0])"
   ]
  },
  {
   "cell_type": "code",
   "execution_count": 111,
   "metadata": {},
   "outputs": [
    {
     "data": {
      "text/plain": [
       "[0.00022174089646627638,\n",
       " 0.00018565701885265055,\n",
       " 0.00013361473004438914,\n",
       " 0.00013152316629961422,\n",
       " 7.320075060373824e-05]"
      ]
     },
     "execution_count": 111,
     "metadata": {},
     "output_type": "execute_result"
    }
   ],
   "source": [
    "# Now find the % change between W_l2 and W_L2_n:  (| (W_L2-W_L2_n) / (W_L2) |)*100)\n",
    "per_differ=[]\n",
    "for i in range(len(W_l2[0])):\n",
    "    diff= W_l2[0][i]-W_l2_n[0][i]\n",
    "    diff/=W_l2[0][i]\n",
    "    per_differ.append(diff)\n",
    "per_differ= np.absolute(per_differ)    \n",
    "per_differ_S=sorted(np.absolute(per_differ))[::-1]\n",
    "per_differ_S[:5] # To print top 5 per_difference between weights."
   ]
  },
  {
   "cell_type": "code",
   "execution_count": 112,
   "metadata": {},
   "outputs": [],
   "source": [
    "# Finding the feature name corresponding to the weight difference(per_diff)\n",
    "feature_name= count_vect.get_feature_names()\n",
    "#print(feature_name[per_differ.index(np.percentile(per_differ_S,i))])"
   ]
  },
  {
   "cell_type": "code",
   "execution_count": 113,
   "metadata": {},
   "outputs": [
    {
     "name": "stdout",
     "output_type": "stream",
     "text": [
      "0th Percentile: 2.3846426348443986e-13\n",
      "10th Percentile: 2.9764326557663673e-09\n",
      "20th Percentile: 5.992256857941619e-09\n",
      "30th Percentile: 9.232628205351552e-09\n",
      "40th Percentile: 1.291788234405169e-08\n",
      "50th Percentile: 1.727144259527496e-08\n",
      "60th Percentile: 2.2540143237135815e-08\n",
      "70th Percentile: 2.9504057338206305e-08\n",
      "80th Percentile: 4.028447465013353e-08\n",
      "90th Percentile: 6.551658803864125e-08\n",
      "100th Percentile: 0.00022174089646627638\n"
     ]
    }
   ],
   "source": [
    "#calculating percentiles from 0 to 100:\n",
    "for i in range(0,11):\n",
    "    print(str(i*10)+\"th Percentile\"+\": \"+str(np.percentile(per_differ,i*10)))\n",
    "#+str(feature_name[per_differ.index(np.percentile(per_differ_S,i*10))]))"
   ]
  },
  {
   "cell_type": "code",
   "execution_count": 114,
   "metadata": {},
   "outputs": [
    {
     "name": "stdout",
     "output_type": "stream",
     "text": [
      "90th Percentile: 6.551658803864125e-08\n",
      "91th Percentile: 6.985072840737711e-08\n",
      "92th Percentile: 7.593246914121776e-08\n",
      "93th Percentile: 8.40654448191519e-08\n",
      "94th Percentile: 9.380611615021394e-08\n",
      "95th Percentile: 1.0911249920166171e-07\n",
      "96th Percentile: 1.3252355174690244e-07\n",
      "97th Percentile: 1.6810815061814005e-07\n",
      "98th Percentile: 2.472734948456805e-07\n",
      "99th Percentile: 5.202510182726748e-07\n",
      "100th Percentile: 0.00022174089646627638\n"
     ]
    }
   ],
   "source": [
    "#calculating percentiles from 90th to 100th:\n",
    "for i in range(90,101):\n",
    "    print(str(i)+\"th Percentile\"+\": \"+str(np.percentile(per_differ,i)))"
   ]
  },
  {
   "cell_type": "code",
   "execution_count": 115,
   "metadata": {
    "scrolled": true
   },
   "outputs": [
    {
     "name": "stdout",
     "output_type": "stream",
     "text": [
      "99.0th Percentile: 5.202510182726748e-07\n",
      "99.1th Percentile: 5.766598001111958e-07\n",
      "99.2th Percentile: 6.461654578517148e-07\n",
      "99.3th Percentile: 7.076700003134064e-07\n",
      "99.4th Percentile: 8.399667831140028e-07\n",
      "99.5th Percentile: 9.495024462950842e-07\n",
      "99.6th Percentile: 1.204424615122541e-06\n",
      "99.7th Percentile: 1.6712198663926775e-06\n",
      "99.8th Percentile: 2.435791809554935e-06\n",
      "99.9th Percentile: 4.7930215930668914e-06\n",
      "100.0th Percentile: 0.00022174089646627638\n"
     ]
    }
   ],
   "source": [
    "#calculating percentiles from 99.0th to 100th:\n",
    "for i in range(0,11):\n",
    "    print(str(99+(0.1)*i)+\"th Percentile\"+\": \"+str(np.percentile(per_differ,99+(0.1)*i)))"
   ]
  },
  {
   "cell_type": "code",
   "execution_count": 116,
   "metadata": {
    "scrolled": true
   },
   "outputs": [
    {
     "name": "stdout",
     "output_type": "stream",
     "text": [
      "99.91000000000001th Percentile: 5.300785887901937e-06\n",
      "99.92th Percentile: 5.863859656321192e-06\n",
      "99.93th Percentile: 6.304002889424764e-06\n",
      "99.94000000000001th Percentile: 7.359017337193242e-06\n",
      "99.95th Percentile: 8.669911204072975e-06\n",
      "99.96000000000001th Percentile: 1.0254545644474641e-05\n",
      "99.97th Percentile: 1.3285101304242058e-05\n",
      "99.98th Percentile: 2.2381572471330277e-05\n",
      "99.99000000000001th Percentile: 7.11232057984773e-05\n",
      "100.0th Percentile: 0.00022174089646627638\n"
     ]
    }
   ],
   "source": [
    "#calculating percentiles from 99.9th to 100th:\n",
    "for i in range(1,11):\n",
    "    print(str(99.9+(0.01)*i)+\"th Percentile\"+\": \"+str(np.percentile(per_differ,99.9+(0.01)*i)))"
   ]
  },
  {
   "cell_type": "code",
   "execution_count": 117,
   "metadata": {
    "scrolled": false
   },
   "outputs": [
    {
     "name": "stdout",
     "output_type": "stream",
     "text": [
      "99.991th Percentile: 8.143879182081466e-05\n",
      "99.99199999999999th Percentile: 0.00010644452755037058\n",
      "99.993th Percentile: 0.00013145026327992648\n",
      "99.994th Percentile: 0.00013241730980051645\n",
      "99.99499999999999th Percentile: 0.00013331406775607166\n",
      "99.996th Percentile: 0.00014844678235454673\n",
      "99.997th Percentile: 0.00017075991368142206\n",
      "99.99799999999999th Percentile: 0.0001907989714123927\n",
      "99.999th Percentile: 0.00020626993393920326\n",
      "100.0th Percentile: 0.00022174089646627638\n"
     ]
    }
   ],
   "source": [
    "#calculating percentiles from 99.9th to 100th:\n",
    "for i in range(1,11):\n",
    "    print(str(99.99+(0.001)*i)+\"th Percentile\"+\": \"+str(np.percentile(per_differ,99.99+(0.001)*i)))"
   ]
  },
  {
   "cell_type": "code",
   "execution_count": 118,
   "metadata": {},
   "outputs": [
    {
     "name": "stdout",
     "output_type": "stream",
     "text": [
      "aftertase\n"
     ]
    }
   ],
   "source": [
    "per_differ=per_differ.tolist()\n",
    "print(feature_name[per_differ.index(np.percentile(per_differ_S,99.99+(0.001)*10))])"
   ]
  },
  {
   "cell_type": "markdown",
   "metadata": {},
   "source": [
    "##### Observation from pertubation test:\n",
    "- We can observe that there is no any sudden rise in the values of percentage_change_vector greater than the thresold value 2.5. Therefore, we can say that our features are not collinear and multicollinear.\n",
    "- Although % weight difference is not more than a threshold x(in our example it's 2.5), printing the feature name for the 100th percentile for reference."
   ]
  },
  {
   "cell_type": "markdown",
   "metadata": {},
   "source": [
    "### [5.1.3] Feature Importance on BOW,<font color='red'> SET 1</font>"
   ]
  },
  {
   "cell_type": "markdown",
   "metadata": {},
   "source": [
    "#### [5.1.3.1] Top 10 important features of positive class using  L1 regularization on <font color='red'> SET 1</font>"
   ]
  },
  {
   "cell_type": "code",
   "execution_count": 119,
   "metadata": {
    "scrolled": true
   },
   "outputs": [
    {
     "name": "stdout",
     "output_type": "stream",
     "text": [
      "Top 10 positive features from BOW:\n",
      "great\n",
      "best\n",
      "love\n",
      "good\n",
      "delicious\n",
      "perfect\n",
      "excellent\n",
      "loves\n",
      "nice\n",
      "wonderful\n"
     ]
    }
   ],
   "source": [
    "# Please write all the code with proper documentation\n",
    "positive_feat = np.argsort(W_l1)[:,::-1] #Returns sorted indexs the features having the highest weights at the top\n",
    "print(\"Top 10 positive features from BOW:\")\n",
    "for i in list(positive_feat[0][0:10]):\n",
    "    print(feature_name[i])"
   ]
  },
  {
   "cell_type": "markdown",
   "metadata": {
    "scrolled": false
   },
   "source": [
    "#### [5.1.3.2] Top 10 important features of negative class from<font color='red'> SET 1</font>"
   ]
  },
  {
   "cell_type": "code",
   "execution_count": 120,
   "metadata": {},
   "outputs": [
    {
     "name": "stdout",
     "output_type": "stream",
     "text": [
      "Top 10 Negative features from BOW:\n",
      "not\n",
      "disappointed\n",
      "worst\n",
      "terrible\n",
      "disappointing\n",
      "unfortunately\n",
      "money\n",
      "awful\n",
      "stale\n",
      "waste\n"
     ]
    }
   ],
   "source": [
    "# Please write all the code with proper documentation\n",
    "negative_feat = np.argsort(W_l1) #Returns sorted indexs the features having the least weights at the top\n",
    "print(\"Top 10 Negative features from BOW:\")\n",
    "for i in list(negative_feat[0][0:10]):\n",
    "    print(feature_name[i])"
   ]
  },
  {
   "cell_type": "markdown",
   "metadata": {},
   "source": [
    "## [5.2] Logistic Regression on TFIDF,<font color='red'> SET 2</font>"
   ]
  },
  {
   "cell_type": "code",
   "execution_count": 121,
   "metadata": {
    "scrolled": true
   },
   "outputs": [],
   "source": [
    "# Standadizing both X_TRAIN_BOW AND X_TEST_BOW\n",
    "Standard1 = StandardScaler(with_mean=False).fit(X_train_tfidf) # Fitting the Standardizer only to train data to avoid data leakage.\n",
    "X_train_tfidf_S = Standard1.transform(X_train_tfidf)\n",
    "X_test_tfidf_S = Standard1.transform(X_test_tfidf)"
   ]
  },
  {
   "cell_type": "markdown",
   "metadata": {},
   "source": [
    "### [5.2.1] Applying Logistic Regression with L1 regularization on TFIDF,<font color='red'> SET 2</font>"
   ]
  },
  {
   "cell_type": "code",
   "execution_count": 122,
   "metadata": {},
   "outputs": [],
   "source": [
    "# https://scikit-learn.org/stable/modules/generated/sklearn.model_selection.GridSearchCV.html\n",
    "# Using Grid search method to find the optimal K.\n",
    "from sklearn.model_selection import GridSearchCV\n",
    "from sklearn.linear_model import LogisticRegression\n",
    "from sklearn.metrics import roc_auc_score\n",
    "logistic = LogisticRegression(penalty='l1', class_weight = 'balanced')\n",
    "c= [0.00001,0.0001,0.001,0.01,0.1,1,10,100,1000,10000,100000]\n",
    "# Here c is the hyperparameter and it is the inverse of lamda.\n",
    "C= [{'C':c}]\n",
    "clf2 = GridSearchCV(logistic, C, cv=3, scoring='roc_auc', return_train_score= True )\n",
    "clf2= clf2.fit(X_train_tfidf_S, y_train)"
   ]
  },
  {
   "cell_type": "code",
   "execution_count": 123,
   "metadata": {},
   "outputs": [
    {
     "data": {
      "image/png": "[encoded data removed]",
      "text/plain": [
       "<Figure size 432x288 with 1 Axes>"
      ]
     },
     "metadata": {},
     "output_type": "display_data"
    }
   ],
   "source": [
    "#Plotting performance of model both on train data and cross validation, and finding the best optimum K.\n",
    "train_auc2= clf2.cv_results_['mean_train_score']\n",
    "train_auc_std2= clf2.cv_results_['std_train_score']\n",
    "cv_auc2 = clf2.cv_results_['mean_test_score'] \n",
    "cv_auc_std2= clf2.cv_results_['std_test_score']\n",
    "\n",
    "plt.semilogx(c, train_auc2, label='Train AUC')\n",
    "# this code is copied from here: https://stackoverflow.com/a/48803361/4084039\n",
    "plt.gca().fill_between(c,train_auc2 - train_auc_std2,train_auc2 + train_auc_std2,alpha=0.2,color='darkblue')\n",
    "\n",
    "plt.semilogx(c, cv_auc2, label='CV AUC')\n",
    "# this code is copied from here: https://stackoverflow.com/a/48803361/4084039\n",
    "plt.gca().fill_between(c,cv_auc2 - cv_auc_std2,cv_auc2 + cv_auc_std2,alpha=0.2,color='darkorange')\n",
    "plt.legend()\n",
    "plt.xlabel(\"c: hyperparameter\")\n",
    "plt.ylabel(\"AUC\")\n",
    "plt.title(\"ERROR PLOTS\")\n",
    "plt.show()"
   ]
  },
  {
   "cell_type": "code",
   "execution_count": 124,
   "metadata": {
    "scrolled": false
   },
   "outputs": [
    {
     "name": "stdout",
     "output_type": "stream",
     "text": [
      "1e-05 0.5 0.5 0.0\n",
      "0.0001 0.5 0.5 0.0\n",
      "0.001 0.8779671384059625 0.8750482454837826 0.0029188929221799498\n",
      "0.01 0.9911616812976641 0.9542210071586867 0.03694067413897739\n",
      "0.1 0.9999901051834769 0.9443435269276961 0.05564657825578079\n",
      "1 0.9999982628757268 0.9394137300602383 0.06058453281548848\n",
      "10 0.9999982963617048 0.9371510142930087 0.06284728206869605\n",
      "100 0.999998296361705 0.930071133702406 0.06992716265929899\n",
      "1000 0.9999982963617048 0.905244666700361 0.09475362966134382\n",
      "10000 0.999998296361705 0.8973458924262796 0.10265240393542541\n",
      "100000 0.999998296361705 0.8948660583165072 0.10513223804519778\n"
     ]
    }
   ],
   "source": [
    "l=0\n",
    "for i in c:\n",
    "    print (i,train_auc2[l],cv_auc2[l],train_auc2[l]-cv_auc2[l] )\n",
    "    l+=1"
   ]
  },
  {
   "cell_type": "code",
   "execution_count": 125,
   "metadata": {},
   "outputs": [
    {
     "name": "stdout",
     "output_type": "stream",
     "text": [
      "LogisticRegression(C=0.01, class_weight='balanced', dual=False,\n",
      "                   fit_intercept=True, intercept_scaling=1, l1_ratio=None,\n",
      "                   max_iter=100, multi_class='warn', n_jobs=None, penalty='l1',\n",
      "                   random_state=None, solver='warn', tol=0.0001, verbose=0,\n",
      "                   warm_start=False)\n"
     ]
    }
   ],
   "source": [
    "print(clf.best_estimator_)"
   ]
  },
  {
   "cell_type": "code",
   "execution_count": 162,
   "metadata": {},
   "outputs": [],
   "source": [
    "#best_c=0.01"
   ]
  },
  {
   "cell_type": "code",
   "execution_count": 126,
   "metadata": {},
   "outputs": [
    {
     "data": {
      "image/png": "[encoded data removed]",
      "text/plain": [
       "<Figure size 432x288 with 1 Axes>"
      ]
     },
     "metadata": {},
     "output_type": "display_data"
    }
   ],
   "source": [
    "#training our model with the best optimal c, and find the AUC on test data and plot the ROC curve on both train and test. \n",
    "LR2 = LogisticRegression(penalty='l1', C=0.01, class_weight = 'balanced')\n",
    "LR2.fit(X_train_tfidf_S, y_train)\n",
    "# roc_auc_score(y_true, y_score) the 2nd parameter should be probability estimates of the positive class\n",
    "# not the predicted outputs\n",
    "\n",
    "train_fpr2, train_tpr2, thresholds2 = roc_curve(y_train, LR2.predict_proba(X_train_tfidf_S)[:,1])\n",
    "test_fpr2, test_tpr2, thresholds2 = roc_curve(y_test, LR2.predict_proba(X_test_tfidf_S)[:,1])\n",
    "\n",
    "plt.plot(train_fpr2, train_tpr2, label=\"train AUC =\"+str(auc(train_fpr2, train_tpr2)))\n",
    "plt.plot(test_fpr2, test_tpr2, label=\"test AUC =\"+str(auc(test_fpr2, test_tpr2)))\n",
    "plt.legend()\n",
    "plt.xlabel(\"FPR\")\n",
    "plt.ylabel(\"TPR\")\n",
    "plt.title(\"ROC CURVE\")\n",
    "plt.show()"
   ]
  },
  {
   "cell_type": "code",
   "execution_count": 127,
   "metadata": {},
   "outputs": [
    {
     "name": "stdout",
     "output_type": "stream",
     "text": [
      "Train confusion matrix\n"
     ]
    },
    {
     "data": {
      "image/png": "[encoded data removed]",
      "text/plain": [
       "<Figure size 432x288 with 2 Axes>"
      ]
     },
     "metadata": {},
     "output_type": "display_data"
    },
    {
     "name": "stdout",
     "output_type": "stream",
     "text": [
      "Test confusion matrix\n"
     ]
    },
    {
     "data": {
      "image/png": "[encoded data removed]",
      "text/plain": [
       "<Figure size 432x288 with 2 Axes>"
      ]
     },
     "metadata": {},
     "output_type": "display_data"
    }
   ],
   "source": [
    "# Confusion matrix\n",
    "print(\"Train confusion matrix\")\n",
    "matrix_train2= confusion_matrix(y_train, LR2.predict(X_train_tfidf_S))\n",
    "index = ['negative', 'positive']  \n",
    "columns = ['negative', 'positive']\n",
    "df_matrix_train2 = pd.DataFrame(matrix_train2,columns,index)\n",
    "sns.heatmap(df_matrix_train2, annot=True, fmt='d')\n",
    "plt.title(\"Confusion Matrix\") \n",
    "plt.xlabel(\"Predicted\")\n",
    "plt.ylabel(\"Actual\")\n",
    "plt.show()\n",
    "\n",
    "print(\"Test confusion matrix\")\n",
    "matrix_test2= confusion_matrix(y_test, LR2.predict(X_test_tfidf_S))\n",
    "index = ['negative', 'positive']  \n",
    "columns = ['negative', 'positive']\n",
    "df_matrix_test2 = pd.DataFrame(matrix_test2,columns,index)\n",
    "sns.heatmap(df_matrix_test2, annot=True, fmt='d')\n",
    "plt.title(\"Confusion Matrix\") \n",
    "plt.xlabel(\"Predicted\")\n",
    "plt.ylabel(\"Actual\")\n",
    "plt.show()"
   ]
  },
  {
   "cell_type": "markdown",
   "metadata": {
    "colab_type": "text",
    "id": "L-xcoDmADYNP"
   },
   "source": [
    "### [5.2.2] Applying Logistic Regression with L2 regularization on TFIDF,<font color='red'> SET 2</font>"
   ]
  },
  {
   "cell_type": "code",
   "execution_count": 128,
   "metadata": {
    "colab": {},
    "colab_type": "code",
    "id": "Z9tFDe5_DYNQ"
   },
   "outputs": [],
   "source": [
    "# Please write all the code with proper documentation"
   ]
  },
  {
   "cell_type": "code",
   "execution_count": 129,
   "metadata": {},
   "outputs": [],
   "source": [
    "# Using Grid search method to find the optimal c.\n",
    "logistic_ = LogisticRegression(penalty='l2', class_weight = 'balanced')\n",
    "c= [0.00001,0.0001,0.001,0.01,0.1,1,10,100,1000,10000,100000]\n",
    "# Here c is the hyperparameter and it is the inverse of lamda.\n",
    "C= [{'C':c}]\n",
    "clf3 = GridSearchCV(logistic_, C, cv=3, scoring='roc_auc', return_train_score= True )\n",
    "clf3= clf3.fit(X_train_tfidf_S, y_train)"
   ]
  },
  {
   "cell_type": "code",
   "execution_count": 130,
   "metadata": {},
   "outputs": [
    {
     "data": {
      "image/png": "[encoded data removed]",
      "text/plain": [
       "<Figure size 432x288 with 1 Axes>"
      ]
     },
     "metadata": {},
     "output_type": "display_data"
    }
   ],
   "source": [
    "#Plotting performance of model both on train data and cross validation, and finding the best optimum K.\n",
    "train_auc3= clf3.cv_results_['mean_train_score']\n",
    "train_auc_std3= clf3.cv_results_['std_train_score']\n",
    "cv_auc3 = clf3.cv_results_['mean_test_score'] \n",
    "cv_auc_std3= clf3.cv_results_['std_test_score']\n",
    "\n",
    "plt.semilogx(c, train_auc3, label='Train AUC')\n",
    "# this code is copied from here: https://stackoverflow.com/a/48803361/4084039\n",
    "plt.gca().fill_between(c,train_auc3 - train_auc_std3,train_auc3 + train_auc_std3,alpha=0.2,color='darkblue')\n",
    "\n",
    "plt.semilogx(c, cv_auc3, label='CV AUC')\n",
    "# this code is copied from here: https://stackoverflow.com/a/48803361/4084039\n",
    "plt.gca().fill_between(c,cv_auc3 - cv_auc_std3,cv_auc3 + cv_auc_std3,alpha=0.2,color='darkorange')\n",
    "plt.legend()\n",
    "plt.xlabel(\"c: hyperparameter\")\n",
    "plt.ylabel(\"AUC\")\n",
    "plt.title(\"ERROR PLOTS\")\n",
    "plt.show()"
   ]
  },
  {
   "cell_type": "code",
   "execution_count": 131,
   "metadata": {},
   "outputs": [
    {
     "name": "stdout",
     "output_type": "stream",
     "text": [
      "1e-05 0.9930442216290567 0.9560230338025051 0.037021187826551616\n",
      "0.0001 0.9994359410031647 0.9532659542446273 0.04616998675853734\n",
      "0.001 0.9999968312929056 0.9422843629184391 0.05771246837446653\n",
      "0.01 0.9999982628757268 0.9340076725698402 0.06599059030588661\n",
      "0.1 0.999998296361705 0.9293112055114146 0.07068709085029046\n",
      "1 0.999998296361705 0.9259408566254723 0.07405743973623269\n",
      "10 0.9999982963617048 0.9178489435120134 0.08214935284969138\n",
      "100 0.999998296361705 0.9098302846784616 0.0901680116832434\n",
      "1000 0.9999982963617048 0.9086474780404967 0.09135081832120806\n",
      "10000 0.999998296361705 0.9086505156819193 0.09134778067978566\n",
      "100000 0.999998296361705 0.9085513038834601 0.09144699247824495\n"
     ]
    }
   ],
   "source": [
    "l=0\n",
    "for i in c:\n",
    "    print (i,train_auc3[l],cv_auc3[l],train_auc3[l]-cv_auc3[l] )\n",
    "    l+=1"
   ]
  },
  {
   "cell_type": "code",
   "execution_count": 132,
   "metadata": {
    "scrolled": true
   },
   "outputs": [
    {
     "name": "stdout",
     "output_type": "stream",
     "text": [
      "LogisticRegression(C=1e-05, class_weight='balanced', dual=False,\n",
      "                   fit_intercept=True, intercept_scaling=1, l1_ratio=None,\n",
      "                   max_iter=100, multi_class='warn', n_jobs=None, penalty='l2',\n",
      "                   random_state=None, solver='warn', tol=0.0001, verbose=0,\n",
      "                   warm_start=False)\n"
     ]
    }
   ],
   "source": [
    "print(clf3.best_estimator_)"
   ]
  },
  {
   "cell_type": "code",
   "execution_count": 170,
   "metadata": {},
   "outputs": [],
   "source": [
    "#best_c=0.0001"
   ]
  },
  {
   "cell_type": "code",
   "execution_count": 133,
   "metadata": {},
   "outputs": [
    {
     "data": {
      "image/png": "[encoded data removed]",
      "text/plain": [
       "<Figure size 432x288 with 1 Axes>"
      ]
     },
     "metadata": {},
     "output_type": "display_data"
    }
   ],
   "source": [
    "#training our model with the best optimal c, and find the AUC on test data and plot the ROC curve on both train and test. \n",
    "LR3 = LogisticRegression(penalty='l2', C=1e-05, class_weight = 'balanced')\n",
    "LR3.fit(X_train_tfidf_S, y_train)\n",
    "# roc_auc_score(y_true, y_score) the 2nd parameter should be probability estimates of the positive class\n",
    "# not the predicted outputs\n",
    "\n",
    "train_fpr3, train_tpr3, thresholds3 = roc_curve(y_train, LR3.predict_proba(X_train_tfidf_S)[:,1])\n",
    "test_fpr3, test_tpr3, thresholds3 = roc_curve(y_test, LR3.predict_proba(X_test_tfidf_S)[:,1])\n",
    "\n",
    "plt.plot(train_fpr3, train_tpr3, label=\"train AUC =\"+str(auc(train_fpr3, train_tpr3)))\n",
    "plt.plot(test_fpr3, test_tpr3, label=\"test AUC =\"+str(auc(test_fpr3, test_tpr3)))\n",
    "plt.legend()\n",
    "plt.xlabel(\"FPR\")\n",
    "plt.ylabel(\"TPR\")\n",
    "plt.title(\"ROC CURVE\")\n",
    "plt.show()"
   ]
  },
  {
   "cell_type": "code",
   "execution_count": 134,
   "metadata": {},
   "outputs": [
    {
     "name": "stdout",
     "output_type": "stream",
     "text": [
      "Train confusion matrix\n"
     ]
    },
    {
     "data": {
      "image/png": "[encoded data removed]",
      "text/plain": [
       "<Figure size 432x288 with 2 Axes>"
      ]
     },
     "metadata": {},
     "output_type": "display_data"
    },
    {
     "name": "stdout",
     "output_type": "stream",
     "text": [
      "Test confusion matrix\n"
     ]
    },
    {
     "data": {
      "image/png": "[encoded data removed]",
      "text/plain": [
       "<Figure size 432x288 with 2 Axes>"
      ]
     },
     "metadata": {},
     "output_type": "display_data"
    }
   ],
   "source": [
    "# Confusion Metric\n",
    "print(\"Train confusion matrix\")\n",
    "matrix_train3= confusion_matrix(y_train, LR3.predict(X_train_tfidf_S))\n",
    "index = ['negative', 'positive']  \n",
    "columns = ['negative', 'positive']\n",
    "df_matrix_train3 = pd.DataFrame(matrix_train3,columns,index)\n",
    "sns.heatmap(df_matrix_train3, annot=True, fmt='d')\n",
    "plt.title(\"Confusion Matrix\") \n",
    "plt.xlabel(\"Predicted\")\n",
    "plt.ylabel(\"Actual\")\n",
    "plt.show()\n",
    "\n",
    "print(\"Test confusion matrix\")\n",
    "matrix_test3= confusion_matrix(y_test, LR3.predict(X_test_tfidf_S))\n",
    "index = ['negative', 'positive']  \n",
    "columns = ['negative', 'positive']\n",
    "df_matrix_test3 = pd.DataFrame(matrix_test3,columns,index)\n",
    "sns.heatmap(df_matrix_test3, annot=True, fmt='d')\n",
    "plt.title(\"Confusion Matrix\") \n",
    "plt.xlabel(\"Predicted\")\n",
    "plt.ylabel(\"Actual\")\n",
    "plt.show()"
   ]
  },
  {
   "cell_type": "markdown",
   "metadata": {},
   "source": [
    "### [5.2.3] Feature Importance on TFIDF,<font color='red'> SET 2</font>"
   ]
  },
  {
   "cell_type": "markdown",
   "metadata": {},
   "source": [
    "#### [5.1.3.1] Top 10 important features of positive class using  L1 regularization on <font color='red'> SET 2</font>"
   ]
  },
  {
   "cell_type": "code",
   "execution_count": 135,
   "metadata": {},
   "outputs": [
    {
     "name": "stdout",
     "output_type": "stream",
     "text": [
      "Top 10 positive features from tfidf:\n",
      "great\n",
      "best\n",
      "love\n",
      "good\n",
      "delicious\n",
      "perfect\n",
      "loves\n",
      "excellent\n",
      "not disappointed\n",
      "favorite\n"
     ]
    }
   ],
   "source": [
    "# Please write all the code with proper documentation\n",
    "feature_name1= tf_idf_vect.get_feature_names()\n",
    "W1_l1=LR2.coef_ # Weight vector of tfidf using l1 regularization. \n",
    "positive_feat1 = np.argsort(W1_l1)[:,::-1] #Returns sorted indexs the features having the highest weights at the top\n",
    "print(\"Top 10 positive features from tfidf:\")\n",
    "for i in list(positive_feat1[0][0:10]):\n",
    "    print(feature_name1[i])"
   ]
  },
  {
   "cell_type": "markdown",
   "metadata": {},
   "source": [
    "#### [5.2.3.2] Top 10 important features of negative class using L1 from<font color='red'> SET 2</font>"
   ]
  },
  {
   "cell_type": "code",
   "execution_count": 136,
   "metadata": {},
   "outputs": [
    {
     "name": "stdout",
     "output_type": "stream",
     "text": [
      "Top 10 negative features from tfidf:\n",
      "disappointed\n",
      "not\n",
      "not recommend\n",
      "worst\n",
      "disappointing\n",
      "terrible\n",
      "not worth\n",
      "bad\n",
      "not good\n",
      "awful\n"
     ]
    }
   ],
   "source": [
    "negative_feat1 = np.argsort(W1_l1)#Returns sorted indexs the features having the highest weights at the top\n",
    "print(\"Top 10 negative features from tfidf:\")\n",
    "for i in list(negative_feat1[0][0:10]):\n",
    "    print(feature_name1[i])"
   ]
  },
  {
   "cell_type": "markdown",
   "metadata": {},
   "source": [
    "## [5.3] Logistic Regression on AVG W2V,<font color='red'> SET 3</font>"
   ]
  },
  {
   "cell_type": "code",
   "execution_count": 137,
   "metadata": {},
   "outputs": [],
   "source": [
    "# Please write all the code with proper documentation\n",
    "# Standadizing both X_TRAIN_BOW AND X_TEST_BOW\n",
    "Standard2 = StandardScaler(with_mean=False).fit(X_train_w2v) # Fitting the Standardizer only to train data to avoid data leakage.\n",
    "X_train_w2v_S = Standard2.transform(X_train_w2v)\n",
    "X_test_w2v_S = Standard2.transform(X_test_w2v)"
   ]
  },
  {
   "cell_type": "markdown",
   "metadata": {},
   "source": [
    "### [5.3.1] Applying Logistic Regression with L1 regularization on AVG W2V<font color='red'> SET 3</font>"
   ]
  },
  {
   "cell_type": "code",
   "execution_count": 138,
   "metadata": {},
   "outputs": [],
   "source": [
    "# https://scikit-learn.org/stable/modules/generated/sklearn.model_selection.GridSearchCV.html\n",
    "# Using Grid search method to find the optimal c.\n",
    "from sklearn.model_selection import GridSearchCV\n",
    "from sklearn.linear_model import LogisticRegression\n",
    "from sklearn.metrics import roc_auc_score\n",
    "logistic = LogisticRegression(penalty='l1', class_weight = 'balanced')\n",
    "c= [0.00001,0.0001,0.001,0.01,0.1,1,10,100,1000,10000,100000]\n",
    "# Here c is the hyperparameter and it is the inverse of lamda.\n",
    "C= [{'C':c}]\n",
    "clf4 = GridSearchCV(logistic, C, cv=3, scoring='roc_auc', return_train_score= True )\n",
    "clf4= clf4.fit(X_train_w2v_S, y_train)"
   ]
  },
  {
   "cell_type": "code",
   "execution_count": 139,
   "metadata": {},
   "outputs": [
    {
     "data": {
      "image/png": "[encoded data removed]",
      "text/plain": [
       "<Figure size 432x288 with 1 Axes>"
      ]
     },
     "metadata": {},
     "output_type": "display_data"
    }
   ],
   "source": [
    "#Plotting performance of model both on train data and cross validation, and finding the best optimum c.\n",
    "train_auc4= clf4.cv_results_['mean_train_score']\n",
    "train_auc_std4= clf4.cv_results_['std_train_score']\n",
    "cv_auc4 = clf4.cv_results_['mean_test_score'] \n",
    "cv_auc_std4= clf4.cv_results_['std_test_score']\n",
    "\n",
    "plt.semilogx(c, train_auc4, label='Train AUC')\n",
    "# this code is copied from here: https://stackoverflow.com/a/48803361/4084039\n",
    "plt.gca().fill_between(c,train_auc4 - train_auc_std4,train_auc4 + train_auc_std4,alpha=0.2,color='darkblue')\n",
    "\n",
    "plt.semilogx(c, cv_auc4, label='CV AUC')\n",
    "# this code is copied from here: https://stackoverflow.com/a/48803361/4084039\n",
    "plt.gca().fill_between(c,cv_auc4 - cv_auc_std4,cv_auc4 + cv_auc_std4,alpha=0.2,color='darkorange')\n",
    "plt.legend()\n",
    "plt.xlabel(\"c: hyperparameter\")\n",
    "plt.ylabel(\"AUC\")\n",
    "plt.title(\"ERROR PLOTS\")\n",
    "plt.show()"
   ]
  },
  {
   "cell_type": "code",
   "execution_count": 140,
   "metadata": {},
   "outputs": [
    {
     "name": "stdout",
     "output_type": "stream",
     "text": [
      "1e-05 0.5 0.5 0.0\n",
      "0.0001 0.5 0.5 0.0\n",
      "0.001 0.8843080945878775 0.8831070982441731 0.001200996343704408\n",
      "0.01 0.9053304573737142 0.9039748351164144 0.0013556222572997934\n",
      "0.1 0.9066347174778958 0.9048926291703688 0.0017420883075269789\n",
      "1 0.9066530883118661 0.9048440579277438 0.0018090303841222788\n",
      "10 0.9066504973236693 0.904829166789379 0.001821330534290344\n",
      "100 0.9066501415251702 0.9048287400751373 0.0018214014500329556\n",
      "1000 0.9066496852301272 0.9048280201420416 0.0018216650880856777\n",
      "10000 0.9066492854708068 0.9048280787697638 0.001821206701043021\n",
      "100000 0.9066495784992208 0.9048282377860861 0.001821340713134667\n"
     ]
    }
   ],
   "source": [
    "l=0\n",
    "for i in c:\n",
    "    print (i,train_auc4[l],cv_auc4[l],train_auc4[l]-cv_auc4[l] )\n",
    "    l+=1"
   ]
  },
  {
   "cell_type": "code",
   "execution_count": 141,
   "metadata": {},
   "outputs": [
    {
     "name": "stdout",
     "output_type": "stream",
     "text": [
      "LogisticRegression(C=0.1, class_weight='balanced', dual=False,\n",
      "                   fit_intercept=True, intercept_scaling=1, l1_ratio=None,\n",
      "                   max_iter=100, multi_class='warn', n_jobs=None, penalty='l1',\n",
      "                   random_state=None, solver='warn', tol=0.0001, verbose=0,\n",
      "                   warm_start=False)\n"
     ]
    }
   ],
   "source": [
    "print(clf4.best_estimator_)"
   ]
  },
  {
   "cell_type": "code",
   "execution_count": 181,
   "metadata": {},
   "outputs": [],
   "source": [
    "#best_c=0.1 # lamda = 10"
   ]
  },
  {
   "cell_type": "code",
   "execution_count": 142,
   "metadata": {},
   "outputs": [
    {
     "data": {
      "image/png": "[encoded data removed]",
      "text/plain": [
       "<Figure size 432x288 with 1 Axes>"
      ]
     },
     "metadata": {},
     "output_type": "display_data"
    }
   ],
   "source": [
    "#training our model with the best optimal c, and find the AUC on test data and plot the ROC curve on both train and test. \n",
    "LR4 = LogisticRegression(penalty='l1', C=0.1, class_weight = 'balanced')\n",
    "LR4.fit(X_train_w2v_S, y_train)\n",
    "# roc_auc_score(y_true, y_score) the 2nd parameter should be probability estimates of the positive class\n",
    "# not the predicted outputs\n",
    "\n",
    "train_fpr4, train_tpr4, thresholds4 = roc_curve(y_train, LR4.predict_proba(X_train_w2v_S)[:,1])\n",
    "test_fpr4, test_tpr4, thresholds4 = roc_curve(y_test, LR4.predict_proba(X_test_w2v_S)[:,1])\n",
    "\n",
    "plt.plot(train_fpr4, train_tpr4, label=\"train AUC =\"+str(auc(train_fpr4, train_tpr4)))\n",
    "plt.plot(test_fpr4, test_tpr4, label=\"test AUC =\"+str(auc(test_fpr4, test_tpr4)))\n",
    "plt.legend()\n",
    "plt.xlabel(\"FPR\")\n",
    "plt.ylabel(\"TPR\")\n",
    "plt.title(\"ROC CURVE\")\n",
    "plt.show()"
   ]
  },
  {
   "cell_type": "code",
   "execution_count": 143,
   "metadata": {},
   "outputs": [
    {
     "name": "stdout",
     "output_type": "stream",
     "text": [
      "Train confusion matrix\n"
     ]
    },
    {
     "data": {
      "image/png": "[encoded data removed]",
      "text/plain": [
       "<Figure size 432x288 with 2 Axes>"
      ]
     },
     "metadata": {},
     "output_type": "display_data"
    },
    {
     "name": "stdout",
     "output_type": "stream",
     "text": [
      "Test confusion matrix\n"
     ]
    },
    {
     "data": {
      "image/png": "[encoded data removed]",
      "text/plain": [
       "<Figure size 432x288 with 2 Axes>"
      ]
     },
     "metadata": {},
     "output_type": "display_data"
    }
   ],
   "source": [
    "# Confusion matrix\n",
    "print(\"Train confusion matrix\")\n",
    "matrix_train4= confusion_matrix(y_train, LR4.predict(X_train_w2v_S))\n",
    "index = ['negative', 'positive']  \n",
    "columns = ['negative', 'positive']\n",
    "df_matrix_train4 = pd.DataFrame(matrix_train4,columns,index)\n",
    "sns.heatmap(df_matrix_train4, annot=True, fmt='d')\n",
    "plt.title(\"Confusion Matrix\") \n",
    "plt.xlabel(\"Predicted\")\n",
    "plt.ylabel(\"Actual\")\n",
    "plt.show()\n",
    "\n",
    "print(\"Test confusion matrix\")\n",
    "matrix_test4= confusion_matrix(y_test, LR4.predict(X_test_w2v_S))\n",
    "index = ['negative', 'positive']  \n",
    "columns = ['negative', 'positive']\n",
    "df_matrix_test4= pd.DataFrame(matrix_test4,columns,index)\n",
    "sns.heatmap(df_matrix_test4, annot=True, fmt='d')\n",
    "plt.title(\"Confusion Matrix\") \n",
    "plt.xlabel(\"Predicted\")\n",
    "plt.ylabel(\"Actual\")\n",
    "plt.show()"
   ]
  },
  {
   "cell_type": "markdown",
   "metadata": {},
   "source": [
    "### [5.3.2] Applying Logistic Regression with L2 regularization on AVG W2V,<font color='red'> SET 3</font>"
   ]
  },
  {
   "cell_type": "code",
   "execution_count": 144,
   "metadata": {},
   "outputs": [],
   "source": [
    "logistic_ = LogisticRegression(penalty='l2', class_weight = 'balanced')\n",
    "c= [0.00001,0.0001,0.001,0.01,0.1,1,10,100,1000,10000,100000]\n",
    "# Here c is the hyperparameter and it is the inverse of lamda.\n",
    "C= [{'C':c}]\n",
    "clf5 = GridSearchCV(logistic_, C, cv=3, scoring='roc_auc', return_train_score= True )\n",
    "clf5= clf5.fit(X_train_w2v_S, y_train)"
   ]
  },
  {
   "cell_type": "code",
   "execution_count": 145,
   "metadata": {},
   "outputs": [
    {
     "data": {
      "image/png": "[encoded data removed]",
      "text/plain": [
       "<Figure size 432x288 with 1 Axes>"
      ]
     },
     "metadata": {},
     "output_type": "display_data"
    }
   ],
   "source": [
    "#Plotting performance of model both on train data and cross validation, and finding the best optimum K.\n",
    "train_auc5= clf5.cv_results_['mean_train_score']\n",
    "train_auc_std5= clf5.cv_results_['std_train_score']\n",
    "cv_auc5 = clf5.cv_results_['mean_test_score'] \n",
    "cv_auc_std5= clf5.cv_results_['std_test_score']\n",
    "\n",
    "plt.semilogx(c, train_auc5, label='Train AUC')\n",
    "# this code is copied from here: https://stackoverflow.com/a/48803361/4084039\n",
    "plt.gca().fill_between(c,train_auc5 - train_auc_std5,train_auc5 + train_auc_std5,alpha=0.2,color='darkblue')\n",
    "\n",
    "plt.semilogx(c, cv_auc5, label='CV AUC')\n",
    "# this code is copied from here: https://stackoverflow.com/a/48803361/4084039\n",
    "plt.gca().fill_between(c,cv_auc5 - cv_auc_std5,cv_auc5 + cv_auc_std5,alpha=0.2,color='darkorange')\n",
    "plt.legend()\n",
    "plt.xlabel(\"c: hyperparameter\")\n",
    "plt.ylabel(\"AUC\")\n",
    "plt.title(\"ERROR PLOTS\")\n",
    "plt.show()"
   ]
  },
  {
   "cell_type": "code",
   "execution_count": 146,
   "metadata": {},
   "outputs": [
    {
     "name": "stdout",
     "output_type": "stream",
     "text": [
      "LogisticRegression(C=0.1, class_weight='balanced', dual=False,\n",
      "                   fit_intercept=True, intercept_scaling=1, l1_ratio=None,\n",
      "                   max_iter=100, multi_class='warn', n_jobs=None, penalty='l2',\n",
      "                   random_state=None, solver='warn', tol=0.0001, verbose=0,\n",
      "                   warm_start=False)\n"
     ]
    }
   ],
   "source": [
    "print(clf5.best_estimator_)"
   ]
  },
  {
   "cell_type": "code",
   "execution_count": 138,
   "metadata": {},
   "outputs": [],
   "source": [
    "#best_c=0.1"
   ]
  },
  {
   "cell_type": "code",
   "execution_count": 147,
   "metadata": {},
   "outputs": [
    {
     "data": {
      "image/png": "[encoded data removed]",
      "text/plain": [
       "<Figure size 432x288 with 1 Axes>"
      ]
     },
     "metadata": {},
     "output_type": "display_data"
    }
   ],
   "source": [
    "#training our model with the best optimal K, and find the AUC on test data and plot the ROC curve on both train and test. \n",
    "LR5 = LogisticRegression(penalty='l2', C=0.1, class_weight = 'balanced')\n",
    "LR5.fit(X_train_w2v_S, y_train)\n",
    "# roc_auc_score(y_true, y_score) the 2nd parameter should be probability estimates of the positive class\n",
    "# not the predicted outputs\n",
    "\n",
    "train_fpr5, train_tpr5, thresholds5 = roc_curve(y_train, LR5.predict_proba(X_train_w2v_S)[:,1])\n",
    "test_fpr5, test_tpr5, thresholds5 = roc_curve(y_test, LR5.predict_proba(X_test_w2v_S)[:,1])\n",
    "\n",
    "plt.plot(train_fpr5, train_tpr5, label=\"train AUC =\"+str(auc(train_fpr5, train_tpr5)))\n",
    "plt.plot(test_fpr5, test_tpr5, label=\"test AUC =\"+str(auc(test_fpr5, test_tpr5)))\n",
    "plt.legend()\n",
    "plt.xlabel(\"FPR\")\n",
    "plt.ylabel(\"TPR\")\n",
    "plt.title(\"ROC CURVE\")\n",
    "plt.show()"
   ]
  },
  {
   "cell_type": "code",
   "execution_count": 148,
   "metadata": {},
   "outputs": [
    {
     "name": "stdout",
     "output_type": "stream",
     "text": [
      "Train confusion matrix\n"
     ]
    },
    {
     "data": {
      "image/png": "[encoded data removed]",
      "text/plain": [
       "<Figure size 432x288 with 2 Axes>"
      ]
     },
     "metadata": {},
     "output_type": "display_data"
    },
    {
     "name": "stdout",
     "output_type": "stream",
     "text": [
      "Test confusion matrix\n"
     ]
    },
    {
     "data": {
      "image/png": "[encoded data removed]",
      "text/plain": [
       "<Figure size 432x288 with 2 Axes>"
      ]
     },
     "metadata": {},
     "output_type": "display_data"
    }
   ],
   "source": [
    "# Confusion matrix\n",
    "print(\"Train confusion matrix\")\n",
    "matrix_train5= confusion_matrix(y_train, LR5.predict(X_train_w2v_S))\n",
    "index = ['negative', 'positive']  \n",
    "columns = ['negative', 'positive']\n",
    "df_matrix_train5 = pd.DataFrame(matrix_train5,columns,index)\n",
    "sns.heatmap(df_matrix_train5, annot=True, fmt='d')\n",
    "plt.title(\"Confusion Matrix\") \n",
    "plt.xlabel(\"Predicted\")\n",
    "plt.ylabel(\"Actual\")\n",
    "plt.show()\n",
    "\n",
    "print(\"Test confusion matrix\")\n",
    "matrix_test5= confusion_matrix(y_test, LR5.predict(X_test_w2v_S))\n",
    "index = ['negative', 'positive']  \n",
    "columns = ['negative', 'positive']\n",
    "df_matrix_test5 = pd.DataFrame(matrix_test5,columns,index)\n",
    "sns.heatmap(df_matrix_test5, annot=True, fmt='d')\n",
    "plt.title(\"Confusion Matrix\") \n",
    "plt.xlabel(\"Predicted\")\n",
    "plt.ylabel(\"Actual\")\n",
    "plt.show()"
   ]
  },
  {
   "cell_type": "markdown",
   "metadata": {},
   "source": [
    "## [5.4] Logistic Regression on TFIDF W2V,<font color='red'> SET 4</font>"
   ]
  },
  {
   "cell_type": "code",
   "execution_count": 149,
   "metadata": {},
   "outputs": [],
   "source": [
    "# Standadizing both X_TRAIN_BOW AND X_TEST_BOW\n",
    "Standard3= StandardScaler(with_mean=False).fit(X_train_tfidfw2v)\n",
    "X_train_tfidfw2v_S = Standard3.transform(X_train_tfidfw2v)\n",
    "X_test_tfidfw2v_S = Standard3.transform(X_test_tfidfw2v)"
   ]
  },
  {
   "cell_type": "markdown",
   "metadata": {},
   "source": [
    "### [5.4.1] Applying Logistic Regression with L1 regularization on TFIDF W2V,<font color='red'> SET 4</font>"
   ]
  },
  {
   "cell_type": "code",
   "execution_count": 150,
   "metadata": {},
   "outputs": [],
   "source": [
    "# https://scikit-learn.org/stable/modules/generated/sklearn.model_selection.GridSearchCV.html\n",
    "# Using Grid search method to find the optimal c.\n",
    "logistic = LogisticRegression(penalty='l1', class_weight = 'balanced')\n",
    "c= [0.00001,0.0001,0.001,0.01,0.1,1,10,100,1000,10000,100000]\n",
    "# Here c is the hyperparameter and it is the inverse of lamda.\n",
    "C= [{'C':c}]\n",
    "clf6 = GridSearchCV(logistic, C, cv=3, scoring='roc_auc', return_train_score= True )\n",
    "clf6= clf6.fit(X_train_tfidfw2v_S, y_train)"
   ]
  },
  {
   "cell_type": "code",
   "execution_count": 151,
   "metadata": {},
   "outputs": [
    {
     "data": {
      "image/png": "[encoded data removed]",
      "text/plain": [
       "<Figure size 432x288 with 1 Axes>"
      ]
     },
     "metadata": {},
     "output_type": "display_data"
    }
   ],
   "source": [
    "#Plotting performance of model both on train data and cross validation, and finding the best optimum K.\n",
    "train_auc6= clf6.cv_results_['mean_train_score']\n",
    "train_auc_std6= clf6.cv_results_['std_train_score']\n",
    "cv_auc6 = clf6.cv_results_['mean_test_score'] \n",
    "cv_auc_std6= clf6.cv_results_['std_test_score']\n",
    "\n",
    "plt.semilogx(c, train_auc6, label='Train AUC')\n",
    "# this code is copied from here: https://stackoverflow.com/a/48803361/4084039\n",
    "plt.gca().fill_between(c,train_auc6 - train_auc_std6,train_auc6 + train_auc_std6,alpha=0.2,color='darkblue')\n",
    "\n",
    "plt.semilogx(c, cv_auc6, label='CV AUC')\n",
    "# this code is copied from here: https://stackoverflow.com/a/48803361/4084039\n",
    "plt.gca().fill_between(c,cv_auc6 - cv_auc_std6, cv_auc6 + cv_auc_std6, alpha=0.2,color='darkorange')\n",
    "plt.legend()\n",
    "plt.xlabel(\"c: hyperparameter\")\n",
    "plt.ylabel(\"AUC\")\n",
    "plt.title(\"ERROR PLOTS\")\n",
    "plt.show()"
   ]
  },
  {
   "cell_type": "code",
   "execution_count": 152,
   "metadata": {
    "scrolled": true
   },
   "outputs": [
    {
     "name": "stdout",
     "output_type": "stream",
     "text": [
      "LogisticRegression(C=1, class_weight='balanced', dual=False, fit_intercept=True,\n",
      "                   intercept_scaling=1, l1_ratio=None, max_iter=100,\n",
      "                   multi_class='warn', n_jobs=None, penalty='l1',\n",
      "                   random_state=None, solver='warn', tol=0.0001, verbose=0,\n",
      "                   warm_start=False)\n"
     ]
    }
   ],
   "source": [
    "print(clf6.best_estimator_)"
   ]
  },
  {
   "cell_type": "code",
   "execution_count": 153,
   "metadata": {},
   "outputs": [
    {
     "data": {
      "image/png": "[encoded data removed]",
      "text/plain": [
       "<Figure size 432x288 with 1 Axes>"
      ]
     },
     "metadata": {},
     "output_type": "display_data"
    }
   ],
   "source": [
    "#training our model with the best optimal c, and find the AUC on test data and plot the ROC curve on both train and test. \n",
    "LR6 = LogisticRegression(penalty='l1', C=1, class_weight = 'balanced')\n",
    "LR6.fit(X_train_tfidfw2v_S, y_train)\n",
    "# roc_auc_score(y_true, y_score) the 2nd parameter should be probability estimates of the positive class\n",
    "# not the predicted outputs\n",
    "\n",
    "train_fpr6, train_tpr6, thresholds6 = roc_curve(y_train, LR6.predict_proba(X_train_tfidfw2v_S)[:,1])\n",
    "test_fpr6, test_tpr6, thresholds6 = roc_curve(y_test, LR6.predict_proba(X_test_tfidfw2v_S)[:,1])\n",
    "\n",
    "plt.plot(train_fpr6, train_tpr6, label=\"train AUC =\"+str(auc(train_fpr6, train_tpr6)))\n",
    "plt.plot(test_fpr6, test_tpr6, label=\"test AUC =\"+str(auc(test_fpr6, test_tpr6)))\n",
    "plt.legend()\n",
    "plt.xlabel(\"FPR\")\n",
    "plt.ylabel(\"TPR\")\n",
    "plt.title(\"ROC CURVE\")\n",
    "plt.show()"
   ]
  },
  {
   "cell_type": "code",
   "execution_count": 154,
   "metadata": {},
   "outputs": [
    {
     "name": "stdout",
     "output_type": "stream",
     "text": [
      "Train confusion matrix\n"
     ]
    },
    {
     "data": {
      "image/png": "[encoded data removed]",
      "text/plain": [
       "<Figure size 432x288 with 2 Axes>"
      ]
     },
     "metadata": {},
     "output_type": "display_data"
    },
    {
     "name": "stdout",
     "output_type": "stream",
     "text": [
      "Test confusion matrix\n"
     ]
    },
    {
     "data": {
      "image/png": "[encoded data removed]",
      "text/plain": [
       "<Figure size 432x288 with 2 Axes>"
      ]
     },
     "metadata": {},
     "output_type": "display_data"
    }
   ],
   "source": [
    "# Confusion matrix\n",
    "print(\"Train confusion matrix\")\n",
    "matrix_train6= confusion_matrix(y_train, LR6.predict(X_train_tfidfw2v_S))\n",
    "index = ['negative', 'positive']  \n",
    "columns = ['negative', 'positive']\n",
    "df_matrix_train6 = pd.DataFrame(matrix_train6,columns,index)\n",
    "sns.heatmap(df_matrix_train6, annot=True, fmt='d')\n",
    "plt.title(\"Confusion Matrix\") \n",
    "plt.xlabel(\"Predicted\")\n",
    "plt.ylabel(\"Actual\")\n",
    "plt.show()\n",
    "\n",
    "print(\"Test confusion matrix\")\n",
    "matrix_test6= confusion_matrix(y_test, LR6.predict(X_test_tfidfw2v_S))\n",
    "index = ['negative', 'positive']  \n",
    "columns = ['negative', 'positive']\n",
    "df_matrix_test6 = pd.DataFrame(matrix_test6,columns,index)\n",
    "sns.heatmap(df_matrix_test6, annot=True, fmt='d')\n",
    "plt.title(\"Confusion Matrix\") \n",
    "plt.xlabel(\"Predicted\")\n",
    "plt.ylabel(\"Actual\")\n",
    "plt.show()"
   ]
  },
  {
   "cell_type": "markdown",
   "metadata": {},
   "source": [
    "### [5.4.2] Applying Logistic Regression with L2 regularization on TFIDF W2V,<font color='red'> SET 4</font>"
   ]
  },
  {
   "cell_type": "code",
   "execution_count": 155,
   "metadata": {},
   "outputs": [],
   "source": [
    "# Using Grid search method to find the optimal c.\n",
    "logistic_ = LogisticRegression(penalty='l2', class_weight = 'balanced')\n",
    "c= [0.00001,0.0001,0.001,0.01,0.1,1,10,100,1000,10000,100000]\n",
    "# Here c is the hyperparameter and it is the inverse of lamda.\n",
    "C= [{'C':c}]\n",
    "clf7 = GridSearchCV(logistic_, C, cv=3, scoring='roc_auc', return_train_score= True )\n",
    "clf7= clf7.fit(X_train_tfidfw2v_S, y_train)"
   ]
  },
  {
   "cell_type": "code",
   "execution_count": 156,
   "metadata": {
    "scrolled": true
   },
   "outputs": [
    {
     "data": {
      "image/png": "[encoded data removed]",
      "text/plain": [
       "<Figure size 432x288 with 1 Axes>"
      ]
     },
     "metadata": {},
     "output_type": "display_data"
    }
   ],
   "source": [
    "#Plotting performance of model both on train data and cross validation, and finding the best optimum C\n",
    "train_auc7= clf7.cv_results_['mean_train_score']\n",
    "train_auc_std7= clf7.cv_results_['std_train_score']\n",
    "cv_auc7 = clf7.cv_results_['mean_test_score'] \n",
    "cv_auc_std7= clf7.cv_results_['std_test_score']\n",
    "\n",
    "plt.semilogx(c, train_auc7, label='Train AUC')\n",
    "# this code is copied from here: https://stackoverflow.com/a/48803361/4084039\n",
    "plt.gca().fill_between(c,train_auc7 - train_auc_std7,train_auc7 + train_auc_std7,alpha=0.2,color='darkblue')\n",
    "\n",
    "plt.semilogx(c, cv_auc7, label='CV AUC')\n",
    "# this code is copied from here: https://stackoverflow.com/a/48803361/4084039\n",
    "plt.gca().fill_between(c,cv_auc7 - cv_auc_std7,cv_auc7 + cv_auc_std7,alpha=0.2,color='darkorange')\n",
    "plt.legend()\n",
    "plt.xlabel(\"c: hyperparameter\")\n",
    "plt.ylabel(\"AUC\")\n",
    "plt.title(\"ERROR PLOTS\")\n",
    "plt.show()"
   ]
  },
  {
   "cell_type": "code",
   "execution_count": 157,
   "metadata": {
    "scrolled": true
   },
   "outputs": [
    {
     "name": "stdout",
     "output_type": "stream",
     "text": [
      "LogisticRegression(C=0.1, class_weight='balanced', dual=False,\n",
      "                   fit_intercept=True, intercept_scaling=1, l1_ratio=None,\n",
      "                   max_iter=100, multi_class='warn', n_jobs=None, penalty='l2',\n",
      "                   random_state=None, solver='warn', tol=0.0001, verbose=0,\n",
      "                   warm_start=False)\n"
     ]
    }
   ],
   "source": [
    "print(clf7.best_estimator_)"
   ]
  },
  {
   "cell_type": "code",
   "execution_count": 158,
   "metadata": {},
   "outputs": [
    {
     "data": {
      "image/png": "[encoded data removed]",
      "text/plain": [
       "<Figure size 432x288 with 1 Axes>"
      ]
     },
     "metadata": {},
     "output_type": "display_data"
    }
   ],
   "source": [
    "#training our model with the best optimal c, and find the AUC on test data and plot the ROC curve on both train and test. \n",
    "LR7 = LogisticRegression(penalty='l2', C=1, class_weight = 'balanced')\n",
    "LR7.fit(X_train_tfidfw2v_S, y_train)\n",
    "# roc_auc_score(y_true, y_score) the 2nd parameter should be probability estimates of the positive class\n",
    "# not the predicted outputs\n",
    "\n",
    "train_fpr7, train_tpr7, thresholds7 = roc_curve(y_train, LR7.predict_proba(X_train_tfidfw2v_S)[:,1])\n",
    "test_fpr7, test_tpr7, thresholds7 = roc_curve(y_test, LR7.predict_proba(X_test_tfidfw2v_S)[:,1])\n",
    "\n",
    "plt.plot(train_fpr7, train_tpr7, label=\"train AUC =\"+str(auc(train_fpr7, train_tpr7)))\n",
    "plt.plot(test_fpr7, test_tpr7, label=\"test AUC =\"+str(auc(test_fpr7, test_tpr7)))\n",
    "plt.legend()\n",
    "plt.xlabel(\"FPR\")\n",
    "plt.ylabel(\"TPR\")\n",
    "plt.title(\"ROC CURVE\")\n",
    "plt.show()"
   ]
  },
  {
   "cell_type": "code",
   "execution_count": 159,
   "metadata": {
    "scrolled": false
   },
   "outputs": [
    {
     "name": "stdout",
     "output_type": "stream",
     "text": [
      "Train confusion matrix\n"
     ]
    },
    {
     "data": {
      "image/png": "[encoded data removed]",
      "text/plain": [
       "<Figure size 432x288 with 2 Axes>"
      ]
     },
     "metadata": {},
     "output_type": "display_data"
    },
    {
     "name": "stdout",
     "output_type": "stream",
     "text": [
      "Test confusion matrix\n"
     ]
    },
    {
     "data": {
      "image/png": "[encoded data removed]",
      "text/plain": [
       "<Figure size 432x288 with 2 Axes>"
      ]
     },
     "metadata": {},
     "output_type": "display_data"
    }
   ],
   "source": [
    "# Confusion Metric\n",
    "print(\"Train confusion matrix\")\n",
    "matrix_train7= confusion_matrix(y_train, LR7.predict(X_train_tfidfw2v_S))\n",
    "index = ['negative', 'positive']  \n",
    "columns = ['negative', 'positive']\n",
    "df_matrix_train7 = pd.DataFrame(matrix_train7,columns,index)\n",
    "sns.heatmap(df_matrix_train7, annot=True, fmt='d')\n",
    "plt.title(\"Confusion Matrix\") \n",
    "plt.xlabel(\"Predicted\")\n",
    "plt.ylabel(\"Actual\")\n",
    "plt.show()\n",
    "\n",
    "print(\"Test confusion matrix\")\n",
    "matrix_test7= confusion_matrix(y_test, LR7.predict(X_test_tfidfw2v_S))\n",
    "index = ['negative', 'positive']  \n",
    "columns = ['negative', 'positive']\n",
    "df_matrix_test7 = pd.DataFrame(matrix_test7,columns,index)\n",
    "sns.heatmap(df_matrix_test7, annot=True, fmt='d')\n",
    "plt.title(\"Confusion Matrix\") \n",
    "plt.xlabel(\"Predicted\")\n",
    "plt.ylabel(\"Actual\")\n",
    "plt.show()"
   ]
  },
  {
   "cell_type": "markdown",
   "metadata": {},
   "source": [
    "## [6]. Feature engineering:"
   ]
  },
  {
   "cell_type": "code",
   "execution_count": 160,
   "metadata": {},
   "outputs": [],
   "source": [
    "# Finding the lenght of the review:\n",
    "Review_len = [len(sentence.split()) for sentence in preprocessed_reviews]"
   ]
  },
  {
   "cell_type": "code",
   "execution_count": 161,
   "metadata": {},
   "outputs": [
    {
     "data": {
      "text/plain": [
       "20"
      ]
     },
     "execution_count": 161,
     "metadata": {},
     "output_type": "execute_result"
    }
   ],
   "source": [
    "Review_len[1500]"
   ]
  },
  {
   "cell_type": "code",
   "execution_count": 162,
   "metadata": {},
   "outputs": [
    {
     "data": {
      "text/plain": [
       "'bought green product however trouble worth hard scoop needs frequent changing tracks worse around house nothing control cat smell issue'"
      ]
     },
     "execution_count": 162,
     "metadata": {},
     "output_type": "execute_result"
    }
   ],
   "source": [
    "preprocessed_reviews[1500]"
   ]
  },
  {
   "cell_type": "code",
   "execution_count": 163,
   "metadata": {},
   "outputs": [],
   "source": [
    "#Adding review length and summary to preprocessed_review as the part of Feature engineering:\n",
    "preprocessed_reviews1= []\n",
    "for i in range(len(preprocessed_reviews)):\n",
    "    preprocessed_reviews[i]+=' '+preprocessed_summary[i]+' '+str(Review_len[i])\n",
    "    preprocessed_reviews1.append(preprocessed_reviews[i])"
   ]
  },
  {
   "cell_type": "code",
   "execution_count": 164,
   "metadata": {},
   "outputs": [
    {
     "data": {
      "text/plain": [
       "'bought green product however trouble worth hard scoop needs frequent changing tracks worse around house nothing control cat smell issue bad product 20'"
      ]
     },
     "execution_count": 164,
     "metadata": {},
     "output_type": "execute_result"
    }
   ],
   "source": [
    "preprocessed_reviews1[1500]"
   ]
  },
  {
   "cell_type": "code",
   "execution_count": 165,
   "metadata": {},
   "outputs": [],
   "source": [
    "X1= preprocessed_reviews1\n",
    "Y1 = Score"
   ]
  },
  {
   "cell_type": "code",
   "execution_count": 166,
   "metadata": {},
   "outputs": [
    {
     "data": {
      "text/plain": [
       "(71551,)"
      ]
     },
     "execution_count": 166,
     "metadata": {},
     "output_type": "execute_result"
    }
   ],
   "source": [
    "np.shape(X1)"
   ]
  },
  {
   "cell_type": "code",
   "execution_count": 167,
   "metadata": {},
   "outputs": [
    {
     "data": {
      "text/plain": [
       "(71551,)"
      ]
     },
     "execution_count": 167,
     "metadata": {},
     "output_type": "execute_result"
    }
   ],
   "source": [
    "np.shape(Y1)"
   ]
  },
  {
   "cell_type": "code",
   "execution_count": 168,
   "metadata": {},
   "outputs": [],
   "source": [
    "# Slicing the Data X and Y into X_train, X_test, y_train and y_test in the ratio 70:30\n",
    "# making sure not to use train_test_split as it would randomly split points and disturb the sorting\n",
    "X1_train= X[0:50086]\n",
    "X1_test= X[50086:]\n",
    "y1_train= Y[0:50086]\n",
    "y1_test= Y[50086:]"
   ]
  },
  {
   "cell_type": "markdown",
   "metadata": {},
   "source": [
    "### [6.1] FE: Applying Logistic Regression with L1 regularization on Bow, <font color='red'> SET 5</font>"
   ]
  },
  {
   "cell_type": "code",
   "execution_count": 169,
   "metadata": {},
   "outputs": [
    {
     "name": "stdout",
     "output_type": "stream",
     "text": [
      "the type of count vectorizer  <class 'scipy.sparse.csr.csr_matrix'>\n",
      "the number of unique words in X_train_fe 44869\n",
      "==================================================\n",
      "After vectorizations\n",
      "(50086, 44869) (50086,)\n",
      "(21465, 44869) (21465,)\n",
      "==================================================\n"
     ]
    }
   ],
   "source": [
    "#BoW\n",
    "count_vect1 = CountVectorizer()\n",
    "count_vect1.fit(X1_train) # fit has to happen only on train data\n",
    "\n",
    "X_train_fe_bow = count_vect1.transform(X1_train)\n",
    "X_test_fe_bow = count_vect1.transform(X1_test)\n",
    "\n",
    "print(\"the type of count vectorizer \",type(X_train_fe_bow))\n",
    "print(\"the number of unique words in X_train_fe\",X_train_fe_bow.shape[1])\n",
    "print('='*50)\n",
    "print(\"After vectorizations\")\n",
    "print(X_train_fe_bow.shape, y1_train.shape)\n",
    "print(X_test_fe_bow.shape, y1_test.shape)\n",
    "print(\"=\"*50)"
   ]
  },
  {
   "cell_type": "code",
   "execution_count": 170,
   "metadata": {},
   "outputs": [],
   "source": [
    "# Standardizing both X_TRAIN_fe_BOW AND X_TEST_fe_BOW\n",
    "Standard4= StandardScaler(with_mean=False).fit(X_train_fe_bow)\n",
    "X_train_fe_bow_S = Standard4.transform(X_train_fe_bow)\n",
    "X_test_fe_bow_S = Standard4.transform(X_test_fe_bow)"
   ]
  },
  {
   "cell_type": "code",
   "execution_count": 171,
   "metadata": {},
   "outputs": [],
   "source": [
    "logistic = LogisticRegression(penalty='l1', class_weight = 'balanced')\n",
    "c= [0.00001,0.0001,0.001,0.01,0.1,1,10,100,1000,10000,100000]\n",
    "# Here c is the hyperparameter and it is the inverse of lamda.\n",
    "C= [{'C':c}]\n",
    "clf8 = GridSearchCV(logistic, C, cv=3, scoring='roc_auc', return_train_score= True )\n",
    "clf8= clf8.fit(X_train_fe_bow_S, y1_train)"
   ]
  },
  {
   "cell_type": "code",
   "execution_count": 172,
   "metadata": {},
   "outputs": [
    {
     "data": {
      "image/png": "[encoded data removed]",
      "text/plain": [
       "<Figure size 432x288 with 1 Axes>"
      ]
     },
     "metadata": {},
     "output_type": "display_data"
    }
   ],
   "source": [
    "#Plotting performance of model both on train data and cross validation, and finding the best optimum c.\n",
    "train_auc8= clf8.cv_results_['mean_train_score']\n",
    "train_auc_std8= clf8.cv_results_['std_train_score']\n",
    "cv_auc8 = clf8.cv_results_['mean_test_score'] \n",
    "cv_auc_std8= clf8.cv_results_['std_test_score']\n",
    "\n",
    "plt.semilogx(c, train_auc8, label='Train AUC')\n",
    "# this code is copied from here: https://stackoverflow.com/a/48803361/4084039\n",
    "plt.gca().fill_between(c,train_auc8 - train_auc_std8,train_auc8 + train_auc_std8,alpha=0.2,color='darkblue')\n",
    "\n",
    "plt.semilogx(c, cv_auc8, label='CV AUC')\n",
    "# this code is copied from here: https://stackoverflow.com/a/48803361/4084039\n",
    "plt.gca().fill_between(c,cv_auc8 - cv_auc_std8,cv_auc8 + cv_auc_std8,alpha=0.2,color='darkorange')\n",
    "plt.legend()\n",
    "plt.xlabel(\"c: hyperparameter\")\n",
    "plt.ylabel(\"AUC\")\n",
    "plt.title(\"ERROR PLOTS\")\n",
    "plt.show()"
   ]
  },
  {
   "cell_type": "code",
   "execution_count": 173,
   "metadata": {},
   "outputs": [
    {
     "name": "stdout",
     "output_type": "stream",
     "text": [
      "LogisticRegression(C=0.01, class_weight='balanced', dual=False,\n",
      "                   fit_intercept=True, intercept_scaling=1, l1_ratio=None,\n",
      "                   max_iter=100, multi_class='warn', n_jobs=None, penalty='l1',\n",
      "                   random_state=None, solver='warn', tol=0.0001, verbose=0,\n",
      "                   warm_start=False)\n"
     ]
    }
   ],
   "source": [
    "print(clf8.best_estimator_)"
   ]
  },
  {
   "cell_type": "code",
   "execution_count": 174,
   "metadata": {},
   "outputs": [
    {
     "data": {
      "image/png": "[encoded data removed]",
      "text/plain": [
       "<Figure size 432x288 with 1 Axes>"
      ]
     },
     "metadata": {},
     "output_type": "display_data"
    }
   ],
   "source": [
    "#training our model with the best optimal c, and find the AUC on test data and plot the ROC curve on both train and test. \n",
    "LR8 = LogisticRegression(penalty='l1', C=0.01, class_weight = 'balanced')\n",
    "LR8.fit(X_train_fe_bow_S, y1_train)\n",
    "# roc_auc_score(y_true, y_score) the 2nd parameter should be probability estimates of the positive class\n",
    "# not the predicted outputs\n",
    "\n",
    "train_fpr8, train_tpr8, thresholds8 = roc_curve(y1_train, LR8.predict_proba(X_train_fe_bow_S)[:,1])\n",
    "test_fpr8, test_tpr8, thresholds8 = roc_curve(y1_test, LR8.predict_proba(X_test_fe_bow_S)[:,1])\n",
    "\n",
    "plt.plot(train_fpr8, train_tpr8, label=\"train AUC =\"+str(auc(train_fpr8, train_tpr8)))\n",
    "plt.plot(test_fpr8, test_tpr8, label=\"test AUC =\"+str(auc(test_fpr8, test_tpr8)))\n",
    "plt.legend()\n",
    "plt.xlabel(\"FPR\")\n",
    "plt.ylabel(\"TPR\")\n",
    "plt.title(\"ROC CURVE\")\n",
    "plt.show()"
   ]
  },
  {
   "cell_type": "code",
   "execution_count": 175,
   "metadata": {},
   "outputs": [
    {
     "name": "stdout",
     "output_type": "stream",
     "text": [
      "Train confusion matrix\n"
     ]
    },
    {
     "data": {
      "image/png": "[encoded data removed]",
      "text/plain": [
       "<Figure size 432x288 with 2 Axes>"
      ]
     },
     "metadata": {},
     "output_type": "display_data"
    },
    {
     "name": "stdout",
     "output_type": "stream",
     "text": [
      "Test confusion matrix\n"
     ]
    },
    {
     "data": {
      "image/png": "[encoded data removed]",
      "text/plain": [
       "<Figure size 432x288 with 2 Axes>"
      ]
     },
     "metadata": {},
     "output_type": "display_data"
    }
   ],
   "source": [
    "# Confusion matrix\n",
    "print(\"Train confusion matrix\")\n",
    "matrix_train8= confusion_matrix(y1_train, LR8.predict(X_train_fe_bow_S))\n",
    "index = ['negative', 'positive']  \n",
    "columns = ['negative', 'positive']\n",
    "df_matrix_train8 = pd.DataFrame(matrix_train8,columns,index)\n",
    "sns.heatmap(df_matrix_train8, annot=True, fmt='d')\n",
    "plt.title(\"Confusion Matrix\") \n",
    "plt.xlabel(\"Predicted\")\n",
    "plt.ylabel(\"Actual\")\n",
    "plt.show()\n",
    "\n",
    "print(\"Test confusion matrix\")\n",
    "matrix_test8= confusion_matrix(y1_test, LR8.predict(X_test_fe_bow_S))\n",
    "index = ['negative', 'positive']  \n",
    "columns = ['negative', 'positive']\n",
    "df_matrix_test8 = pd.DataFrame(matrix_test8,columns,index)\n",
    "sns.heatmap(df_matrix_test8, annot=True, fmt='d')\n",
    "plt.title(\"Confusion Matrix\") \n",
    "plt.xlabel(\"Predicted\")\n",
    "plt.ylabel(\"Actual\")\n",
    "plt.show()"
   ]
  },
  {
   "cell_type": "markdown",
   "metadata": {},
   "source": [
    "### [6.2] FE: Applying Logistic Regression with L1 regularization on TFIDF, <font color='red'> SET 6</font>"
   ]
  },
  {
   "cell_type": "code",
   "execution_count": 176,
   "metadata": {},
   "outputs": [
    {
     "name": "stdout",
     "output_type": "stream",
     "text": [
      "==================================================\n",
      "the type of tf_idf_vect1 <class 'scipy.sparse.csr.csr_matrix'>\n",
      "==================================================\n",
      "After vectorizations\n",
      "(50086, 32685) (50086,)\n",
      "(21465, 32685) (21465,)\n",
      "==================================================\n",
      "The number of unique words in tf_idf_vect1 of X_train_fe  32685\n"
     ]
    }
   ],
   "source": [
    "#tfidf\n",
    "tf_idf_vect1 = TfidfVectorizer(ngram_range=(1,2), min_df=10)\n",
    "tf_idf_vect1.fit(X1_train)\n",
    "print('='*50)\n",
    "\n",
    "X_train_fe_tfidf = tf_idf_vect1.transform(X1_train)\n",
    "X_test_fe_tfidf = tf_idf_vect1.transform(X1_test)\n",
    "print(\"the type of tf_idf_vect1\",type(X_train_fe_tfidf))\n",
    "print('='*50)\n",
    "\n",
    "print(\"After vectorizations\")\n",
    "print(X_train_fe_tfidf.shape, y1_train.shape)\n",
    "print(X_test_fe_tfidf.shape, y1_test.shape)\n",
    "print('='*50)\n",
    "print(\"The number of unique words in tf_idf_vect1 of X_train_fe \", X_train_fe_tfidf.shape[1])"
   ]
  },
  {
   "cell_type": "code",
   "execution_count": 177,
   "metadata": {},
   "outputs": [],
   "source": [
    "# Standardizing both X_TRAIN_BOW AND X_TEST_BOW\n",
    "Standard5= StandardScaler(with_mean=False).fit(X_train_fe_tfidf)\n",
    "X_train_fe_tfidf_S = Standard5.transform(X_train_fe_tfidf)\n",
    "X_test_fe_tfidf_S = Standard5.transform(X_test_fe_tfidf)"
   ]
  },
  {
   "cell_type": "code",
   "execution_count": 178,
   "metadata": {},
   "outputs": [],
   "source": [
    "logistic = LogisticRegression(penalty='l1', class_weight = 'balanced')\n",
    "c= [0.00001,0.0001,0.001,0.01,0.1,1,10,100,1000,10000,100000]\n",
    "# Here c is the hyperparameter and it is the inverse of lamda.\n",
    "C= [{'C':c}]\n",
    "clf9 = GridSearchCV(logistic, C, cv=3, scoring='roc_auc', return_train_score= True )\n",
    "clf9= clf9.fit(X_train_fe_tfidf_S, y1_train)"
   ]
  },
  {
   "cell_type": "code",
   "execution_count": 179,
   "metadata": {},
   "outputs": [
    {
     "data": {
      "image/png": "[encoded data removed]",
      "text/plain": [
       "<Figure size 432x288 with 1 Axes>"
      ]
     },
     "metadata": {},
     "output_type": "display_data"
    }
   ],
   "source": [
    "#Plotting performance of model both on train data and cross validation, and finding the best optimum K.\n",
    "train_auc9= clf9.cv_results_['mean_train_score']\n",
    "train_auc_std9= clf9.cv_results_['std_train_score']\n",
    "cv_auc9 = clf9.cv_results_['mean_test_score'] \n",
    "cv_auc_std9= clf9.cv_results_['std_test_score']\n",
    "\n",
    "plt.semilogx(c, train_auc9, label='Train AUC')\n",
    "# this code is copied from here: https://stackoverflow.com/a/48803361/4084039\n",
    "plt.gca().fill_between(c,train_auc9 - train_auc_std9,train_auc9 + train_auc_std9,alpha=0.2,color='darkblue')\n",
    "\n",
    "plt.semilogx(c, cv_auc9, label='CV AUC')\n",
    "# this code is copied from here: https://stackoverflow.com/a/48803361/4084039\n",
    "plt.gca().fill_between(c,cv_auc9 - cv_auc_std9,cv_auc9 + cv_auc_std9,alpha=0.2,color='darkorange')\n",
    "plt.legend()\n",
    "plt.xlabel(\"c: hyperparameter\")\n",
    "plt.ylabel(\"AUC\")\n",
    "plt.title(\"ERROR PLOTS\")\n",
    "plt.show()"
   ]
  },
  {
   "cell_type": "code",
   "execution_count": 180,
   "metadata": {},
   "outputs": [
    {
     "name": "stdout",
     "output_type": "stream",
     "text": [
      "LogisticRegression(C=0.01, class_weight='balanced', dual=False,\n",
      "                   fit_intercept=True, intercept_scaling=1, l1_ratio=None,\n",
      "                   max_iter=100, multi_class='warn', n_jobs=None, penalty='l1',\n",
      "                   random_state=None, solver='warn', tol=0.0001, verbose=0,\n",
      "                   warm_start=False)\n"
     ]
    }
   ],
   "source": [
    "print(clf9.best_estimator_)"
   ]
  },
  {
   "cell_type": "code",
   "execution_count": 181,
   "metadata": {},
   "outputs": [
    {
     "data": {
      "image/png": "[encoded data removed]",
      "text/plain": [
       "<Figure size 432x288 with 1 Axes>"
      ]
     },
     "metadata": {},
     "output_type": "display_data"
    }
   ],
   "source": [
    "#training our model with the best optimal c, and find the AUC on test data and plot the ROC curve on both train and test. \n",
    "LR9 = LogisticRegression(penalty='l1', C=0.01, class_weight = 'balanced')\n",
    "LR9.fit(X_train_fe_tfidf_S, y1_train)\n",
    "# roc_auc_score(y_true, y_score) the 2nd parameter should be probability estimates of the positive class\n",
    "# not the predicted outputs\n",
    "\n",
    "train_fpr9, train_tpr9, thresholds9 = roc_curve(y1_train, LR9.predict_proba(X_train_fe_tfidf_S)[:,1])\n",
    "test_fpr9, test_tpr9, thresholds9 = roc_curve(y1_test, LR9.predict_proba(X_test_fe_tfidf_S)[:,1])\n",
    "\n",
    "plt.plot(train_fpr9, train_tpr9, label=\"train AUC =\"+str(auc(train_fpr9, train_tpr9)))\n",
    "plt.plot(test_fpr9, test_tpr9, label=\"test AUC =\"+str(auc(test_fpr9, test_tpr9)))\n",
    "plt.legend()\n",
    "plt.xlabel(\"FPR\")\n",
    "plt.ylabel(\"TPR\")\n",
    "plt.title(\"ROC CURVE\")\n",
    "plt.show()"
   ]
  },
  {
   "cell_type": "code",
   "execution_count": 182,
   "metadata": {},
   "outputs": [
    {
     "name": "stdout",
     "output_type": "stream",
     "text": [
      "Train confusion matrix\n"
     ]
    },
    {
     "data": {
      "image/png": "[encoded data removed]",
      "text/plain": [
       "<Figure size 432x288 with 2 Axes>"
      ]
     },
     "metadata": {},
     "output_type": "display_data"
    },
    {
     "name": "stdout",
     "output_type": "stream",
     "text": [
      "Test confusion matrix\n"
     ]
    },
    {
     "data": {
      "image/png": "[encoded data removed]",
      "text/plain": [
       "<Figure size 432x288 with 2 Axes>"
      ]
     },
     "metadata": {},
     "output_type": "display_data"
    }
   ],
   "source": [
    "# Confusion matrix\n",
    "print(\"Train confusion matrix\")\n",
    "matrix_train9= confusion_matrix(y1_train, LR9.predict(X_train_fe_tfidf_S))\n",
    "index = ['negative', 'positive']  \n",
    "columns = ['negative', 'positive']\n",
    "df_matrix_train9 = pd.DataFrame(matrix_train9,columns,index)\n",
    "sns.heatmap(df_matrix_train9, annot=True, fmt='d')\n",
    "plt.title(\"Confusion Matrix\") \n",
    "plt.xlabel(\"Predicted\")\n",
    "plt.ylabel(\"Actual\")\n",
    "plt.show()\n",
    "\n",
    "print(\"Test confusion matrix\")\n",
    "matrix_test9= confusion_matrix(y1_test, LR9.predict(X_test_fe_tfidf_S))\n",
    "index = ['negative', 'positive']  \n",
    "columns = ['negative', 'positive']\n",
    "df_matrix_test9 = pd.DataFrame(matrix_test9,columns,index)\n",
    "sns.heatmap(df_matrix_test9, annot=True, fmt='d')\n",
    "plt.title(\"Confusion Matrix\") \n",
    "plt.xlabel(\"Predicted\")\n",
    "plt.ylabel(\"Actual\")\n",
    "plt.show()"
   ]
  },
  {
   "cell_type": "code",
   "execution_count": 183,
   "metadata": {},
   "outputs": [
    {
     "name": "stdout",
     "output_type": "stream",
     "text": [
      "Summarize the results: \n",
      "+---------------------+----------------+----------------+---------+----------------------+----------+\n",
      "|        Model        |   Vectorizer   | Regularization | FE Data | Hyperparameter-Alpha | Test AUC |\n",
      "+---------------------+----------------+----------------+---------+----------------------+----------+\n",
      "| Logistic Regression |      BOW       |       L1       |    No   |         0.01         |  0.9447  |\n",
      "| Logistic Regression |      BOW       |       L2       |    No   |        1e-05         |  0.9328  |\n",
      "| Logistic Regression |     TFIDF      |       L1       |    No   |         0.01         |  0.9628  |\n",
      "| Logistic Regression |     TFIDF      |       L2       |    No   |        1e-05         |  0.9622  |\n",
      "| Logistic Regression |    Avg W2V     |       L1       |    No   |         0.1          |  0.8416  |\n",
      "| Logistic Regression |    Avg W2V     |       L2       |    No   |         0.1          |  0.8406  |\n",
      "| Logistic Regression | TFIDF Avg W2v  |       L1       |    No   |          1           |  0.7882  |\n",
      "| Logistic Regression | TFIDF Avg W2v  |       L2       |    No   |         0.1          |  0.7881  |\n",
      "| Logistic Regression |      BOW       |       L1       |   Yes   |         0.01         |  0.9617  |\n",
      "| Logistic Regression |     TFIDF      |       L1       |   Yes   |         0.01         |  0.9755  |\n",
      "+---------------------+----------------+----------------+---------+----------------------+----------+\n"
     ]
    }
   ],
   "source": [
    "from prettytable import PrettyTable\n",
    "x = PrettyTable()\n",
    "\n",
    "x.field_names = [\"Model\",\"Vectorizer\", \"Regularization\", \"FE Data\",\"Hyperparameter-Alpha\", \"Test AUC\"]\n",
    "x.add_row([\"Logistic Regression\",\"BOW\", \"L1\",\"No\", 0.01, 0.9447])\n",
    "x.add_row([\"Logistic Regression\",\"BOW\", \"L2\", \"No\", 1e-05, 0.9328])\n",
    "x.add_row([\"Logistic Regression\",\"TFIDF\",\"L1\", \"No\", 0.01, 0.9628])\n",
    "x.add_row([\"Logistic Regression\",\"TFIDF\", \"L2\",\"No\", 1e-05, 0.9622])\n",
    "x.add_row([\"Logistic Regression\",\"Avg W2V\",\"L1\",\"No\", 0.1, 0.8416])\n",
    "x.add_row([\"Logistic Regression\",\"Avg W2V\",\"L2\", \"No\", 0.1, 0.8406])\n",
    "x.add_row([\"Logistic Regression\",\"TFIDF Avg W2v \",\"L1\", \"No\", 1, 0.7882])\n",
    "x.add_row([\"Logistic Regression\",\"TFIDF Avg W2v\",\"L2\", \"No\", 0.1, 0.7881])\n",
    "x.add_row([\"Logistic Regression\",\"BOW\", \"L1\",\"Yes\", 0.01, 0.9617])\n",
    "x.add_row([\"Logistic Regression\",\"TFIDF\", \"L1\",\"Yes\", 0.01, 0.9755])\n",
    "print (\"Summarize the results: \")\n",
    "print(x)"
   ]
  },
  {
   "cell_type": "markdown",
   "metadata": {},
   "source": [
    "# Conclusions"
   ]
  },
  {
   "cell_type": "markdown",
   "metadata": {},
   "source": [
    "- Highest test Auc of 0.9755 found using vectorizer TFIDF with C value of 0.01 using L1 vectorizer on FE data.\n",
    "- All the model always perform good on training data than the test data.\n",
    "- On applying FE on the last 2 sets we noted that the Test AUC have increased. Hence we can conclude that the performance of medel has improved."
   ]
  },
  {
   "cell_type": "markdown",
   "metadata": {},
   "source": [
    "#### Reference:\n",
    "- www.appliedaicourse.com\n",
    "- https://stackoverflow.com\n"
   ]
  }
 ],
 "metadata": {
  "colab": {
   "name": "03 Amazon Fine Food Reviews Analysis_KNN.ipynb",
   "provenance": [],
   "version": "0.3.2"
  },
  "kernelspec": {
   "display_name": "Python 3",
   "language": "python",
   "name": "python3"
  },
  "language_info": {
   "codemirror_mode": {
    "name": "ipython",
    "version": 3
   },
   "file_extension": ".py",
   "mimetype": "text/x-python",
   "name": "python",
   "nbconvert_exporter": "python",
   "pygments_lexer": "ipython3",
   "version": "3.6.5"
  }
 },
 "nbformat": 4,
 "nbformat_minor": 1
}
