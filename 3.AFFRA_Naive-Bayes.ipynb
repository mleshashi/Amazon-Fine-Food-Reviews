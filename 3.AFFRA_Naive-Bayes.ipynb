{
 "cells": [
  {
   "cell_type": "markdown",
   "metadata": {},
   "source": [
    "**Shashi Sharma, ss139529@gmail.com**"
   ]
  },
  {
   "cell_type": "markdown",
   "metadata": {
    "colab_type": "text",
    "id": "4UPJU7FIDYHb"
   },
   "source": [
    "# Amazon Fine Food Reviews Analysis_NB\n",
    "\n",
    "\n",
    "Data Source: https://www.kaggle.com/snap/amazon-fine-food-reviews <br>\n",
    "\n",
    "EDA: https://nycdatascience.com/blog/student-works/amazon-fine-foods-visualization/\n",
    "\n",
    "\n",
    "The Amazon Fine Food Reviews dataset consists of reviews of fine foods from Amazon.<br>\n",
    "\n",
    "Number of reviews: 568,454<br>\n",
    "Number of users: 256,059<br>\n",
    "Number of products: 74,258<br>\n",
    "Timespan: Oct 1999 - Oct 2012<br>\n",
    "Number of Attributes/Columns in data: 10 \n",
    "\n",
    "Attribute Information:\n",
    "\n",
    "1. Id\n",
    "2. ProductId - unique identifier for the product\n",
    "3. UserId - unqiue identifier for the user\n",
    "4. ProfileName\n",
    "5. HelpfulnessNumerator - number of users who found the review helpful\n",
    "6. HelpfulnessDenominator - number of users who indicated whether they found the review helpful or not\n",
    "7. Score - rating between 1 and 5\n",
    "8. Time - timestamp for the review\n",
    "9. Summary - brief summary of the review\n",
    "10. Text - text of the review\n",
    "\n",
    "\n",
    "#### Objective:\n",
    "Given a review, determine whether the review is positive (rating of 4 or 5) or negative (rating of 1 or 2).\n",
    "\n",
    "<br>\n",
    "[Q] How to determine if a review is positive or negative?<br>\n",
    "<br> \n",
    "[Ans] We could use Score/Rating. A rating of 4 or 5 can be cosnidered as a positive review. A rating of 1 or 2 can be considered as negative one. A review of rating 3 is considered nuetral and such reviews are ignored from our analysis. This is an approximate and proxy way of determining the polarity (positivity/negativity) of a review.\n",
    "\n",
    "\n"
   ]
  },
  {
   "cell_type": "markdown",
   "metadata": {
    "colab_type": "text",
    "id": "Iac3VjZcDYHf"
   },
   "source": [
    "# [1]. Reading Data"
   ]
  },
  {
   "cell_type": "markdown",
   "metadata": {
    "colab_type": "text",
    "id": "wEsMRzNDDYHi"
   },
   "source": [
    "## [1.1] Loading the data\n",
    "\n",
    "The dataset is available in two forms\n",
    "1. .csv file\n",
    "2. SQLite Database\n",
    "\n",
    "In order to load the data, We have used the SQLITE dataset as it is easier to query the data and visualise the data efficiently.\n",
    "<br> \n",
    "\n",
    "Here as we only want to get the global sentiment of the recommendations (positive or negative), we will purposefully ignore all Scores equal to 3. If the score is above 3, then the recommendation wil be set to \"positive\". Otherwise, it will be set to \"negative\"."
   ]
  },
  {
   "cell_type": "code",
   "execution_count": 1,
   "metadata": {
    "colab": {},
    "colab_type": "code",
    "id": "ADl9geUvDYHl"
   },
   "outputs": [
    {
     "name": "stderr",
     "output_type": "stream",
     "text": [
      "C:\\Anaconda3\\lib\\site-packages\\gensim\\utils.py:1197: UserWarning: detected Windows; aliasing chunkize to chunkize_serial\n",
      "  warnings.warn(\"detected Windows; aliasing chunkize to chunkize_serial\")\n"
     ]
    }
   ],
   "source": [
    "%matplotlib inline\n",
    "import warnings\n",
    "warnings.filterwarnings(\"ignore\")\n",
    "\n",
    "\n",
    "import sqlite3\n",
    "import pandas as pd\n",
    "import numpy as np\n",
    "import nltk\n",
    "import string\n",
    "import matplotlib.pyplot as plt\n",
    "import seaborn as sns\n",
    "from sklearn.feature_extraction.text import TfidfTransformer\n",
    "from sklearn.feature_extraction.text import TfidfVectorizer\n",
    "\n",
    "from sklearn.feature_extraction.text import CountVectorizer\n",
    "from sklearn.metrics import confusion_matrix\n",
    "from sklearn import metrics\n",
    "from sklearn.metrics import roc_curve, auc\n",
    "from nltk.stem.porter import PorterStemmer\n",
    "\n",
    "import re\n",
    "# Tutorial about Python regular expressions: https://pymotw.com/2/re/\n",
    "import string\n",
    "from nltk.corpus import stopwords\n",
    "from nltk.stem import PorterStemmer\n",
    "from nltk.stem.wordnet import WordNetLemmatizer\n",
    "\n",
    "from gensim.models import Word2Vec\n",
    "from gensim.models import KeyedVectors\n",
    "import pickle\n",
    "\n",
    "from tqdm import tqdm\n",
    "import os\n",
    "from sklearn.neighbors import KNeighborsClassifier\n",
    "from sklearn import datasets, neighbors\n",
    "from sklearn.model_selection import train_test_split\n",
    "from sklearn.model_selection import cross_val_score\n",
    "from sklearn.neighbors import KNeighborsClassifier\n",
    "from sklearn.metrics import accuracy_score\n",
    "from collections import Counter\n",
    "from sklearn.metrics import accuracy_score\n",
    "from sklearn.metrics import classification_report\n",
    "from sklearn.preprocessing import StandardScaler\n"
   ]
  },
  {
   "cell_type": "code",
   "execution_count": 2,
   "metadata": {
    "colab": {},
    "colab_type": "code",
    "id": "9pO69buUDYHz",
    "outputId": "00371235-7840-4a31-be63-4945d6cbbb2e"
   },
   "outputs": [
    {
     "name": "stdout",
     "output_type": "stream",
     "text": [
      "Number of data points in our data (100000, 10)\n"
     ]
    },
    {
     "data": {
      "text/html": [
       "<div>\n",
       "<style scoped>\n",
       "    .dataframe tbody tr th:only-of-type {\n",
       "        vertical-align: middle;\n",
       "    }\n",
       "\n",
       "    .dataframe tbody tr th {\n",
       "        vertical-align: top;\n",
       "    }\n",
       "\n",
       "    .dataframe thead th {\n",
       "        text-align: right;\n",
       "    }\n",
       "</style>\n",
       "<table border=\"1\" class=\"dataframe\">\n",
       "  <thead>\n",
       "    <tr style=\"text-align: right;\">\n",
       "      <th></th>\n",
       "      <th>Id</th>\n",
       "      <th>ProductId</th>\n",
       "      <th>UserId</th>\n",
       "      <th>ProfileName</th>\n",
       "      <th>HelpfulnessNumerator</th>\n",
       "      <th>HelpfulnessDenominator</th>\n",
       "      <th>Score</th>\n",
       "      <th>Time</th>\n",
       "      <th>Summary</th>\n",
       "      <th>Text</th>\n",
       "    </tr>\n",
       "  </thead>\n",
       "  <tbody>\n",
       "    <tr>\n",
       "      <td>0</td>\n",
       "      <td>10</td>\n",
       "      <td>B00171APVA</td>\n",
       "      <td>A21BT40VZCCYT4</td>\n",
       "      <td>Carol A. Reed</td>\n",
       "      <td>0</td>\n",
       "      <td>0</td>\n",
       "      <td>1</td>\n",
       "      <td>1351209600</td>\n",
       "      <td>Healthy Dog Food</td>\n",
       "      <td>This is a very healthy dog food. Good for thei...</td>\n",
       "    </tr>\n",
       "    <tr>\n",
       "      <td>1</td>\n",
       "      <td>1089</td>\n",
       "      <td>B004FD13RW</td>\n",
       "      <td>A1BPLP0BKERV</td>\n",
       "      <td>Paul</td>\n",
       "      <td>0</td>\n",
       "      <td>0</td>\n",
       "      <td>1</td>\n",
       "      <td>1351209600</td>\n",
       "      <td>It is awesome.</td>\n",
       "      <td>My partner is very happy with the tea, and is ...</td>\n",
       "    </tr>\n",
       "    <tr>\n",
       "      <td>2</td>\n",
       "      <td>5703</td>\n",
       "      <td>B009WSNWC4</td>\n",
       "      <td>AMP7K1O84DH1T</td>\n",
       "      <td>ESTY</td>\n",
       "      <td>0</td>\n",
       "      <td>0</td>\n",
       "      <td>1</td>\n",
       "      <td>1351209600</td>\n",
       "      <td>DELICIOUS</td>\n",
       "      <td>Purchased this product at a local store in NY ...</td>\n",
       "    </tr>\n",
       "    <tr>\n",
       "      <td>3</td>\n",
       "      <td>5924</td>\n",
       "      <td>B00523NRVO</td>\n",
       "      <td>A2JDXKFZ0PFHKU</td>\n",
       "      <td>James W. Shondel</td>\n",
       "      <td>0</td>\n",
       "      <td>0</td>\n",
       "      <td>1</td>\n",
       "      <td>1351209600</td>\n",
       "      <td>The perfect pop!</td>\n",
       "      <td>These lollipops are are well done, look exactl...</td>\n",
       "    </tr>\n",
       "    <tr>\n",
       "      <td>4</td>\n",
       "      <td>7178</td>\n",
       "      <td>B004OQLIHK</td>\n",
       "      <td>AKHQMSUORSA91</td>\n",
       "      <td>Pen Name</td>\n",
       "      <td>0</td>\n",
       "      <td>0</td>\n",
       "      <td>1</td>\n",
       "      <td>1351209600</td>\n",
       "      <td>Delicious!</td>\n",
       "      <td>I have ordered these raisins multiple times.  ...</td>\n",
       "    </tr>\n",
       "  </tbody>\n",
       "</table>\n",
       "</div>"
      ],
      "text/plain": [
       "     Id   ProductId          UserId       ProfileName  HelpfulnessNumerator  \\\n",
       "0    10  B00171APVA  A21BT40VZCCYT4     Carol A. Reed                     0   \n",
       "1  1089  B004FD13RW    A1BPLP0BKERV              Paul                     0   \n",
       "2  5703  B009WSNWC4   AMP7K1O84DH1T              ESTY                     0   \n",
       "3  5924  B00523NRVO  A2JDXKFZ0PFHKU  James W. Shondel                     0   \n",
       "4  7178  B004OQLIHK   AKHQMSUORSA91          Pen Name                     0   \n",
       "\n",
       "   HelpfulnessDenominator  Score        Time           Summary  \\\n",
       "0                       0      1  1351209600  Healthy Dog Food   \n",
       "1                       0      1  1351209600    It is awesome.   \n",
       "2                       0      1  1351209600         DELICIOUS   \n",
       "3                       0      1  1351209600  The perfect pop!   \n",
       "4                       0      1  1351209600        Delicious!   \n",
       "\n",
       "                                                Text  \n",
       "0  This is a very healthy dog food. Good for thei...  \n",
       "1  My partner is very happy with the tea, and is ...  \n",
       "2  Purchased this product at a local store in NY ...  \n",
       "3  These lollipops are are well done, look exactl...  \n",
       "4  I have ordered these raisins multiple times.  ...  "
      ]
     },
     "execution_count": 2,
     "metadata": {},
     "output_type": "execute_result"
    }
   ],
   "source": [
    "\n",
    "# using the SQLite Table to read data.\n",
    "con = sqlite3.connect('database.sqlite') \n",
    "#filtering only positive and negative reviews i.e. \n",
    "# not taking into consideration those reviews with Score=3\n",
    "# Here we are ordering the time column in desc order as AFR is a time series data.\n",
    "\n",
    "\n",
    "filtered_data = pd.read_sql_query(\"\"\" SELECT * FROM Reviews WHERE Score !=3 ORDER BY TIME DESC LIMIT 100000\"\"\", con) \n",
    "\n",
    "# Give reviews with Score>3 a positive rating, and reviews with a score<3 a negative rating.\n",
    "def partition(x):\n",
    "    if x < 3:\n",
    "        return 0\n",
    "    return 1\n",
    "\n",
    "#changing reviews with score less than 3 to be positive and vice-versa\n",
    "ActualScore = filtered_data['Score']\n",
    "positiveNegative = ActualScore.map(partition) \n",
    "filtered_data['Score'] = positiveNegative\n",
    "print(\"Number of data points in our data\", filtered_data.shape)\n",
    "filtered_data.head(5)"
   ]
  },
  {
   "cell_type": "code",
   "execution_count": 3,
   "metadata": {
    "colab": {},
    "colab_type": "code",
    "id": "bDrGXaolDYIH"
   },
   "outputs": [],
   "source": [
    "display = pd.read_sql_query(\"\"\"\n",
    "SELECT UserId, ProductId, ProfileName, Time, Score, Text, COUNT(*)\n",
    "FROM Reviews\n",
    "GROUP BY UserId\n",
    "HAVING COUNT(*)>1\n",
    "\"\"\", con)"
   ]
  },
  {
   "cell_type": "code",
   "execution_count": 4,
   "metadata": {
    "colab": {},
    "colab_type": "code",
    "id": "Jj-M3g0FDYIj",
    "outputId": "2c700ad5-02ad-4f43-a532-fb847609043e",
    "scrolled": true
   },
   "outputs": [
    {
     "name": "stdout",
     "output_type": "stream",
     "text": [
      "(80668, 7)\n"
     ]
    },
    {
     "data": {
      "text/html": [
       "<div>\n",
       "<style scoped>\n",
       "    .dataframe tbody tr th:only-of-type {\n",
       "        vertical-align: middle;\n",
       "    }\n",
       "\n",
       "    .dataframe tbody tr th {\n",
       "        vertical-align: top;\n",
       "    }\n",
       "\n",
       "    .dataframe thead th {\n",
       "        text-align: right;\n",
       "    }\n",
       "</style>\n",
       "<table border=\"1\" class=\"dataframe\">\n",
       "  <thead>\n",
       "    <tr style=\"text-align: right;\">\n",
       "      <th></th>\n",
       "      <th>UserId</th>\n",
       "      <th>ProductId</th>\n",
       "      <th>ProfileName</th>\n",
       "      <th>Time</th>\n",
       "      <th>Score</th>\n",
       "      <th>Text</th>\n",
       "      <th>COUNT(*)</th>\n",
       "    </tr>\n",
       "  </thead>\n",
       "  <tbody>\n",
       "    <tr>\n",
       "      <td>0</td>\n",
       "      <td>#oc-R115TNMSPFT9I7</td>\n",
       "      <td>B007Y59HVM</td>\n",
       "      <td>Breyton</td>\n",
       "      <td>1331510400</td>\n",
       "      <td>2</td>\n",
       "      <td>Overall its just OK when considering the price...</td>\n",
       "      <td>2</td>\n",
       "    </tr>\n",
       "    <tr>\n",
       "      <td>1</td>\n",
       "      <td>#oc-R11D9D7SHXIJB9</td>\n",
       "      <td>B005HG9ET0</td>\n",
       "      <td>Louis E. Emory \"hoppy\"</td>\n",
       "      <td>1342396800</td>\n",
       "      <td>5</td>\n",
       "      <td>My wife has recurring extreme muscle spasms, u...</td>\n",
       "      <td>3</td>\n",
       "    </tr>\n",
       "    <tr>\n",
       "      <td>2</td>\n",
       "      <td>#oc-R11DNU2NBKQ23Z</td>\n",
       "      <td>B007Y59HVM</td>\n",
       "      <td>Kim Cieszykowski</td>\n",
       "      <td>1348531200</td>\n",
       "      <td>1</td>\n",
       "      <td>This coffee is horrible and unfortunately not ...</td>\n",
       "      <td>2</td>\n",
       "    </tr>\n",
       "    <tr>\n",
       "      <td>3</td>\n",
       "      <td>#oc-R11O5J5ZVQE25C</td>\n",
       "      <td>B005HG9ET0</td>\n",
       "      <td>Penguin Chick</td>\n",
       "      <td>1346889600</td>\n",
       "      <td>5</td>\n",
       "      <td>This will be the bottle that you grab from the...</td>\n",
       "      <td>3</td>\n",
       "    </tr>\n",
       "    <tr>\n",
       "      <td>4</td>\n",
       "      <td>#oc-R12KPBODL2B5ZD</td>\n",
       "      <td>B007OSBE1U</td>\n",
       "      <td>Christopher P. Presta</td>\n",
       "      <td>1348617600</td>\n",
       "      <td>1</td>\n",
       "      <td>I didnt like this coffee. Instead of telling y...</td>\n",
       "      <td>2</td>\n",
       "    </tr>\n",
       "  </tbody>\n",
       "</table>\n",
       "</div>"
      ],
      "text/plain": [
       "               UserId   ProductId             ProfileName        Time  Score  \\\n",
       "0  #oc-R115TNMSPFT9I7  B007Y59HVM                 Breyton  1331510400      2   \n",
       "1  #oc-R11D9D7SHXIJB9  B005HG9ET0  Louis E. Emory \"hoppy\"  1342396800      5   \n",
       "2  #oc-R11DNU2NBKQ23Z  B007Y59HVM        Kim Cieszykowski  1348531200      1   \n",
       "3  #oc-R11O5J5ZVQE25C  B005HG9ET0           Penguin Chick  1346889600      5   \n",
       "4  #oc-R12KPBODL2B5ZD  B007OSBE1U   Christopher P. Presta  1348617600      1   \n",
       "\n",
       "                                                Text  COUNT(*)  \n",
       "0  Overall its just OK when considering the price...         2  \n",
       "1  My wife has recurring extreme muscle spasms, u...         3  \n",
       "2  This coffee is horrible and unfortunately not ...         2  \n",
       "3  This will be the bottle that you grab from the...         3  \n",
       "4  I didnt like this coffee. Instead of telling y...         2  "
      ]
     },
     "execution_count": 4,
     "metadata": {},
     "output_type": "execute_result"
    }
   ],
   "source": [
    "print(display.shape)\n",
    "display.head() #BY DEFAULT IT DISPLAY 5 ROWS"
   ]
  },
  {
   "cell_type": "code",
   "execution_count": 5,
   "metadata": {
    "colab": {},
    "colab_type": "code",
    "id": "eAG-AQpWDYIx",
    "outputId": "889e7973-47ab-423b-fd10-ee5058498ad0"
   },
   "outputs": [
    {
     "data": {
      "text/html": [
       "<div>\n",
       "<style scoped>\n",
       "    .dataframe tbody tr th:only-of-type {\n",
       "        vertical-align: middle;\n",
       "    }\n",
       "\n",
       "    .dataframe tbody tr th {\n",
       "        vertical-align: top;\n",
       "    }\n",
       "\n",
       "    .dataframe thead th {\n",
       "        text-align: right;\n",
       "    }\n",
       "</style>\n",
       "<table border=\"1\" class=\"dataframe\">\n",
       "  <thead>\n",
       "    <tr style=\"text-align: right;\">\n",
       "      <th></th>\n",
       "      <th>UserId</th>\n",
       "      <th>ProductId</th>\n",
       "      <th>ProfileName</th>\n",
       "      <th>Time</th>\n",
       "      <th>Score</th>\n",
       "      <th>Text</th>\n",
       "      <th>COUNT(*)</th>\n",
       "    </tr>\n",
       "  </thead>\n",
       "  <tbody>\n",
       "    <tr>\n",
       "      <td>80638</td>\n",
       "      <td>AZY10LLTJ71NX</td>\n",
       "      <td>B006P7E5ZI</td>\n",
       "      <td>undertheshrine \"undertheshrine\"</td>\n",
       "      <td>1334707200</td>\n",
       "      <td>5</td>\n",
       "      <td>I was recommended to try green tea extract to ...</td>\n",
       "      <td>5</td>\n",
       "    </tr>\n",
       "  </tbody>\n",
       "</table>\n",
       "</div>"
      ],
      "text/plain": [
       "              UserId   ProductId                      ProfileName        Time  \\\n",
       "80638  AZY10LLTJ71NX  B006P7E5ZI  undertheshrine \"undertheshrine\"  1334707200   \n",
       "\n",
       "       Score                                               Text  COUNT(*)  \n",
       "80638      5  I was recommended to try green tea extract to ...         5  "
      ]
     },
     "execution_count": 5,
     "metadata": {},
     "output_type": "execute_result"
    }
   ],
   "source": [
    "display[display['UserId']=='AZY10LLTJ71NX']"
   ]
  },
  {
   "cell_type": "code",
   "execution_count": 6,
   "metadata": {
    "colab": {},
    "colab_type": "code",
    "id": "3qBpPZKaDYI7",
    "outputId": "375dd0be-186a-4b00-8594-06fb20ded08a"
   },
   "outputs": [
    {
     "data": {
      "text/plain": [
       "393063"
      ]
     },
     "execution_count": 6,
     "metadata": {},
     "output_type": "execute_result"
    }
   ],
   "source": [
    "display['COUNT(*)'].sum()"
   ]
  },
  {
   "cell_type": "markdown",
   "metadata": {
    "colab_type": "text",
    "id": "G1rTdPsqDYJI"
   },
   "source": [
    "#  [2] Exploratory Data Analysis"
   ]
  },
  {
   "cell_type": "markdown",
   "metadata": {
    "colab_type": "text",
    "id": "Wh5RH-NsDYJJ"
   },
   "source": [
    "## [2.1] Data Cleaning: Deduplication\n",
    "\n",
    "It is observed (as shown in the table below) that the reviews data had many duplicate entries. Hence it was necessary to remove duplicates in order to get unbiased results for the analysis of the data.  Following is an example:"
   ]
  },
  {
   "cell_type": "code",
   "execution_count": 7,
   "metadata": {
    "colab": {},
    "colab_type": "code",
    "id": "EUF69tvsDYJO",
    "outputId": "d08434a0-b58a-4d4a-db71-729bbb1539e5",
    "scrolled": false
   },
   "outputs": [
    {
     "data": {
      "text/html": [
       "<div>\n",
       "<style scoped>\n",
       "    .dataframe tbody tr th:only-of-type {\n",
       "        vertical-align: middle;\n",
       "    }\n",
       "\n",
       "    .dataframe tbody tr th {\n",
       "        vertical-align: top;\n",
       "    }\n",
       "\n",
       "    .dataframe thead th {\n",
       "        text-align: right;\n",
       "    }\n",
       "</style>\n",
       "<table border=\"1\" class=\"dataframe\">\n",
       "  <thead>\n",
       "    <tr style=\"text-align: right;\">\n",
       "      <th></th>\n",
       "      <th>Id</th>\n",
       "      <th>ProductId</th>\n",
       "      <th>UserId</th>\n",
       "      <th>ProfileName</th>\n",
       "      <th>HelpfulnessNumerator</th>\n",
       "      <th>HelpfulnessDenominator</th>\n",
       "      <th>Score</th>\n",
       "      <th>Time</th>\n",
       "      <th>Summary</th>\n",
       "      <th>Text</th>\n",
       "    </tr>\n",
       "  </thead>\n",
       "  <tbody>\n",
       "    <tr>\n",
       "      <td>0</td>\n",
       "      <td>78445</td>\n",
       "      <td>B000HDL1RQ</td>\n",
       "      <td>AR5J8UI46CURR</td>\n",
       "      <td>Geetha Krishnan</td>\n",
       "      <td>2</td>\n",
       "      <td>2</td>\n",
       "      <td>5</td>\n",
       "      <td>1199577600</td>\n",
       "      <td>LOACKER QUADRATINI VANILLA WAFERS</td>\n",
       "      <td>DELICIOUS WAFERS. I FIND THAT EUROPEAN WAFERS ...</td>\n",
       "    </tr>\n",
       "    <tr>\n",
       "      <td>1</td>\n",
       "      <td>138317</td>\n",
       "      <td>B000HDOPYC</td>\n",
       "      <td>AR5J8UI46CURR</td>\n",
       "      <td>Geetha Krishnan</td>\n",
       "      <td>2</td>\n",
       "      <td>2</td>\n",
       "      <td>5</td>\n",
       "      <td>1199577600</td>\n",
       "      <td>LOACKER QUADRATINI VANILLA WAFERS</td>\n",
       "      <td>DELICIOUS WAFERS. I FIND THAT EUROPEAN WAFERS ...</td>\n",
       "    </tr>\n",
       "    <tr>\n",
       "      <td>2</td>\n",
       "      <td>138277</td>\n",
       "      <td>B000HDOPYM</td>\n",
       "      <td>AR5J8UI46CURR</td>\n",
       "      <td>Geetha Krishnan</td>\n",
       "      <td>2</td>\n",
       "      <td>2</td>\n",
       "      <td>5</td>\n",
       "      <td>1199577600</td>\n",
       "      <td>LOACKER QUADRATINI VANILLA WAFERS</td>\n",
       "      <td>DELICIOUS WAFERS. I FIND THAT EUROPEAN WAFERS ...</td>\n",
       "    </tr>\n",
       "    <tr>\n",
       "      <td>3</td>\n",
       "      <td>73791</td>\n",
       "      <td>B000HDOPZG</td>\n",
       "      <td>AR5J8UI46CURR</td>\n",
       "      <td>Geetha Krishnan</td>\n",
       "      <td>2</td>\n",
       "      <td>2</td>\n",
       "      <td>5</td>\n",
       "      <td>1199577600</td>\n",
       "      <td>LOACKER QUADRATINI VANILLA WAFERS</td>\n",
       "      <td>DELICIOUS WAFERS. I FIND THAT EUROPEAN WAFERS ...</td>\n",
       "    </tr>\n",
       "    <tr>\n",
       "      <td>4</td>\n",
       "      <td>155049</td>\n",
       "      <td>B000PAQ75C</td>\n",
       "      <td>AR5J8UI46CURR</td>\n",
       "      <td>Geetha Krishnan</td>\n",
       "      <td>2</td>\n",
       "      <td>2</td>\n",
       "      <td>5</td>\n",
       "      <td>1199577600</td>\n",
       "      <td>LOACKER QUADRATINI VANILLA WAFERS</td>\n",
       "      <td>DELICIOUS WAFERS. I FIND THAT EUROPEAN WAFERS ...</td>\n",
       "    </tr>\n",
       "  </tbody>\n",
       "</table>\n",
       "</div>"
      ],
      "text/plain": [
       "       Id   ProductId         UserId      ProfileName  HelpfulnessNumerator  \\\n",
       "0   78445  B000HDL1RQ  AR5J8UI46CURR  Geetha Krishnan                     2   \n",
       "1  138317  B000HDOPYC  AR5J8UI46CURR  Geetha Krishnan                     2   \n",
       "2  138277  B000HDOPYM  AR5J8UI46CURR  Geetha Krishnan                     2   \n",
       "3   73791  B000HDOPZG  AR5J8UI46CURR  Geetha Krishnan                     2   \n",
       "4  155049  B000PAQ75C  AR5J8UI46CURR  Geetha Krishnan                     2   \n",
       "\n",
       "   HelpfulnessDenominator  Score        Time  \\\n",
       "0                       2      5  1199577600   \n",
       "1                       2      5  1199577600   \n",
       "2                       2      5  1199577600   \n",
       "3                       2      5  1199577600   \n",
       "4                       2      5  1199577600   \n",
       "\n",
       "                             Summary  \\\n",
       "0  LOACKER QUADRATINI VANILLA WAFERS   \n",
       "1  LOACKER QUADRATINI VANILLA WAFERS   \n",
       "2  LOACKER QUADRATINI VANILLA WAFERS   \n",
       "3  LOACKER QUADRATINI VANILLA WAFERS   \n",
       "4  LOACKER QUADRATINI VANILLA WAFERS   \n",
       "\n",
       "                                                Text  \n",
       "0  DELICIOUS WAFERS. I FIND THAT EUROPEAN WAFERS ...  \n",
       "1  DELICIOUS WAFERS. I FIND THAT EUROPEAN WAFERS ...  \n",
       "2  DELICIOUS WAFERS. I FIND THAT EUROPEAN WAFERS ...  \n",
       "3  DELICIOUS WAFERS. I FIND THAT EUROPEAN WAFERS ...  \n",
       "4  DELICIOUS WAFERS. I FIND THAT EUROPEAN WAFERS ...  "
      ]
     },
     "execution_count": 7,
     "metadata": {},
     "output_type": "execute_result"
    }
   ],
   "source": [
    "display= pd.read_sql_query(\"\"\"\n",
    "SELECT *\n",
    "FROM Reviews\n",
    "WHERE Score != 3 AND UserId=\"AR5J8UI46CURR\"\n",
    "ORDER BY ProductID\n",
    "\"\"\", con)\n",
    "display.head()"
   ]
  },
  {
   "cell_type": "markdown",
   "metadata": {
    "colab_type": "text",
    "id": "cKrGPQEfDYJW"
   },
   "source": [
    "As it can be seen above that same user has multiple reviews with same values for HelpfulnessNumerator, HelpfulnessDenominator, Score, Time, Summary and Text and on doing analysis it was found that <br>\n",
    "<br> \n",
    "ProductId=B000HDOPZG was Loacker Quadratini Vanilla Wafer Cookies, 8.82-Ounce Packages (Pack of 8)<br>\n",
    "<br> \n",
    "ProductId=B000HDL1RQ was Loacker Quadratini Lemon Wafer Cookies, 8.82-Ounce Packages (Pack of 8) and so on<br>\n",
    "\n",
    "It was inferred after analysis that reviews with same parameters other than ProductId belonged to the same product just having different flavour or quantity. Hence in order to reduce redundancy it was decided to eliminate the rows having same parameters.<br>\n",
    "\n",
    "The method used for the same was that we first sort the data according to ProductId and then just keep the first similar product review and delelte the others. for eg. in the above just the review for ProductId=B000HDL1RQ remains. This method ensures that there is only one representative for each product and deduplication without sorting would lead to possibility of different representatives still existing for the same product."
   ]
  },
  {
   "cell_type": "code",
   "execution_count": 8,
   "metadata": {
    "colab": {},
    "colab_type": "code",
    "id": "eQWrz1nFDYJX"
   },
   "outputs": [],
   "source": [
    "#Sorting data according to ProductId in ascending order\n",
    "sorted_data=filtered_data.sort_values('ProductId', axis=0, ascending=True, inplace=False, kind='quicksort', na_position='last')"
   ]
  },
  {
   "cell_type": "code",
   "execution_count": 9,
   "metadata": {
    "colab": {},
    "colab_type": "code",
    "id": "4CS7fUdLDYJd",
    "outputId": "6fa1310c-c733-4bb5-9b0a-cbb72b05e086"
   },
   "outputs": [
    {
     "data": {
      "text/plain": [
       "(71551, 10)"
      ]
     },
     "execution_count": 9,
     "metadata": {},
     "output_type": "execute_result"
    }
   ],
   "source": [
    "#Deduplication of entries\n",
    "final=sorted_data.drop_duplicates(subset={\"UserId\",\"ProfileName\",\"Time\", \"Text\"}, keep='first', inplace=False)\n",
    "final.shape"
   ]
  },
  {
   "cell_type": "code",
   "execution_count": 10,
   "metadata": {},
   "outputs": [],
   "source": [
    "#Sorting data according to Time in descending order\n",
    "final=final.sort_values('Time', axis=0, ascending=False)"
   ]
  },
  {
   "cell_type": "code",
   "execution_count": 11,
   "metadata": {
    "colab": {},
    "colab_type": "code",
    "id": "Hcc_-CJMDYJk",
    "outputId": "8490fe52-8d00-4196-d0f4-5718b54f10e8"
   },
   "outputs": [
    {
     "data": {
      "text/plain": [
       "71.551"
      ]
     },
     "execution_count": 11,
     "metadata": {},
     "output_type": "execute_result"
    }
   ],
   "source": [
    "#Checking to see how much % of data still remains\n",
    "(final['Id'].size*1.0)/(filtered_data['Id'].size*1.0)*100"
   ]
  },
  {
   "cell_type": "markdown",
   "metadata": {
    "colab_type": "text",
    "id": "engwR6VNDYJq"
   },
   "source": [
    "<b>Observation:-</b> It was also seen that in two rows given below the value of HelpfulnessNumerator is greater than HelpfulnessDenominator which is not practically possible hence these two rows too are removed from calcualtions"
   ]
  },
  {
   "cell_type": "code",
   "execution_count": 12,
   "metadata": {
    "colab": {},
    "colab_type": "code",
    "id": "hjN7-OL_DYJt",
    "outputId": "5e4c5f88-4f27-42ca-e378-04cbc8e8d8d9"
   },
   "outputs": [
    {
     "data": {
      "text/html": [
       "<div>\n",
       "<style scoped>\n",
       "    .dataframe tbody tr th:only-of-type {\n",
       "        vertical-align: middle;\n",
       "    }\n",
       "\n",
       "    .dataframe tbody tr th {\n",
       "        vertical-align: top;\n",
       "    }\n",
       "\n",
       "    .dataframe thead th {\n",
       "        text-align: right;\n",
       "    }\n",
       "</style>\n",
       "<table border=\"1\" class=\"dataframe\">\n",
       "  <thead>\n",
       "    <tr style=\"text-align: right;\">\n",
       "      <th></th>\n",
       "      <th>Id</th>\n",
       "      <th>ProductId</th>\n",
       "      <th>UserId</th>\n",
       "      <th>ProfileName</th>\n",
       "      <th>HelpfulnessNumerator</th>\n",
       "      <th>HelpfulnessDenominator</th>\n",
       "      <th>Score</th>\n",
       "      <th>Time</th>\n",
       "      <th>Summary</th>\n",
       "      <th>Text</th>\n",
       "    </tr>\n",
       "  </thead>\n",
       "  <tbody>\n",
       "    <tr>\n",
       "      <td>0</td>\n",
       "      <td>64422</td>\n",
       "      <td>B000MIDROQ</td>\n",
       "      <td>A161DK06JJMCYF</td>\n",
       "      <td>J. E. Stephens \"Jeanne\"</td>\n",
       "      <td>3</td>\n",
       "      <td>1</td>\n",
       "      <td>5</td>\n",
       "      <td>1224892800</td>\n",
       "      <td>Bought This for My Son at College</td>\n",
       "      <td>My son loves spaghetti so I didn't hesitate or...</td>\n",
       "    </tr>\n",
       "    <tr>\n",
       "      <td>1</td>\n",
       "      <td>44737</td>\n",
       "      <td>B001EQ55RW</td>\n",
       "      <td>A2V0I904FH7ABY</td>\n",
       "      <td>Ram</td>\n",
       "      <td>3</td>\n",
       "      <td>2</td>\n",
       "      <td>4</td>\n",
       "      <td>1212883200</td>\n",
       "      <td>Pure cocoa taste with crunchy almonds inside</td>\n",
       "      <td>It was almost a 'love at first bite' - the per...</td>\n",
       "    </tr>\n",
       "  </tbody>\n",
       "</table>\n",
       "</div>"
      ],
      "text/plain": [
       "      Id   ProductId          UserId              ProfileName  \\\n",
       "0  64422  B000MIDROQ  A161DK06JJMCYF  J. E. Stephens \"Jeanne\"   \n",
       "1  44737  B001EQ55RW  A2V0I904FH7ABY                      Ram   \n",
       "\n",
       "   HelpfulnessNumerator  HelpfulnessDenominator  Score        Time  \\\n",
       "0                     3                       1      5  1224892800   \n",
       "1                     3                       2      4  1212883200   \n",
       "\n",
       "                                        Summary  \\\n",
       "0             Bought This for My Son at College   \n",
       "1  Pure cocoa taste with crunchy almonds inside   \n",
       "\n",
       "                                                Text  \n",
       "0  My son loves spaghetti so I didn't hesitate or...  \n",
       "1  It was almost a 'love at first bite' - the per...  "
      ]
     },
     "execution_count": 12,
     "metadata": {},
     "output_type": "execute_result"
    }
   ],
   "source": [
    "display= pd.read_sql_query(\"\"\"\n",
    "SELECT *\n",
    "FROM Reviews\n",
    "WHERE Score != 3 AND Id=44737 OR Id=64422\n",
    "ORDER BY ProductID\n",
    "\"\"\", con)\n",
    "\n",
    "display.head()"
   ]
  },
  {
   "cell_type": "code",
   "execution_count": 13,
   "metadata": {
    "colab": {},
    "colab_type": "code",
    "id": "Ezix6kJ_DYJ3"
   },
   "outputs": [],
   "source": [
    "final=final[final.HelpfulnessNumerator<=final.HelpfulnessDenominator]"
   ]
  },
  {
   "cell_type": "code",
   "execution_count": 14,
   "metadata": {
    "colab": {},
    "colab_type": "code",
    "id": "yWsVhvArDYJ9",
    "outputId": "0fd8ea32-ce27-4232-a7f1-880eb06ca956"
   },
   "outputs": [
    {
     "name": "stdout",
     "output_type": "stream",
     "text": [
      "(71551, 10)\n"
     ]
    },
    {
     "data": {
      "text/plain": [
       "1    59256\n",
       "0    12295\n",
       "Name: Score, dtype: int64"
      ]
     },
     "execution_count": 14,
     "metadata": {},
     "output_type": "execute_result"
    }
   ],
   "source": [
    "#Before starting the next phase of preprocessing lets see the number of entries left\n",
    "print(final.shape)\n",
    "Score=final['Score']\n",
    "#How many positive and negative reviews are present in our dataset?\n",
    "final['Score'].value_counts()"
   ]
  },
  {
   "cell_type": "markdown",
   "metadata": {
    "colab_type": "text",
    "id": "AoLxCQ-VDYKI"
   },
   "source": [
    "#  [3] Preprocessing"
   ]
  },
  {
   "cell_type": "markdown",
   "metadata": {
    "colab_type": "text",
    "id": "P7Zq_ToqDYKJ"
   },
   "source": [
    "## [3.1].  Preprocessing Review Text\n",
    "\n",
    "Now that we have finished deduplication our data requires some preprocessing before we go on further with analysis and making the prediction model.\n",
    "\n",
    "Hence in the Preprocessing phase we do the following in the order below:-\n",
    "\n",
    "1. Begin by removing the html tags\n",
    "2. Remove any punctuations or limited set of special characters like , or . or # etc.\n",
    "3. Check if the word is made up of english letters and is not alpha-numeric\n",
    "4. Check to see if the length of the word is greater than 2 (as it was researched that there is no adjective in 2-letters)\n",
    "5. Convert the word to lowercase\n",
    "6. Remove Stopwords\n",
    "7. Finally Snowball Stemming the word (it was obsereved to be better than Porter Stemming)<br>\n",
    "\n",
    "After which we collect the words used to describe positive and negative reviews"
   ]
  },
  {
   "cell_type": "code",
   "execution_count": 15,
   "metadata": {
    "colab": {},
    "colab_type": "code",
    "id": "3jw5g5yEDYKL",
    "outputId": "06d7bd61-438f-4319-a9f7-ecb2312f3dec"
   },
   "outputs": [
    {
     "name": "stdout",
     "output_type": "stream",
     "text": [
      "You can taste the butter.  The peanuts are fresh.  Each piece of See's Peanut Brittle is a nice size and the flavor is yummy.  If you are a prime member it ships at no additional charge.  Great deal!\n",
      "==================================================\n",
      "We have ordered these through Amazon twice now, and have been very satisfied both times.  We've had no problems with expiration dates, and the product is good--the anchovies are whole, and have good flavor.  If you use a lot of anchovies, this is a very convenient way to purchase and store them.\n",
      "==================================================\n",
      "The product was just what I expected. A large amount of yummy candy corn! I purchased it for the candy buffet I had at my wedding reception & we still have some leftover. My husband is now eating a little every day.\n",
      "==================================================\n",
      "<a href=\"http://www.amazon.com/gp/product/B001EO7GKI\">Roland Olives Stuffed With Anchovies, 1-Pound 9-Ounces Dry Weight Cans (Pack of 2)</a><br />NASTY!!!! Don't bother wasting your $$$$$ on this product!!!!. I was looking forward to getting this product.<br />When I opened the first can and tasted the first olive. Well lets just say it was not a good reaction. And it was not the anchovies either,<br />because I enjoy them very much. I even get them on my pizzas. I'm not sure what it is about the olives but they taste very bad! I can't recommend this product to anyone.\n",
      "==================================================\n"
     ]
    }
   ],
   "source": [
    "# printing some random reviews\n",
    "sent_0 = final['Text'].values[0]\n",
    "print(sent_0)\n",
    "print(\"=\"*50)\n",
    "\n",
    "sent_1000 = final['Text'].values[1000]\n",
    "print(sent_1000)\n",
    "print(\"=\"*50)\n",
    "\n",
    "sent_1500 = final['Text'].values[1500]\n",
    "print(sent_1500)\n",
    "print(\"=\"*50)\n",
    "\n",
    "sent_4900 = final['Text'].values[4900]\n",
    "print(sent_4900)\n",
    "print(\"=\"*50)"
   ]
  },
  {
   "cell_type": "code",
   "execution_count": 16,
   "metadata": {
    "colab": {},
    "colab_type": "code",
    "id": "WloiOvL3DYKT",
    "outputId": "0a0a8f4b-1999-467d-ea4e-06c5280d3c17"
   },
   "outputs": [
    {
     "name": "stdout",
     "output_type": "stream",
     "text": [
      "You can taste the butter.  The peanuts are fresh.  Each piece of See's Peanut Brittle is a nice size and the flavor is yummy.  If you are a prime member it ships at no additional charge.  Great deal!\n"
     ]
    }
   ],
   "source": [
    "# remove urls from text python: https://stackoverflow.com/a/40823105/4084039\n",
    "sent_0 = re.sub(r\"http\\S+\", \"\", sent_0)\n",
    "sent_1000 = re.sub(r\"http\\S+\", \"\", sent_1000)\n",
    "sent_150 = re.sub(r\"http\\S+\", \"\", sent_1500)\n",
    "sent_4900 = re.sub(r\"http\\S+\", \"\", sent_4900)\n",
    "\n",
    "print(sent_0)"
   ]
  },
  {
   "cell_type": "code",
   "execution_count": 17,
   "metadata": {
    "colab": {},
    "colab_type": "code",
    "id": "SzCCi9tPDYKf",
    "outputId": "d01ec7e4-bcab-4639-e6d9-7ddbe80aaed1"
   },
   "outputs": [
    {
     "name": "stdout",
     "output_type": "stream",
     "text": [
      "You can taste the butter.  The peanuts are fresh.  Each piece of See's Peanut Brittle is a nice size and the flavor is yummy.  If you are a prime member it ships at no additional charge.  Great deal!\n",
      "==================================================\n",
      "We have ordered these through Amazon twice now, and have been very satisfied both times.  We've had no problems with expiration dates, and the product is good--the anchovies are whole, and have good flavor.  If you use a lot of anchovies, this is a very convenient way to purchase and store them.\n",
      "==================================================\n",
      "The product was just what I expected. A large amount of yummy candy corn! I purchased it for the candy buffet I had at my wedding reception & we still have some leftover. My husband is now eating a little every day.\n",
      "==================================================\n",
      "\n"
     ]
    }
   ],
   "source": [
    "# https://stackoverflow.com/questions/16206380/python-beautifulsoup-how-to-remove-all-tags-from-an-element\n",
    "from bs4 import BeautifulSoup\n",
    "\n",
    "soup = BeautifulSoup(sent_0, 'lxml')\n",
    "text = soup.get_text()\n",
    "print(text)\n",
    "print(\"=\"*50)\n",
    "\n",
    "soup = BeautifulSoup(sent_1000, 'lxml')\n",
    "text = soup.get_text()\n",
    "print(text)\n",
    "print(\"=\"*50)\n",
    "\n",
    "soup = BeautifulSoup(sent_1500, 'lxml')\n",
    "text = soup.get_text()\n",
    "print(text)\n",
    "print(\"=\"*50)\n",
    "\n",
    "soup = BeautifulSoup(sent_4900, 'lxml')\n",
    "text = soup.get_text()\n",
    "print(text)"
   ]
  },
  {
   "cell_type": "code",
   "execution_count": 18,
   "metadata": {
    "colab": {},
    "colab_type": "code",
    "id": "vQ2mdt2jDYKo"
   },
   "outputs": [],
   "source": [
    "# https://stackoverflow.com/a/47091490/4084039\n",
    "import re\n",
    "\n",
    "def decontracted(phrase):\n",
    "    # specific\n",
    "    phrase = re.sub(r\"won't\", \"will not\", phrase)\n",
    "    phrase = re.sub(r\"can\\'t\", \"can not\", phrase)\n",
    "\n",
    "    # general\n",
    "    phrase = re.sub(r\"n\\'t\", \" not\", phrase)\n",
    "    phrase = re.sub(r\"\\'re\", \" are\", phrase)\n",
    "    phrase = re.sub(r\"\\'s\", \" is\", phrase)\n",
    "    phrase = re.sub(r\"\\'d\", \" would\", phrase)\n",
    "    phrase = re.sub(r\"\\'ll\", \" will\", phrase)\n",
    "    phrase = re.sub(r\"\\'t\", \" not\", phrase)\n",
    "    phrase = re.sub(r\"\\'ve\", \" have\", phrase)\n",
    "    phrase = re.sub(r\"\\'m\", \" am\", phrase)\n",
    "    return phrase"
   ]
  },
  {
   "cell_type": "code",
   "execution_count": 19,
   "metadata": {
    "colab": {},
    "colab_type": "code",
    "id": "GD5_8P5jDYKr",
    "outputId": "84eccfc3-59b4-45cc-805d-6397baa625fe"
   },
   "outputs": [
    {
     "name": "stdout",
     "output_type": "stream",
     "text": [
      "The product was just what I expected. A large amount of yummy candy corn! I purchased it for the candy buffet I had at my wedding reception & we still have some leftover. My husband is now eating a little every day.\n",
      "==================================================\n"
     ]
    }
   ],
   "source": [
    "sent_1500 = decontracted(sent_1500)\n",
    "print(sent_1500)\n",
    "print(\"=\"*50)"
   ]
  },
  {
   "cell_type": "code",
   "execution_count": 20,
   "metadata": {
    "colab": {},
    "colab_type": "code",
    "id": "qTHM_mDnDYKx",
    "outputId": "997e9b00-4c34-44dc-ac7e-8e401a52f083"
   },
   "outputs": [
    {
     "name": "stdout",
     "output_type": "stream",
     "text": [
      "You can taste the butter.  The peanuts are fresh.  Each piece of See's Peanut Brittle is a nice size and the flavor is yummy.  If you are a prime member it ships at no additional charge.  Great deal!\n"
     ]
    }
   ],
   "source": [
    "#remove words with numbers python: https://stackoverflow.com/a/18082370/4084039\n",
    "sent_0 = re.sub(\"\\S*\\d\\S*\", \"\", sent_0).strip()\n",
    "print(sent_0)"
   ]
  },
  {
   "cell_type": "code",
   "execution_count": 21,
   "metadata": {
    "colab": {},
    "colab_type": "code",
    "id": "pXhZUMDzDYK6",
    "outputId": "3a80315a-1042-480b-fdfb-01c360a99823"
   },
   "outputs": [
    {
     "name": "stdout",
     "output_type": "stream",
     "text": [
      "The product was just what I expected A large amount of yummy candy corn I purchased it for the candy buffet I had at my wedding reception we still have some leftover My husband is now eating a little every day \n"
     ]
    }
   ],
   "source": [
    "#remove spacial character: https://stackoverflow.com/a/5843547/4084039\n",
    "sent_1500 = re.sub('[^A-Za-z0-9]+', ' ', sent_1500)\n",
    "print(sent_1500)"
   ]
  },
  {
   "cell_type": "code",
   "execution_count": 22,
   "metadata": {
    "colab": {},
    "colab_type": "code",
    "id": "vZJNhKvKDYLA"
   },
   "outputs": [],
   "source": [
    "# https://gist.github.com/sebleier/554280\n",
    "# we are removing the words from the stop words list: 'no', 'nor', 'not'\n",
    "# <br /><br /> ==> after the above steps, we are getting \"br br\"\n",
    "# we are including them into stop words list\n",
    "# instead of <br /> if we have <br/> these tags would have revmoved in the 1st step\n",
    "\n",
    "stopwords= set(['br', 'the', 'i', 'me', 'my', 'myself', 'we', 'our', 'ours', 'ourselves', 'you', \"you're\", \"you've\",\\\n",
    "            \"you'll\", \"you'd\", 'your', 'yours', 'yourself', 'yourselves', 'he', 'him', 'his', 'himself', \\\n",
    "            'she', \"she's\", 'her', 'hers', 'herself', 'it', \"it's\", 'its', 'itself', 'they', 'them', 'their',\\\n",
    "            'theirs', 'themselves', 'what', 'which', 'who', 'whom', 'this', 'that', \"that'll\", 'these', 'those', \\\n",
    "            'am', 'is', 'are', 'was', 'were', 'be', 'been', 'being', 'have', 'has', 'had', 'having', 'do', 'does', \\\n",
    "            'did', 'doing', 'a', 'an', 'the', 'and', 'but', 'if', 'or', 'because', 'as', 'until', 'while', 'of', \\\n",
    "            'at', 'by', 'for', 'with', 'about', 'against', 'between', 'into', 'through', 'during', 'before', 'after',\\\n",
    "            'above', 'below', 'to', 'from', 'up', 'down', 'in', 'out', 'on', 'off', 'over', 'under', 'again', 'further',\\\n",
    "            'then', 'once', 'here', 'there', 'when', 'where', 'why', 'how', 'all', 'any', 'both', 'each', 'few', 'more',\\\n",
    "            'most', 'other', 'some', 'such', 'only', 'own', 'same', 'so', 'than', 'too', 'very', \\\n",
    "            's', 't', 'can', 'will', 'just', 'don', \"don't\", 'should', \"should've\", 'now', 'd', 'll', 'm', 'o', 're', \\\n",
    "            've', 'y', 'ain', 'aren', \"aren't\", 'couldn', \"couldn't\", 'didn', \"didn't\", 'doesn', \"doesn't\", 'hadn',\\\n",
    "            \"hadn't\", 'hasn', \"hasn't\", 'haven', \"haven't\", 'isn', \"isn't\", 'ma', 'mightn', \"mightn't\", 'mustn',\\\n",
    "            \"mustn't\", 'needn', \"needn't\", 'shan', \"shan't\", 'shouldn', \"shouldn't\", 'wasn', \"wasn't\", 'weren', \"weren't\", \\\n",
    "            'won', \"won't\", 'wouldn', \"wouldn't\"])"
   ]
  },
  {
   "cell_type": "code",
   "execution_count": 23,
   "metadata": {
    "colab": {},
    "colab_type": "code",
    "id": "1Rd8zIc8DYLF",
    "outputId": "33fd610b-9479-4f0e-bfd1-10e308b4b382"
   },
   "outputs": [
    {
     "name": "stderr",
     "output_type": "stream",
     "text": [
      "100%|██████████████████████████████████████████████████████████████████████████| 71551/71551 [01:04<00:00, 1111.08it/s]\n"
     ]
    }
   ],
   "source": [
    "# Combining all the above\n",
    "from tqdm import tqdm\n",
    "preprocessed_reviews = []\n",
    "# tqdm is for printing the status bar\n",
    "for sentance in tqdm(final['Text'].values):\n",
    "    sentance = re.sub(r\"http\\S+\", \"\", sentance)\n",
    "    sentance = BeautifulSoup(sentance, 'lxml').get_text()\n",
    "    sentance = decontracted(sentance)\n",
    "    sentance = re.sub(\"\\S*\\d\\S*\", \"\", sentance).strip()\n",
    "    sentance = re.sub('[^A-Za-z0-9]+', ' ', sentance)\n",
    "    # https://gist.github.com/sebleier/554280\n",
    "    sentance = ' '.join(word.lower() for word in sentance.split() if word.lower() not in stopwords)\n",
    "    preprocessed_reviews.append(sentance.strip())"
   ]
  },
  {
   "cell_type": "code",
   "execution_count": 24,
   "metadata": {
    "colab": {},
    "colab_type": "code",
    "id": "YBWzfi2NDYLL",
    "outputId": "479570d6-066b-4f7e-afe4-f6f21f19a95b"
   },
   "outputs": [
    {
     "name": "stdout",
     "output_type": "stream",
     "text": [
      "You can taste the butter.  The peanuts are fresh.  Each piece of See's Peanut Brittle is a nice size and the flavor is yummy.  If you are a prime member it ships at no additional charge.  Great deal!\n",
      "####\n",
      "taste butter peanuts fresh piece see peanut brittle nice size flavor yummy prime member ships no additional charge great deal\n"
     ]
    }
   ],
   "source": [
    "#comparing the raw data and the preprocessed data:\n",
    "\n",
    "print(sent_0) \n",
    "print(\"####\")\n",
    "print(preprocessed_reviews[0])"
   ]
  },
  {
   "cell_type": "code",
   "execution_count": 25,
   "metadata": {
    "scrolled": true
   },
   "outputs": [
    {
     "data": {
      "text/plain": [
       "'product expected large amount yummy candy corn purchased candy buffet wedding reception still leftover husband eating little every day'"
      ]
     },
     "execution_count": 25,
     "metadata": {},
     "output_type": "execute_result"
    }
   ],
   "source": [
    "preprocessed_reviews[1500]"
   ]
  },
  {
   "cell_type": "code",
   "execution_count": 26,
   "metadata": {},
   "outputs": [
    {
     "name": "stdout",
     "output_type": "stream",
     "text": [
      "Yummy\n",
      "==================================================\n",
      "Excellent quality\n",
      "==================================================\n"
     ]
    }
   ],
   "source": [
    "# printing some random summary\n",
    "summ_0 = final['Summary'].values[0]\n",
    "print(summ_0)\n",
    "print(\"=\"*50)\n",
    "\n",
    "summ_1000 = final['Summary'].values[1000]\n",
    "print(summ_1000)\n",
    "print(\"=\"*50)"
   ]
  },
  {
   "cell_type": "code",
   "execution_count": 27,
   "metadata": {},
   "outputs": [
    {
     "name": "stderr",
     "output_type": "stream",
     "text": [
      "C:\\Anaconda3\\lib\\site-packages\\bs4\\__init__.py:219: UserWarning: \"b'...'\" looks like a filename, not markup. You should probably open this file and pass the filehandle into Beautiful Soup.\n",
      "  ' Beautiful Soup.' % markup)\n",
      "C:\\Anaconda3\\lib\\site-packages\\bs4\\__init__.py:219: UserWarning: \"b'...'\" looks like a filename, not markup. You should probably open this file and pass the filehandle into Beautiful Soup.\n",
      "  ' Beautiful Soup.' % markup)\n",
      "C:\\Anaconda3\\lib\\site-packages\\bs4\\__init__.py:219: UserWarning: \"b'...'\" looks like a filename, not markup. You should probably open this file and pass the filehandle into Beautiful Soup.\n",
      "  ' Beautiful Soup.' % markup)\n",
      "C:\\Anaconda3\\lib\\site-packages\\bs4\\__init__.py:219: UserWarning: \"b'.'\" looks like a filename, not markup. You should probably open this file and pass the filehandle into Beautiful Soup.\n",
      "  ' Beautiful Soup.' % markup)\n",
      "C:\\Anaconda3\\lib\\site-packages\\bs4\\__init__.py:219: UserWarning: \"b'...'\" looks like a filename, not markup. You should probably open this file and pass the filehandle into Beautiful Soup.\n",
      "  ' Beautiful Soup.' % markup)\n",
      "C:\\Anaconda3\\lib\\site-packages\\bs4\\__init__.py:219: UserWarning: \"b'...'\" looks like a filename, not markup. You should probably open this file and pass the filehandle into Beautiful Soup.\n",
      "  ' Beautiful Soup.' % markup)\n"
     ]
    }
   ],
   "source": [
    "## preprocessing the review summary to be use for feature engineering later. \n",
    "from tqdm import tqdm\n",
    "preprocessed_summary = []\n",
    "# tqdm is for printing the status bar\n",
    "for sentance in (final['Summary'].values):\n",
    "    sentance = re.sub(r\"http\\S+\", \"\", sentance)\n",
    "    sentance = BeautifulSoup(sentance, 'lxml').get_text()\n",
    "    sentance = decontracted(sentance)\n",
    "    sentance = re.sub(\"\\S*\\d\\S*\", \"\", sentance).strip()\n",
    "    sentance = re.sub('[^A-Za-z]+', ' ', sentance)\n",
    "    # https://gist.github.com/sebleier/554280\n",
    "    sentance = ' '.join(e.lower() for e in sentance.split() if e.lower() not in stopwords)\n",
    "    preprocessed_summary.append(sentance.strip())\n"
   ]
  },
  {
   "cell_type": "code",
   "execution_count": 28,
   "metadata": {},
   "outputs": [
    {
     "data": {
      "text/plain": [
       "'love candy corn'"
      ]
     },
     "execution_count": 28,
     "metadata": {},
     "output_type": "execute_result"
    }
   ],
   "source": [
    "preprocessed_summary[1500]"
   ]
  },
  {
   "cell_type": "markdown",
   "metadata": {
    "colab_type": "text",
    "id": "vSmZvNNZDYLi"
   },
   "source": [
    "# [4] Featurization"
   ]
  },
  {
   "cell_type": "markdown",
   "metadata": {},
   "source": [
    "#### Splitting the preprocessed_reviews data:"
   ]
  },
  {
   "cell_type": "code",
   "execution_count": 29,
   "metadata": {},
   "outputs": [],
   "source": [
    "Y = Score\n",
    "X= preprocessed_reviews"
   ]
  },
  {
   "cell_type": "code",
   "execution_count": 30,
   "metadata": {},
   "outputs": [
    {
     "data": {
      "text/plain": [
       "(71551,)"
      ]
     },
     "execution_count": 30,
     "metadata": {},
     "output_type": "execute_result"
    }
   ],
   "source": [
    "np.shape(X)"
   ]
  },
  {
   "cell_type": "code",
   "execution_count": 31,
   "metadata": {},
   "outputs": [
    {
     "data": {
      "text/plain": [
       "(71551,)"
      ]
     },
     "execution_count": 31,
     "metadata": {},
     "output_type": "execute_result"
    }
   ],
   "source": [
    "np.shape(Y)"
   ]
  },
  {
   "cell_type": "code",
   "execution_count": 32,
   "metadata": {},
   "outputs": [],
   "source": [
    "# Slicing the Data X and Y into X_train, X_test, y_train and y_test\n",
    "# making sure not to use train_test_split as it would randomly split points and disturb the sorting\n",
    "X_train= X[0:50086]\n",
    "X_test= X[50086:]\n",
    "y_train= Y[0:50086]\n",
    "y_test= Y[50086:]"
   ]
  },
  {
   "cell_type": "code",
   "execution_count": 33,
   "metadata": {},
   "outputs": [
    {
     "name": "stdout",
     "output_type": "stream",
     "text": [
      "(50086,) (50086,)\n",
      "(21465,) (21465,)\n"
     ]
    }
   ],
   "source": [
    "print(np.shape(X_train), np.shape(y_train))\n",
    "print(np.shape(X_test), np.shape(y_test))\n"
   ]
  },
  {
   "cell_type": "markdown",
   "metadata": {
    "colab_type": "text",
    "id": "zZs1QbloDYLk"
   },
   "source": [
    "## [4.1] BAG OF WORDS"
   ]
  },
  {
   "cell_type": "code",
   "execution_count": 34,
   "metadata": {
    "colab": {},
    "colab_type": "code",
    "id": "KGkxITLpDYLl",
    "outputId": "16064dd0-ec67-4bdc-eb91-bde23ac4377b"
   },
   "outputs": [
    {
     "name": "stdout",
     "output_type": "stream",
     "text": [
      "some feature names  ['aa', 'aaa', 'aaaaa', 'aaaaaaah', 'aaaaaahhhhh', 'aaaahhhhhhhhhhh', 'aaaannnnddd', 'aaah', 'aaahs', 'aafco']\n",
      "==================================================\n",
      "the type of count vectorizer  <class 'scipy.sparse.csr.csr_matrix'>\n",
      "the number of unique words in X_train 42085\n",
      "==================================================\n",
      "After vectorizations\n",
      "(50086, 42085) (50086,)\n",
      "(21465, 42085) (21465,)\n",
      "==================================================\n"
     ]
    }
   ],
   "source": [
    "#BoW\n",
    "count_vect = CountVectorizer()\n",
    "count_vect.fit(X_train) # fit has to happen only on train data\n",
    "print(\"some feature names \", count_vect.get_feature_names()[:10])\n",
    "print('='*50)\n",
    "\n",
    "X_train_bow = count_vect.transform(X_train)\n",
    "X_test_bow = count_vect.transform(X_test)\n",
    "\n",
    "print(\"the type of count vectorizer \",type(X_train_bow))\n",
    "print(\"the number of unique words in X_train\",X_train_bow.shape[1])\n",
    "print('='*50)\n",
    "print(\"After vectorizations\")\n",
    "print(X_train_bow.shape, y_train.shape)\n",
    "print(X_test_bow.shape, y_test.shape)\n",
    "print(\"=\"*50)"
   ]
  },
  {
   "cell_type": "code",
   "execution_count": 35,
   "metadata": {},
   "outputs": [
    {
     "data": {
      "text/plain": [
       "42085"
      ]
     },
     "execution_count": 35,
     "metadata": {},
     "output_type": "execute_result"
    }
   ],
   "source": [
    "len(count_vect.get_feature_names())"
   ]
  },
  {
   "cell_type": "markdown",
   "metadata": {
    "colab_type": "text",
    "id": "6bReCy__DYLx"
   },
   "source": [
    "## [4.3] TF-IDF"
   ]
  },
  {
   "cell_type": "code",
   "execution_count": 36,
   "metadata": {
    "colab": {},
    "colab_type": "code",
    "id": "hfpsAqaXDYLy",
    "outputId": "1c5e5547-33a4-4e6a-f47c-f38d2ce17a05",
    "scrolled": true
   },
   "outputs": [
    {
     "name": "stdout",
     "output_type": "stream",
     "text": [
      "==================================================\n",
      "the type of tf_idf_vect <class 'scipy.sparse.csr.csr_matrix'>\n",
      "==================================================\n",
      "After vectorizations\n",
      "(50086, 28670) (50086,)\n",
      "(21465, 28670) (21465,)\n",
      "==================================================\n",
      "The number of unique words in tf_idf_vect of X_train  28670\n"
     ]
    }
   ],
   "source": [
    "tf_idf_vect = TfidfVectorizer(ngram_range=(1,2), min_df=10)\n",
    "tf_idf_vect.fit(X_train)\n",
    "print('='*50)\n",
    "\n",
    "X_train_tfidf = tf_idf_vect.transform(X_train)\n",
    "X_test_tfidf = tf_idf_vect.transform(X_test)\n",
    "print(\"the type of tf_idf_vect\",type(X_train_tfidf))\n",
    "print('='*50)\n",
    "\n",
    "print(\"After vectorizations\")\n",
    "print(X_train_tfidf.shape, y_train.shape)\n",
    "print(X_test_tfidf.shape, y_test.shape)\n",
    "print('='*50)\n",
    "print(\"The number of unique words in tf_idf_vect of X_train \", X_train_tfidf.shape[1])"
   ]
  },
  {
   "cell_type": "markdown",
   "metadata": {
    "colab_type": "text",
    "id": "grP7WVsuDYMp"
   },
   "source": [
    "# [5] Assignment 4: Apply Naive Bayes"
   ]
  },
  {
   "cell_type": "markdown",
   "metadata": {
    "colab_type": "text",
    "id": "ysQgMV4SDYMq"
   },
   "source": [
    "\n",
    "<ol>\n",
    "    <li><strong>Apply Multinomial NaiveBayes on these feature sets</strong>\n",
    "        <ul>\n",
    "            <li><font color='red'>SET 1:</font>Review text, preprocessed one converted into vectors using (BOW)</li>\n",
    "            <li><font color='red'>SET 2:</font>Review text, preprocessed one converted into vectors using (TFIDF)</li>\n",
    "        </ul>\n",
    "    </li>\n",
    "    <br>\n",
    "    <li><strong>The hyper paramter tuning(find best Alpha)</strong>\n",
    "        <ul>\n",
    "    <li>Find the best hyper parameter which will give the maximum <a href='https://www.appliedaicourse.com/course/applied-ai-course-online/lessons/receiver-operating-characteristic-curve-roc-curve-and-auc-1/'>AUC</a> value</li>\n",
    "    <li>Consider a wide range of alpha values for hyperparameter tuning, start as low as 0.00001</li>\n",
    "    <li>Find the best hyper paramter using k-fold cross validation or simple cross validation data</li>\n",
    "    <li>Use gridsearch cv or randomsearch cv or you can also write your own for loops to do this task of hyperparameter tuning</li>\n",
    "        </ul>\n",
    "    </li>\n",
    "    <br>\n",
    "    <li><strong>Feature importance</strong>\n",
    "        <ul>\n",
    "    <li>Find the top 10 features of positive class and top 10 features of negative class for both feature sets <font color='red'>Set 1</font> and <font color='red'>Set 2</font> using values of `feature_log_prob_` parameter of  <a href='https://scikit-learn.org/stable/modules/generated/sklearn.naive_bayes.MultinomialNB.html'>MultinomialNB</a> and print their corresponding feature names</li>\n",
    "        </ul>\n",
    "    </li>\n",
    "    <br>\n",
    "    <li><strong>Feature engineering</strong>\n",
    "        <ul>\n",
    "    <li>To increase the performance of your model, you can also experiment with with feature engineering like :</li>\n",
    "            <ul>\n",
    "            <li>Taking length of reviews as another feature.</li>\n",
    "            <li>Considering some features from review summary as well.</li>\n",
    "        </ul>\n",
    "        </ul>\n",
    "    </li>\n",
    "    <br>\n",
    "    <li><strong>Representation of results</strong>\n",
    "        <ul>\n",
    "    <li>You need to plot the performance of model both on train data and cross validation data for each hyper parameter, like shown in the figure. Here on X-axis you will have alpha values, since they have a wide range, just to represent those alpha values on the graph, apply log function on those alpha values.\n",
    "    <img src='train_cv_auc.JPG' width=300px></li>\n",
    "    <li>Once after you found the best hyper parameter, you need to train your model with it, and find the AUC on test data and plot the ROC curve on both train and test.\n",
    "    <img src='train_test_auc.JPG' width=300px></li>\n",
    "    <li>Along with plotting ROC curve, you need to print the <a href='https://www.appliedaicourse.com/course/applied-ai-course-online/lessons/confusion-matrix-tpr-fpr-fnr-tnr-1/'>confusion matrix</a> with predicted and original labels of test data points. Please visualize your confusion matrices using <a href='https://seaborn.pydata.org/generated/seaborn.heatmap.html'>seaborn heatmaps.\n",
    "    <img src='confusion_matrix.png' width=300px></li>\n",
    "        </ul>\n",
    "    </li>\n",
    "    <br>\n",
    "    <li><strong>Conclusion</strong>\n",
    "        <ul>\n",
    "    <li>You need to summarize the results at the end of the notebook, summarize it in the table format. To print out a table please refer to this prettytable library<a href='http://zetcode.com/python/prettytable/'>  link</a> \n",
    "        <img src='summary.JPG' width=400px>\n",
    "    </li>\n",
    "        </ul>\n",
    "</ol>"
   ]
  },
  {
   "cell_type": "markdown",
   "metadata": {
    "colab_type": "text",
    "id": "juYtRIKQDYMr"
   },
   "source": [
    "<h4><font color='red'>Note: Data Leakage</font></h4>\n",
    "\n",
    "1. There will be an issue of data-leakage if you vectorize the entire data and then split it into train/cv/test.\n",
    "2. To avoid the issue of data-leakag, make sure to split your data first and then vectorize it. \n",
    "3. While vectorizing your data, apply the method fit_transform() on you train data, and apply the method transform() on cv/test data.\n",
    "4. For more details please go through this <a href='https://soundcloud.com/applied-ai-course/leakage-bow-and-tfidf'>link.</a>"
   ]
  },
  {
   "cell_type": "code",
   "execution_count": 37,
   "metadata": {},
   "outputs": [],
   "source": [
    "# We can apply Naive Bayes only on positive values so we will only use BOW and TFIDF."
   ]
  },
  {
   "cell_type": "markdown",
   "metadata": {
    "colab_type": "text",
    "id": "ArO5fI7kDYMv"
   },
   "source": [
    "### [5.1] Applying Naive Bayes on BOW,<font color='red'> SET 1</font>"
   ]
  },
  {
   "cell_type": "code",
   "execution_count": 38,
   "metadata": {
    "colab": {},
    "colab_type": "code",
    "id": "Rw_A_9pfDYMw"
   },
   "outputs": [],
   "source": [
    "from sklearn import naive_bayes\n",
    "from sklearn.naive_bayes import MultinomialNB\n",
    "from sklearn.metrics import roc_auc_score\n",
    "from sklearn.preprocessing import Normalizer"
   ]
  },
  {
   "cell_type": "code",
   "execution_count": 39,
   "metadata": {},
   "outputs": [],
   "source": [
    "# Please write all the code with proper documentation\n",
    "# Normalizing both X_TRAIN_BOW AND X_TEST_BOW\n",
    "Normal = Normalizer(copy=True, norm='l2').fit(X_train_bow) # Fitting the Normalizer only to train data to avoid data leakage.\n",
    "X_train_bow_S = Normal.transform(X_train_bow)\n",
    "X_test_bow_S = Normal.transform(X_test_bow)"
   ]
  },
  {
   "cell_type": "code",
   "execution_count": 40,
   "metadata": {},
   "outputs": [],
   "source": [
    "# Using Grid search method to find the optimal K.\n",
    "# Setting class_prior = [0.5,0.5] deal with the imbalance dataset in NB.\n",
    "from sklearn.model_selection import GridSearchCV\n",
    "NB = MultinomialNB(class_prior = [0.5,0.5], fit_prior=True)\n",
    "a= [0.000001,0.00001,0.0001,0.001,0.01,0.1,1,10,100,1000,10000,100000,1000000]\n",
    "parameters = {'alpha':a}\n",
    "clf = GridSearchCV(NB, parameters, cv=3, scoring='roc_auc', return_train_score= True )\n",
    "clf= clf.fit(X_train_bow_S, y_train)"
   ]
  },
  {
   "cell_type": "code",
   "execution_count": 41,
   "metadata": {},
   "outputs": [
    {
     "data": {
      "image/png": "[encoded data removed]",
      "text/plain": [
       "<Figure size 432x288 with 1 Axes>"
      ]
     },
     "metadata": {},
     "output_type": "display_data"
    }
   ],
   "source": [
    "#Plotting performance of model both on train data and cross validation, and finding the best optimum K.\n",
    "train_auc= clf.cv_results_['mean_train_score']\n",
    "train_auc_std= clf.cv_results_['std_train_score']\n",
    "cv_auc = clf.cv_results_['mean_test_score'] \n",
    "cv_auc_std= clf.cv_results_['std_test_score']\n",
    "\n",
    "# As alpha values range from very low to very high value.\n",
    "# So we used pyplot.semilogx to convert alpha to log(alpha) for easy interpretation\n",
    "\n",
    "plt.semilogx(a, train_auc, label='Train AUC')\n",
    "# this code is copied from here: https://stackoverflow.com/a/48803361/4084039\n",
    "plt.gca().fill_between(a,train_auc - train_auc_std,train_auc + train_auc_std,alpha=0.2,color='darkblue')\n",
    "\n",
    "plt.semilogx(a, cv_auc, label='CV AUC')\n",
    "# this code is copied from here: https://stackoverflow.com/a/48803361/4084039\n",
    "plt.gca().fill_between(a,cv_auc - cv_auc_std,cv_auc + cv_auc_std,alpha=0.2,color='darkorange')\n",
    "plt.legend()\n",
    "plt.xlabel(\"alpha: hyperparameter\")\n",
    "plt.ylabel(\"AUC\")\n",
    "plt.title(\"ERROR PLOTS\")\n",
    "plt.show()"
   ]
  },
  {
   "cell_type": "code",
   "execution_count": 43,
   "metadata": {
    "scrolled": false
   },
   "outputs": [
    {
     "name": "stdout",
     "output_type": "stream",
     "text": [
      "1e-06 0.9907835454043719 0.8345037643926615 0.15627978101171036\n",
      "1e-05 0.9903853507273581 0.8572754170926474 0.1331099336347107\n",
      "0.0001 0.989625807235586 0.8824207977450932 0.10720500949049283\n",
      "0.001 0.9879719151697892 0.9075714944018112 0.08040042076797804\n",
      "0.01 0.9837281360234144 0.9265592314116018 0.057168904611812565\n",
      "0.1 0.9712868151320615 0.931739478623488 0.03954733650857345\n",
      "1 0.9130938056792172 0.8868979221247365 0.02619588355448066\n",
      "10 0.7581832283446172 0.7468438982513669 0.011339330093250277\n",
      "100 0.6771024069330673 0.6723597082287568 0.004742698704310544\n",
      "1000 0.5841973996309321 0.5817225918640154 0.0024748077669166646\n",
      "10000 0.5111405116091459 0.5093640402978366 0.0017764713113093134\n",
      "100000 0.4953902485710866 0.4937284450056959 0.001661803565390696\n",
      "1000000 0.49361566311850485 0.49196955215820753 0.00164611096029732\n"
     ]
    }
   ],
   "source": [
    "l=0\n",
    "for i in a:\n",
    "    print (i,train_auc[l],cv_auc[l],train_auc[l]-cv_auc[l] )\n",
    "    l+=1"
   ]
  },
  {
   "cell_type": "code",
   "execution_count": 44,
   "metadata": {},
   "outputs": [],
   "source": [
    "## From the plot and for loop, it's very clear that the optimal alpha is 0.1"
   ]
  },
  {
   "cell_type": "code",
   "execution_count": 45,
   "metadata": {},
   "outputs": [
    {
     "data": {
      "image/png": "[encoded data removed]",
      "text/plain": [
       "<Figure size 432x288 with 1 Axes>"
      ]
     },
     "metadata": {},
     "output_type": "display_data"
    }
   ],
   "source": [
    "#training our model with the best optimal alpha as 10, and find the AUC on test data and plot the ROC curve on both train and test. \n",
    "NBbow = MultinomialNB(alpha=0.1, class_prior= [0.5,0.5], fit_prior=True)\n",
    "NBbow.fit(X_train_bow_S, y_train)\n",
    "# roc_auc_score(y_true, y_score) the 2nd parameter should be probability estimates of the positive class\n",
    "# not the predicted outputs\n",
    "\n",
    "train_fpr, train_tpr, thresholds = roc_curve(y_train, NBbow.predict_proba(X_train_bow_S)[:,1])\n",
    "test_fpr, test_tpr, thresholds = roc_curve(y_test, NBbow.predict_proba(X_test_bow_S)[:,1])\n",
    "\n",
    "plt.plot(train_fpr, train_tpr, label=\"train AUC =\"+str(auc(train_fpr, train_tpr)))\n",
    "plt.plot(test_fpr, test_tpr, label=\"test AUC =\"+str(auc(test_fpr, test_tpr)))\n",
    "plt.legend()\n",
    "plt.xlabel(\"FPR\")\n",
    "plt.ylabel(\"TPR\")\n",
    "plt.title(\"ROC CURVE\")\n",
    "plt.show()"
   ]
  },
  {
   "cell_type": "code",
   "execution_count": 46,
   "metadata": {},
   "outputs": [
    {
     "name": "stdout",
     "output_type": "stream",
     "text": [
      "Train confusion matrix\n"
     ]
    },
    {
     "data": {
      "image/png": "[encoded data removed]",
      "text/plain": [
       "<Figure size 432x288 with 2 Axes>"
      ]
     },
     "metadata": {},
     "output_type": "display_data"
    },
    {
     "name": "stdout",
     "output_type": "stream",
     "text": [
      "Test confusion matrix\n"
     ]
    },
    {
     "data": {
      "image/png": "[encoded data removed]",
      "text/plain": [
       "<Figure size 432x288 with 2 Axes>"
      ]
     },
     "metadata": {},
     "output_type": "display_data"
    }
   ],
   "source": [
    "# Confusion matrix\n",
    "print(\"Train confusion matrix\")\n",
    "matrix_train= confusion_matrix(y_train, NBbow.predict(X_train_bow_S))\n",
    "index = ['negative', 'positive']  \n",
    "columns = ['negative', 'positive']\n",
    "df_matrix_train = pd.DataFrame(matrix_train,columns,index)\n",
    "sns.heatmap(df_matrix_train, annot=True, fmt='d')\n",
    "plt.title(\"Confusion Matrix\") \n",
    "plt.xlabel(\"Predicted\")\n",
    "plt.ylabel(\"Actual\")\n",
    "plt.show()\n",
    "\n",
    "print(\"Test confusion matrix\")\n",
    "matrix_test= confusion_matrix(y_test, NBbow.predict(X_test_bow_S))\n",
    "index = ['negative', 'positive']  \n",
    "columns = ['negative', 'positive']\n",
    "df_matrix_test = pd.DataFrame(matrix_test,columns,index)\n",
    "sns.heatmap(df_matrix_test, annot=True, fmt='d')\n",
    "plt.title(\"Confusion Matrix\") \n",
    "plt.xlabel(\"Predicted\")\n",
    "plt.ylabel(\"Actual\")\n",
    "plt.show()"
   ]
  },
  {
   "cell_type": "markdown",
   "metadata": {},
   "source": [
    "### [5.1.1] Top 10 important features of positive class from<font color='red'> SET 1</font>"
   ]
  },
  {
   "cell_type": "code",
   "execution_count": 47,
   "metadata": {
    "scrolled": false
   },
   "outputs": [
    {
     "name": "stdout",
     "output_type": "stream",
     "text": [
      "Top 10 positive features from BOW:\n",
      "not\n",
      "great\n",
      "good\n",
      "like\n",
      "love\n",
      "product\n",
      "taste\n",
      "coffee\n",
      "one\n",
      "flavor\n"
     ]
    }
   ],
   "source": [
    "# Please write all the code with proper documentation\n",
    "feat_prob = NBbow.feature_log_prob_ #log probability of the features.\n",
    "feat_name = count_vect.get_feature_names()\n",
    "positive_feat = np.argsort(feat_prob[1])[::-1] #Returns sorted indexs of +ve class.\n",
    "print(\"Top 10 positive features from BOW:\")\n",
    "for i in list(positive_feat[0:10]):\n",
    "    print(feat_name[i])"
   ]
  },
  {
   "cell_type": "markdown",
   "metadata": {},
   "source": [
    "### [5.1.2] Top 10 important features of negative class from<font color='red'> SET 1</font>"
   ]
  },
  {
   "cell_type": "code",
   "execution_count": 48,
   "metadata": {},
   "outputs": [
    {
     "name": "stdout",
     "output_type": "stream",
     "text": [
      "Top 10 Negative features from BOW:\n",
      "not\n",
      "like\n",
      "product\n",
      "would\n",
      "taste\n",
      "one\n",
      "good\n",
      "no\n",
      "flavor\n",
      "coffee\n"
     ]
    }
   ],
   "source": [
    "# Please write all the code with proper documentation\n",
    "negative_feat = np.argsort(feat_prob[0])[::-1]\n",
    "print(\"Top 10 Negative features from BOW:\")\n",
    "for i in list(negative_feat[0:10]):\n",
    "    print(feat_name[i])"
   ]
  },
  {
   "cell_type": "markdown",
   "metadata": {},
   "source": [
    "## [5.2] Applying Naive Bayes on TFIDF,<font color='red'> SET 2</font>"
   ]
  },
  {
   "cell_type": "code",
   "execution_count": 49,
   "metadata": {},
   "outputs": [],
   "source": [
    "# Please write all the code with proper documentation\n",
    "# Standadizing both X_TRAIN_TFID AND X_TEST_TFIDF\n",
    "Normal1 = Normalizer(copy=True, norm='l2').fit(X_train_tfidf) # Fitting the Normalizer only to train data to avoid data leakage.\n",
    "X_train_tfidf_S = Normal1.transform(X_train_tfidf)\n",
    "X_test_tfidf_S= Normal1.transform(X_test_tfidf)"
   ]
  },
  {
   "cell_type": "code",
   "execution_count": 50,
   "metadata": {},
   "outputs": [],
   "source": [
    "# Using Grid search method to find the optimal K.\n",
    "NB = MultinomialNB(class_prior=[0.5,0.5], fit_prior=True)\n",
    "a= [0.000001,0.00001,0.0001,0.001,0.01,0.1,1,10,100,1000,10000,100000,1000000]\n",
    "parameters = {'alpha':a}\n",
    "clf1 = GridSearchCV(NB, parameters, cv=3, scoring='roc_auc', return_train_score= True )\n",
    "clf1= clf1.fit(X_train_tfidf_S, y_train)"
   ]
  },
  {
   "cell_type": "code",
   "execution_count": 51,
   "metadata": {},
   "outputs": [
    {
     "data": {
      "image/png": "[encoded data removed]",
      "text/plain": [
       "<Figure size 432x288 with 1 Axes>"
      ]
     },
     "metadata": {},
     "output_type": "display_data"
    }
   ],
   "source": [
    "#Plotting performance of model both on train data and cross validation, and finding the best optimum K.\n",
    "train_auc1= clf1.cv_results_['mean_train_score']\n",
    "train_auc_std1= clf1.cv_results_['std_train_score']\n",
    "cv_auc1 = clf1.cv_results_['mean_test_score'] \n",
    "cv_auc_std1= clf1.cv_results_['std_test_score']\n",
    "\n",
    "# As alpha values range from very low to very high value.\n",
    "# So we used pyplot.semilogx to convert alpha to log(alpha) for easy interpretation\n",
    "\n",
    "plt.semilogx(a, train_auc1, label='Train AUC')\n",
    "# this code is copied from here: https://stackoverflow.com/a/48803361/4084039\n",
    "plt.gca().fill_between(a,train_auc1 - train_auc_std1,train_auc1 + train_auc_std1,alpha=0.2,color='darkblue')\n",
    "\n",
    "plt.semilogx(a, cv_auc1, label='CV AUC')\n",
    "# this code is copied from here: https://stackoverflow.com/a/48803361/4084039\n",
    "plt.gca().fill_between(a,cv_auc1 - cv_auc_std1,cv_auc1 + cv_auc_std1,alpha=0.2,color='darkorange')\n",
    "plt.legend()\n",
    "plt.xlabel(\"alpha: hyperparameter\")\n",
    "plt.ylabel(\"AUC\")\n",
    "plt.title(\"ERROR PLOTS\")\n",
    "plt.show()"
   ]
  },
  {
   "cell_type": "code",
   "execution_count": 53,
   "metadata": {},
   "outputs": [
    {
     "name": "stdout",
     "output_type": "stream",
     "text": [
      "1e-06 0.9943582799585555 0.8819893319209885 0.11236894803756703\n",
      "1e-05 0.9941662176694729 0.8947823905298141 0.09938382713965876\n",
      "0.0001 0.9938245000948392 0.9096359730831833 0.08418852701165591\n",
      "0.001 0.9931617565964351 0.9261490005826877 0.06701275601374745\n",
      "0.01 0.9917094933686769 0.9423255252382137 0.049383968130463196\n",
      "0.1 0.9878842196825047 0.9525877517369143 0.03529646794559038\n",
      "1 0.9756381792030099 0.9468433519469562 0.028794827256053646\n",
      "10 0.8540605407524827 0.8270152559187968 0.027045284833685956\n",
      "100 0.7164177821655736 0.7035690215060654 0.01284876065950824\n",
      "1000 0.6581442877482576 0.6496548269363802 0.008489460811877403\n",
      "10000 0.6398383780760919 0.6320995800762795 0.0077387979998123635\n",
      "100000 0.6373029593574048 0.6296414836841399 0.007661475673264917\n",
      "1000000 0.6370374074686316 0.6293870682257905 0.007650339242841087\n"
     ]
    }
   ],
   "source": [
    "l=0\n",
    "for i in a:\n",
    "    print (i,train_auc1[l],cv_auc1[l],train_auc1[l]-cv_auc1[l] )\n",
    "    l+=1"
   ]
  },
  {
   "cell_type": "code",
   "execution_count": 54,
   "metadata": {},
   "outputs": [
    {
     "data": {
      "image/png": "[encoded data removed]",
      "text/plain": [
       "<Figure size 432x288 with 1 Axes>"
      ]
     },
     "metadata": {},
     "output_type": "display_data"
    }
   ],
   "source": [
    "#training our model with the best optimal alpha as 0.1, and find the AUC on test data and plot the ROC curve on both train and test. \n",
    "NBtfidf = MultinomialNB(alpha=0.1, class_prior=[0.5,0.5], fit_prior=True)\n",
    "NBtfidf.fit(X_train_tfidf_S, y_train)\n",
    "# roc_auc_score(y_true, y_score) the 2nd parameter should be probability estimates of the positive class\n",
    "# not the predicted outputs\n",
    "\n",
    "train_fpr1, train_tpr1, thresholds1 = roc_curve(y_train, NBtfidf.predict_proba(X_train_tfidf_S)[:,1])\n",
    "test_fpr1, test_tpr1, thresholds1 = roc_curve(y_test, NBtfidf.predict_proba(X_test_tfidf_S)[:,1])\n",
    "\n",
    "plt.plot(train_fpr1, train_tpr1, label=\"train AUC =\"+str(auc(train_fpr1, train_tpr1)))\n",
    "plt.plot(test_fpr1, test_tpr1, label=\"test AUC =\"+str(auc(test_fpr1, test_tpr1)))\n",
    "plt.legend()\n",
    "plt.xlabel(\"FPR\")\n",
    "plt.ylabel(\"TPR\")\n",
    "plt.title(\"ROC CURVE\")\n",
    "plt.show()"
   ]
  },
  {
   "cell_type": "code",
   "execution_count": 55,
   "metadata": {
    "scrolled": false
   },
   "outputs": [
    {
     "name": "stdout",
     "output_type": "stream",
     "text": [
      "Train confusion matrix\n"
     ]
    },
    {
     "data": {
      "image/png": "[encoded data removed]",
      "text/plain": [
       "<Figure size 432x288 with 2 Axes>"
      ]
     },
     "metadata": {},
     "output_type": "display_data"
    },
    {
     "name": "stdout",
     "output_type": "stream",
     "text": [
      "Test confusion matrix\n"
     ]
    },
    {
     "data": {
      "image/png": "[encoded data removed]",
      "text/plain": [
       "<Figure size 432x288 with 2 Axes>"
      ]
     },
     "metadata": {},
     "output_type": "display_data"
    }
   ],
   "source": [
    "# Confusion matrix\n",
    "print(\"Train confusion matrix\")\n",
    "matrix_train1= confusion_matrix(y_train, NBtfidf.predict(X_train_tfidf_S))\n",
    "index = ['negative', 'positive']  \n",
    "columns = ['negative', 'positive']\n",
    "df_matrix_train1 = pd.DataFrame(matrix_train1,columns,index)\n",
    "sns.heatmap(df_matrix_train1, annot=True, fmt='d')\n",
    "plt.title(\"Confusion Matrix\") \n",
    "plt.xlabel(\"Predicted\")\n",
    "plt.ylabel(\"Actual\")\n",
    "plt.show()\n",
    "\n",
    "print(\"Test confusion matrix\")\n",
    "matrix_test1= confusion_matrix(y_test, NBtfidf.predict(X_test_tfidf_S))\n",
    "index = ['negative', 'positive']  \n",
    "columns = ['negative', 'positive']\n",
    "df_matrix_test1 = pd.DataFrame(matrix_test1,columns,index)\n",
    "sns.heatmap(df_matrix_test1, annot=True, fmt='d')\n",
    "plt.title(\"Confusion Matrix\") \n",
    "plt.xlabel(\"Predicted\")\n",
    "plt.ylabel(\"Actual\")\n",
    "plt.show()"
   ]
  },
  {
   "cell_type": "markdown",
   "metadata": {},
   "source": [
    "### [5.2.1] Top 10 important features of positive class from<font color='red'> SET 2</font>"
   ]
  },
  {
   "cell_type": "code",
   "execution_count": 56,
   "metadata": {},
   "outputs": [
    {
     "name": "stdout",
     "output_type": "stream",
     "text": [
      "Top 10 positive features from BOW:\n",
      "not\n",
      "great\n",
      "good\n",
      "like\n",
      "coffee\n",
      "love\n",
      "product\n",
      "tea\n",
      "taste\n",
      "one\n"
     ]
    }
   ],
   "source": [
    "# Please write all the code with proper documentation\n",
    "feat_prob1 = NBtfidf.feature_log_prob_ #log probability of the features.\n",
    "feat_name1 = tf_idf_vect.get_feature_names()\n",
    "positive_feat1 = np.argsort(feat_prob1[1])[::-1] #Returns sorted indexs of +ve class.\n",
    "print(\"Top 10 positive features from BOW:\")\n",
    "for i in list(positive_feat1[0:10]):\n",
    "    print(feat_name1[i])"
   ]
  },
  {
   "cell_type": "markdown",
   "metadata": {},
   "source": [
    "### [5.2.2] Top 10 important features of negative class from<font color='red'> SET 2</font>"
   ]
  },
  {
   "cell_type": "code",
   "execution_count": 57,
   "metadata": {},
   "outputs": [
    {
     "name": "stdout",
     "output_type": "stream",
     "text": [
      "Top 10 Negative features from BOW:\n",
      "not\n",
      "product\n",
      "like\n",
      "would\n",
      "taste\n",
      "one\n",
      "no\n",
      "coffee\n",
      "buy\n",
      "flavor\n"
     ]
    }
   ],
   "source": [
    "# Please write all the code with proper documentation\n",
    "negative_feat1 = np.argsort(feat_prob1[0])[::-1]\n",
    "print(\"Top 10 Negative features from BOW:\")\n",
    "for i in list(negative_feat1[0:10]):\n",
    "    print(feat_name1[i])"
   ]
  },
  {
   "cell_type": "markdown",
   "metadata": {},
   "source": [
    "### [6.1] Feature engineering: Applying Naive Bayes on BOW,<font color='red'> SET 3</font>"
   ]
  },
  {
   "cell_type": "code",
   "execution_count": 58,
   "metadata": {},
   "outputs": [],
   "source": [
    "# Finding the lenght of the review:\n",
    "Review_len = [len(sentence.split()) for sentence in preprocessed_reviews]"
   ]
  },
  {
   "cell_type": "code",
   "execution_count": 59,
   "metadata": {},
   "outputs": [
    {
     "data": {
      "text/plain": [
       "19"
      ]
     },
     "execution_count": 59,
     "metadata": {},
     "output_type": "execute_result"
    }
   ],
   "source": [
    "Review_len[1500]"
   ]
  },
  {
   "cell_type": "code",
   "execution_count": 60,
   "metadata": {},
   "outputs": [
    {
     "data": {
      "text/plain": [
       "'product expected large amount yummy candy corn purchased candy buffet wedding reception still leftover husband eating little every day'"
      ]
     },
     "execution_count": 60,
     "metadata": {},
     "output_type": "execute_result"
    }
   ],
   "source": [
    "preprocessed_reviews[1500]"
   ]
  },
  {
   "cell_type": "code",
   "execution_count": 61,
   "metadata": {},
   "outputs": [],
   "source": [
    "#Adding review length and summary to preprocessed_review as the part of Feature engineering:\n",
    "preprocessed_reviews1= []\n",
    "for i in range(len(preprocessed_reviews)):\n",
    "    preprocessed_reviews[i]+=' '+preprocessed_summary[i]+' '+str(Review_len[i])\n",
    "    preprocessed_reviews1.append(preprocessed_reviews[i])"
   ]
  },
  {
   "cell_type": "code",
   "execution_count": 62,
   "metadata": {},
   "outputs": [
    {
     "data": {
      "text/plain": [
       "'product expected large amount yummy candy corn purchased candy buffet wedding reception still leftover husband eating little every day love candy corn 19'"
      ]
     },
     "execution_count": 62,
     "metadata": {},
     "output_type": "execute_result"
    }
   ],
   "source": [
    "preprocessed_reviews1[1500]"
   ]
  },
  {
   "cell_type": "code",
   "execution_count": 63,
   "metadata": {},
   "outputs": [],
   "source": [
    "X1= preprocessed_reviews1\n",
    "Y1 = Score"
   ]
  },
  {
   "cell_type": "code",
   "execution_count": 64,
   "metadata": {},
   "outputs": [],
   "source": [
    "# Slicing the Data X and Y into X_train, X_test, y_train and y_test\n",
    "# making sure not to use train_test_split as it would randomly split points and disturb the sorting\n",
    "X1_train= X1[0:50086]\n",
    "X1_test= X1[50086:]\n",
    "y1_train= Y1[0:50086]\n",
    "y1_test= Y1[50086:]"
   ]
  },
  {
   "cell_type": "code",
   "execution_count": 65,
   "metadata": {},
   "outputs": [
    {
     "name": "stdout",
     "output_type": "stream",
     "text": [
      "the type of count vectorizer  <class 'scipy.sparse.csr.csr_matrix'>\n",
      "the number of unique words in X_train_fe 44014\n",
      "==================================================\n",
      "After vectorizations\n",
      "(50086, 44014) (50086,)\n",
      "(21465, 44014) (21465,)\n",
      "==================================================\n"
     ]
    }
   ],
   "source": [
    "#BoW\n",
    "count_vect1 = CountVectorizer()\n",
    "count_vect1.fit(X1_train) # fit has to happen only on train data\n",
    "\n",
    "X_train_fe_bow = count_vect1.transform(X1_train)\n",
    "X_test_fe_bow = count_vect1.transform(X1_test)\n",
    "\n",
    "print(\"the type of count vectorizer \",type(X_train_fe_bow))\n",
    "print(\"the number of unique words in X_train_fe\",X_train_fe_bow.shape[1])\n",
    "print('='*50)\n",
    "print(\"After vectorizations\")\n",
    "print(X_train_fe_bow.shape, y1_train.shape)\n",
    "print(X_test_fe_bow.shape, y1_test.shape)\n",
    "print(\"=\"*50)"
   ]
  },
  {
   "cell_type": "code",
   "execution_count": 66,
   "metadata": {},
   "outputs": [
    {
     "data": {
      "text/plain": [
       "<50086x44014 sparse matrix of type '<class 'numpy.int64'>'\n",
       "\twith 1734471 stored elements in Compressed Sparse Row format>"
      ]
     },
     "execution_count": 66,
     "metadata": {},
     "output_type": "execute_result"
    }
   ],
   "source": [
    "X_train_fe_bow"
   ]
  },
  {
   "cell_type": "code",
   "execution_count": 67,
   "metadata": {},
   "outputs": [],
   "source": [
    "# Normalizing both X_TRAIN_BOW AND X_TEST_BOW\n",
    "Normal2 = Normalizer(copy=True, norm='l2').fit(X_train_fe_bow) # Fitting the Normalizer only to train data to avoid data leakage.\n",
    "X_train_fe_bow_S = Normal2.transform(X_train_fe_bow)\n",
    "X_test_fe_bow_S = Normal2.transform(X_test_fe_bow)"
   ]
  },
  {
   "cell_type": "code",
   "execution_count": 68,
   "metadata": {},
   "outputs": [],
   "source": [
    "# Using Grid search method to find the optimal K.\n",
    "from sklearn.model_selection import GridSearchCV\n",
    "NB = MultinomialNB(class_prior=[0.5,0.5], fit_prior=True)\n",
    "a= [0.000001,0.00001,0.0001,0.001,0.01,0.1,1,10,100,1000,10000,100000,1000000]\n",
    "parameters = {'alpha':a}\n",
    "clf2 = GridSearchCV(NB, parameters, cv=3, scoring='roc_auc', return_train_score= True )\n",
    "clf2= clf2.fit(X_train_fe_bow_S, y1_train)"
   ]
  },
  {
   "cell_type": "code",
   "execution_count": 69,
   "metadata": {},
   "outputs": [
    {
     "data": {
      "image/png": "[encoded data removed]",
      "text/plain": [
       "<Figure size 432x288 with 1 Axes>"
      ]
     },
     "metadata": {},
     "output_type": "display_data"
    }
   ],
   "source": [
    "#Plotting performance of model both on train data and cross validation, and finding the best optimum K.\n",
    "train_auc2= clf2.cv_results_['mean_train_score']\n",
    "train_auc_std2= clf2.cv_results_['std_train_score']\n",
    "cv_auc2 = clf2.cv_results_['mean_test_score'] \n",
    "cv_auc_std2= clf2.cv_results_['std_test_score']\n",
    "\n",
    "# As alpha values range from very low to very high value.\n",
    "# So we used pyplot.semilogx to convert alpha to log(alpha) for easy interpretation\n",
    "\n",
    "plt.semilogx(a, train_auc2, label='Train AUC')\n",
    "# this code is copied from here: https://stackoverflow.com/a/48803361/4084039\n",
    "plt.gca().fill_between(a,train_auc2 - train_auc_std2,train_auc2 + train_auc_std2,alpha=0.2,color='darkblue')\n",
    "\n",
    "plt.semilogx(a, cv_auc2, label='CV AUC')\n",
    "# this code is copied from here: https://stackoverflow.com/a/48803361/4084039\n",
    "plt.gca().fill_between(a,cv_auc2 - cv_auc_std2,cv_auc2 + cv_auc_std2,alpha=0.2,color='darkorange')\n",
    "plt.legend()\n",
    "plt.xlabel(\"alpha: hyperparameter\")\n",
    "plt.ylabel(\"AUC\")\n",
    "plt.title(\"ERROR PLOTS\")\n",
    "plt.show()"
   ]
  },
  {
   "cell_type": "code",
   "execution_count": 70,
   "metadata": {},
   "outputs": [
    {
     "name": "stdout",
     "output_type": "stream",
     "text": [
      "1e-06 0.9941958544390022 0.8665081685831983 0.1276876858558038\n",
      "1e-05 0.9938347689196387 0.8882757630877874 0.1055590058318513\n",
      "0.0001 0.9931685935334764 0.911116030988628 0.08205256254484838\n",
      "0.001 0.9917753879512347 0.9325254286106549 0.05924995934057975\n",
      "0.01 0.9883460303044691 0.9473188608287283 0.04102716947574081\n",
      "0.1 0.9791945452360533 0.9510722323689093 0.02812231286714406\n",
      "1 0.9424138711502383 0.9235182389855261 0.01889563216471224\n",
      "10 0.8177205320700377 0.8080279944590776 0.009692537610960117\n",
      "100 0.7435023387616724 0.739131087312547 0.004371251449125424\n",
      "1000 0.6526240139503243 0.6502864916841246 0.0023375222661997652\n",
      "10000 0.5792898764175868 0.5775789897689477 0.001710886648639054\n",
      "100000 0.5624959915051805 0.5608903654694029 0.0016056260357776297\n",
      "1000000 0.5605643698455316 0.5589656585752936 0.001598711270238029\n"
     ]
    }
   ],
   "source": [
    "l=0\n",
    "for i in a:\n",
    "    print (i,train_auc2[l],cv_auc2[l],train_auc2[l]-cv_auc2[l] )\n",
    "    l+=1"
   ]
  },
  {
   "cell_type": "code",
   "execution_count": 71,
   "metadata": {},
   "outputs": [
    {
     "data": {
      "image/png": "[encoded data removed]",
      "text/plain": [
       "<Figure size 432x288 with 1 Axes>"
      ]
     },
     "metadata": {},
     "output_type": "display_data"
    }
   ],
   "source": [
    "#training our model with the best optimal a, and find the AUC on test data and plot the ROC curve on both train and test. \n",
    "NBbow1 = MultinomialNB(alpha=0.1, class_prior=[0.5,0.5], fit_prior=True)\n",
    "NBbow1.fit(X_train_fe_bow_S, y1_train)\n",
    "# roc_auc_score(y_true, y_score) the 2nd parameter should be probability estimates of the positive class\n",
    "# not the predicted outputs\n",
    "\n",
    "train_fpr2, train_tpr2, thresholds2 = roc_curve(y1_train, NBbow1.predict_proba(X_train_fe_bow_S)[:,1])\n",
    "test_fpr2, test_tpr2, thresholds2 = roc_curve(y1_test, NBbow1.predict_proba(X_test_fe_bow_S)[:,1])\n",
    "\n",
    "plt.plot(train_fpr2, train_tpr2, label=\"train AUC =\"+str(auc(train_fpr2, train_tpr2)))\n",
    "plt.plot(test_fpr2, test_tpr2, label=\"test AUC =\"+str(auc(test_fpr2, test_tpr2)))\n",
    "plt.legend()\n",
    "plt.xlabel(\"FPR\")\n",
    "plt.ylabel(\"TPR\")\n",
    "plt.title(\"ROC CURVE\")\n",
    "plt.show()"
   ]
  },
  {
   "cell_type": "code",
   "execution_count": 72,
   "metadata": {},
   "outputs": [
    {
     "name": "stdout",
     "output_type": "stream",
     "text": [
      "Train confusion matrix:\n"
     ]
    },
    {
     "data": {
      "image/png": "[encoded data removed]",
      "text/plain": [
       "<Figure size 432x288 with 2 Axes>"
      ]
     },
     "metadata": {},
     "output_type": "display_data"
    },
    {
     "name": "stdout",
     "output_type": "stream",
     "text": [
      "Test confusion matrix:\n"
     ]
    },
    {
     "data": {
      "image/png": "[encoded data removed]",
      "text/plain": [
       "<Figure size 432x288 with 2 Axes>"
      ]
     },
     "metadata": {},
     "output_type": "display_data"
    }
   ],
   "source": [
    "# Confusion matrix\n",
    "print(\"Train confusion matrix:\")\n",
    "matrix_train2= confusion_matrix(y1_train, NBbow1.predict(X_train_fe_bow_S))\n",
    "index = ['negative', 'positive']  \n",
    "columns = ['negative', 'positive']\n",
    "df_matrix_train2 = pd.DataFrame(matrix_train2,columns,index)\n",
    "sns.heatmap(df_matrix_train2, annot=True, fmt='d')\n",
    "plt.title(\"Confusion Matrix\") \n",
    "plt.xlabel(\"Predicted\")\n",
    "plt.ylabel(\"Actual\")\n",
    "plt.show()\n",
    "\n",
    "print(\"Test confusion matrix:\")\n",
    "matrix_test2= confusion_matrix(y1_test, NBbow1.predict(X_test_fe_bow_S))\n",
    "index = ['negative', 'positive']  \n",
    "columns = ['negative', 'positive']\n",
    "df_matrix_test2 = pd.DataFrame(matrix_test2,columns,index)\n",
    "sns.heatmap(df_matrix_test2, annot=True, fmt='d')\n",
    "plt.title(\"Confusion Matrix\") \n",
    "plt.xlabel(\"Predicted\")\n",
    "plt.ylabel(\"Actual\")\n",
    "plt.show()"
   ]
  },
  {
   "cell_type": "code",
   "execution_count": 73,
   "metadata": {},
   "outputs": [
    {
     "name": "stdout",
     "output_type": "stream",
     "text": [
      "Top 10 positive features from BOW:\n",
      "not\n",
      "great\n",
      "good\n",
      "like\n",
      "love\n",
      "product\n",
      "coffee\n",
      "taste\n",
      "one\n",
      "flavor\n"
     ]
    }
   ],
   "source": [
    "# Top 10 important features of positive class.\n",
    "# Please write all the code with proper documentation\n",
    "feat_prob2 = NBbow1.feature_log_prob_ #log probability of the features.\n",
    "feat_name2 = count_vect1.get_feature_names()\n",
    "positive_feat2 = np.argsort(feat_prob2[1])[::-1] #Returns sorted indexs of +ve class.\n",
    "print(\"Top 10 positive features from BOW:\")\n",
    "for i in list(positive_feat2[0:10]):\n",
    "    print(feat_name2[i])"
   ]
  },
  {
   "cell_type": "code",
   "execution_count": 74,
   "metadata": {},
   "outputs": [
    {
     "name": "stdout",
     "output_type": "stream",
     "text": [
      "Top 10 Negative features from BOW:\n",
      "not\n",
      "like\n",
      "product\n",
      "taste\n",
      "would\n",
      "one\n",
      "good\n",
      "no\n",
      "flavor\n",
      "coffee\n"
     ]
    }
   ],
   "source": [
    "# Top 10 important features of negative class.\n",
    "# Please write all the code with proper documentation\n",
    "negative_feat2 = np.argsort(feat_prob2[0])[::-1]\n",
    "print(\"Top 10 Negative features from BOW:\")\n",
    "for i in list(negative_feat2[0:10]):\n",
    "    print(feat_name2[i])"
   ]
  },
  {
   "cell_type": "markdown",
   "metadata": {},
   "source": [
    "### [6.1] Feature engineering: Applying Naive Bayes on TFIDF,<font color='red'> SET 4</font>"
   ]
  },
  {
   "cell_type": "code",
   "execution_count": 75,
   "metadata": {},
   "outputs": [
    {
     "name": "stdout",
     "output_type": "stream",
     "text": [
      "==================================================\n",
      "the type of tf_idf_vect1 <class 'scipy.sparse.csr.csr_matrix'>\n",
      "==================================================\n",
      "After vectorizations\n",
      "(50086, 31265) (50086,)\n",
      "(21465, 31265) (21465,)\n",
      "==================================================\n",
      "The number of unique words in tf_idf_vect1 of X_train_fe  31265\n"
     ]
    }
   ],
   "source": [
    "#tfidf\n",
    "tf_idf_vect1 = TfidfVectorizer(ngram_range=(1,2), min_df=10)\n",
    "tf_idf_vect1.fit(X1_train)\n",
    "print('='*50)\n",
    "\n",
    "X_train_fe_tfidf = tf_idf_vect1.transform(X1_train)\n",
    "X_test_fe_tfidf = tf_idf_vect1.transform(X1_test)\n",
    "print(\"the type of tf_idf_vect1\",type(X_train_fe_tfidf))\n",
    "print('='*50)\n",
    "\n",
    "print(\"After vectorizations\")\n",
    "print(X_train_fe_tfidf.shape, y1_train.shape)\n",
    "print(X_test_fe_tfidf.shape, y1_test.shape)\n",
    "print('='*50)\n",
    "print(\"The number of unique words in tf_idf_vect1 of X_train_fe \", X_train_fe_tfidf.shape[1])"
   ]
  },
  {
   "cell_type": "code",
   "execution_count": 76,
   "metadata": {},
   "outputs": [],
   "source": [
    "# Standadizing both X_TRAIN_TFID AND X_TEST_TFIDF\n",
    "Normal3=Normalizer(copy=True, norm='l2').fit(X_train_fe_tfidf)\n",
    "X_train_fe_tfidf_S = Normal3.transform(X_train_fe_tfidf)\n",
    "X_test_fe_tfidf_S = Normal3.transform(X_test_fe_tfidf)"
   ]
  },
  {
   "cell_type": "code",
   "execution_count": 77,
   "metadata": {},
   "outputs": [],
   "source": [
    "# Using Grid search method to find the optimal K.\n",
    "NB = MultinomialNB(class_prior=[0.5,0.5], fit_prior=True)\n",
    "a= [0.000001,0.00001,0.0001,0.001,0.01,0.1,1,10,100,1000,10000,100000,1000000]\n",
    "parameters = {'alpha':a}\n",
    "clf3 = GridSearchCV(NB, parameters, cv=3, scoring='roc_auc', return_train_score= True )\n",
    "clf3= clf3.fit(X_train_fe_tfidf_S, y1_train)"
   ]
  },
  {
   "cell_type": "code",
   "execution_count": 78,
   "metadata": {},
   "outputs": [
    {
     "data": {
      "image/png": "[encoded data removed]",
      "text/plain": [
       "<Figure size 432x288 with 1 Axes>"
      ]
     },
     "metadata": {},
     "output_type": "display_data"
    }
   ],
   "source": [
    "#Plotting performance of model both on train data and cross validation, and finding the best optimum K.\n",
    "train_auc3= clf3.cv_results_['mean_train_score']\n",
    "train_auc_std3= clf3.cv_results_['std_train_score']\n",
    "cv_auc3 = clf3.cv_results_['mean_test_score'] \n",
    "cv_auc_std3= clf3.cv_results_['std_test_score']\n",
    "\n",
    "# As alpha values range from very low to very high value.\n",
    "# So we used pyplot.semilogx to convert alpha to log(alpha) for easy interpretation\n",
    "\n",
    "plt.semilogx(a, train_auc3, label='Train AUC')\n",
    "# this code is copied from here: https://stackoverflow.com/a/48803361/4084039\n",
    "plt.gca().fill_between(a,train_auc3 - train_auc_std3, train_auc3 + train_auc_std3, alpha=0.2,color='darkblue')\n",
    "\n",
    "plt.semilogx(a, cv_auc3, label='CV AUC')\n",
    "# this code is copied from here: https://stackoverflow.com/a/48803361/4084039\n",
    "plt.gca().fill_between(a,cv_auc3 - cv_auc_std3, cv_auc3 + cv_auc_std3, alpha=0.2,color='darkorange')\n",
    "plt.legend()\n",
    "plt.xlabel(\"alpha: hyperparameter\")\n",
    "plt.ylabel(\"AUC\")\n",
    "plt.title(\"ERROR PLOTS\")\n",
    "plt.show()"
   ]
  },
  {
   "cell_type": "code",
   "execution_count": 79,
   "metadata": {},
   "outputs": [
    {
     "name": "stdout",
     "output_type": "stream",
     "text": [
      "1e-06 0.996663658861161 0.9169244882332374 0.07973917062792368\n",
      "1e-05 0.9964874248565133 0.9271738184671212 0.0693136063893921\n",
      "0.0001 0.9961868418420582 0.9386025188505478 0.057584322991510395\n",
      "0.001 0.9956283937057039 0.9506678425159529 0.04496055118975095\n",
      "0.01 0.9944397995624135 0.9615608760281116 0.032878923534301885\n",
      "0.1 0.9913691910853185 0.9673008782872247 0.02406831279809385\n",
      "1 0.98289047577176 0.9629709195304403 0.01991955624131969\n",
      "10 0.8971390880576963 0.8756360751434512 0.021503012914245057\n",
      "100 0.7772576370360679 0.7653352994581012 0.01192233757796668\n",
      "1000 0.72133290618183 0.713284928788395 0.00804797739343499\n",
      "10000 0.7040409634200159 0.6967405403934033 0.007300423026612601\n",
      "100000 0.7016930098234488 0.6944657720349089 0.007227237788539953\n",
      "1000000 0.7014500483228702 0.694231433302704 0.007218615020166186\n"
     ]
    }
   ],
   "source": [
    "l=0\n",
    "for i in a:\n",
    "    print (i,train_auc3[l],cv_auc3[l],train_auc3[l]-cv_auc3[l] )\n",
    "    l+=1"
   ]
  },
  {
   "cell_type": "code",
   "execution_count": 80,
   "metadata": {},
   "outputs": [
    {
     "data": {
      "image/png": "[encoded data removed]",
      "text/plain": [
       "<Figure size 432x288 with 1 Axes>"
      ]
     },
     "metadata": {},
     "output_type": "display_data"
    }
   ],
   "source": [
    "#training our model with the best optimal a, and find the AUC on test data and plot the ROC curve on both train and test. \n",
    "NBtfidf1 = MultinomialNB(alpha=0.1, class_prior=[0.5,0.5], fit_prior=True)\n",
    "NBtfidf1.fit(X_train_fe_tfidf_S, y1_train)\n",
    "# roc_auc_score(y_true, y_score) the 2nd parameter should be probability estimates of the positive class\n",
    "# not the predicted outputs\n",
    "\n",
    "train_fpr3, train_tpr3, thresholds3 = roc_curve(y1_train, NBtfidf1.predict_proba(X_train_fe_tfidf_S)[:,1])\n",
    "test_fpr3, test_tpr3, thresholds3 = roc_curve(y1_test, NBtfidf1.predict_proba(X_test_fe_tfidf_S)[:,1])\n",
    "\n",
    "plt.plot(train_fpr3, train_tpr3, label=\"train AUC =\"+str(auc(train_fpr3, train_tpr3)))\n",
    "plt.plot(test_fpr3, test_tpr3, label=\"test AUC =\"+str(auc(test_fpr3, test_tpr3)))\n",
    "plt.legend()\n",
    "plt.xlabel(\"FPR\")\n",
    "plt.ylabel(\"TPR\")\n",
    "plt.title(\"ROC CURVE\")\n",
    "plt.show()"
   ]
  },
  {
   "cell_type": "code",
   "execution_count": 81,
   "metadata": {},
   "outputs": [
    {
     "name": "stdout",
     "output_type": "stream",
     "text": [
      "Train confusion matrix\n"
     ]
    },
    {
     "data": {
      "image/png": "[encoded data removed]",
      "text/plain": [
       "<Figure size 432x288 with 2 Axes>"
      ]
     },
     "metadata": {},
     "output_type": "display_data"
    },
    {
     "name": "stdout",
     "output_type": "stream",
     "text": [
      "Test confusion matrix\n"
     ]
    },
    {
     "data": {
      "image/png": "[encoded data removed]",
      "text/plain": [
       "<Figure size 432x288 with 2 Axes>"
      ]
     },
     "metadata": {},
     "output_type": "display_data"
    }
   ],
   "source": [
    "# Confusion matrix\n",
    "print(\"Train confusion matrix\")\n",
    "matrix_train3= confusion_matrix(y1_train, NBtfidf1.predict(X_train_fe_tfidf_S))\n",
    "index = ['negative', 'positive']  \n",
    "columns = ['negative', 'positive']\n",
    "df_matrix_train3 = pd.DataFrame(matrix_train3,columns,index)\n",
    "sns.heatmap(df_matrix_train3, annot=True, fmt='d')\n",
    "plt.title(\"Confusion Matrix\") \n",
    "plt.xlabel(\"Predicted\")\n",
    "plt.ylabel(\"Actual\")\n",
    "plt.show()\n",
    "\n",
    "print(\"Test confusion matrix\")\n",
    "matrix_test3= confusion_matrix(y1_test, NBtfidf1.predict(X_test_fe_tfidf_S))\n",
    "index = ['negative', 'positive']  \n",
    "columns = ['negative', 'positive']\n",
    "df_matrix_test3 = pd.DataFrame(matrix_test3,columns,index)\n",
    "sns.heatmap(df_matrix_test3, annot=True, fmt='d')\n",
    "plt.title(\"Confusion Matrix\") \n",
    "plt.xlabel(\"Predicted\")\n",
    "plt.ylabel(\"Actual\")\n",
    "plt.show()"
   ]
  },
  {
   "cell_type": "code",
   "execution_count": 82,
   "metadata": {},
   "outputs": [
    {
     "name": "stdout",
     "output_type": "stream",
     "text": [
      "Top 10 positive features from TFIDF:\n",
      "not\n",
      "great\n",
      "good\n",
      "coffee\n",
      "love\n",
      "like\n",
      "product\n",
      "tea\n",
      "taste\n",
      "flavor\n"
     ]
    }
   ],
   "source": [
    "# Top 10 important features of positive class.\n",
    "# Please write all the code with proper documentation\n",
    "feat_prob3 = NBtfidf1.feature_log_prob_ #log probability of the features.\n",
    "feat_name3 = tf_idf_vect1.get_feature_names()\n",
    "positive_feat3 = np.argsort(feat_prob3[1])[::-1] #Returns sorted indexs of +ve class.\n",
    "print(\"Top 10 positive features from TFIDF:\")\n",
    "for i in list(positive_feat3[0:10]):\n",
    "    print(feat_name3[i])"
   ]
  },
  {
   "cell_type": "code",
   "execution_count": 83,
   "metadata": {
    "scrolled": true
   },
   "outputs": [
    {
     "name": "stdout",
     "output_type": "stream",
     "text": [
      "Top 10 negative features from TFIDF:\n",
      "not\n",
      "product\n",
      "like\n",
      "taste\n",
      "would\n",
      "no\n",
      "one\n",
      "coffee\n",
      "buy\n",
      "flavor\n"
     ]
    }
   ],
   "source": [
    "# Top 10 important features of Negative class.\n",
    "negative_feat3 = np.argsort(feat_prob3[0])[::-1] #Returns sorted indexs of +ve class.\n",
    "print(\"Top 10 negative features from TFIDF:\")\n",
    "for i in list(negative_feat3[0:10]):\n",
    "    print(feat_name3[i])"
   ]
  },
  {
   "cell_type": "markdown",
   "metadata": {},
   "source": [
    "### [6] Summary:"
   ]
  },
  {
   "cell_type": "code",
   "execution_count": 84,
   "metadata": {},
   "outputs": [
    {
     "name": "stdout",
     "output_type": "stream",
     "text": [
      "Summarize the results: \n",
      "+-------------+------------+---------+----------------------+----------+\n",
      "|    Model    | Vectorizer | FE Data | Hyperparameter-Alpha | Test AUC |\n",
      "+-------------+------------+---------+----------------------+----------+\n",
      "| Naive Bayes |    BOW     |    No   |         0.1          |  0.9367  |\n",
      "| Naive Bayes |   TFIDF    |    No   |         0.1          |  0.9528  |\n",
      "| Naive Bayes |    BOW     |   Yes   |         0.1          |  0.9557  |\n",
      "| Naive Bayes |   TFIDF    |   Yes   |         0.1          |  0.9673  |\n",
      "+-------------+------------+---------+----------------------+----------+\n"
     ]
    }
   ],
   "source": [
    "from prettytable import PrettyTable\n",
    "x = PrettyTable()\n",
    "\n",
    "x.field_names = [\"Model\",\"Vectorizer\", \"FE Data\",\"Hyperparameter-Alpha\", \"Test AUC\"]\n",
    "x.add_row([\"Naive Bayes\",\"BOW\", \"No\", 0.1, 0.9367])\n",
    "x.add_row([\"Naive Bayes\",\"TFIDF\", \"No\", 0.1, 0.9528])\n",
    "x.add_row([\"Naive Bayes\",\"BOW\", \"Yes\", 0.1, 0.9557])\n",
    "x.add_row([\"Naive Bayes\",\"TFIDF\", \"Yes\", 0.1, 0.9673])\n",
    "print (\"Summarize the results: \")\n",
    "print(x)"
   ]
  },
  {
   "cell_type": "markdown",
   "metadata": {
    "colab_type": "text",
    "id": "crZ4qBCyDYN7"
   },
   "source": [
    "# Conclusions"
   ]
  },
  {
   "cell_type": "markdown",
   "metadata": {
    "colab": {},
    "colab_type": "code",
    "id": "9OacHxi1DYN8"
   },
   "source": [
    "- Highest Test AUC of 0.9673 found using vectorizer TFIDF from FE dataset.\n",
    "- From all the confusion matrix, we found that the predicted value of negative class is more than actual value of negative class.\n",
    "- The Hyperparameter a remained same even after applying FE.\n",
    "- From the summary, we noted that our Test AUC has increased in all cases after applying Feauture engineering."
   ]
  },
  {
   "cell_type": "markdown",
   "metadata": {},
   "source": [
    "#### Reference:\n",
    "- www.appliedaicourse.com\n",
    "- https://stackoverflow.com\n",
    "- http://zetcode.com/python\n"
   ]
  }
 ],
 "metadata": {
  "colab": {
   "name": "03 Amazon Fine Food Reviews Analysis_KNN.ipynb",
   "provenance": [],
   "version": "0.3.2"
  },
  "kernelspec": {
   "display_name": "Python 3",
   "language": "python",
   "name": "python3"
  },
  "language_info": {
   "codemirror_mode": {
    "name": "ipython",
    "version": 3
   },
   "file_extension": ".py",
   "mimetype": "text/x-python",
   "name": "python",
   "nbconvert_exporter": "python",
   "pygments_lexer": "ipython3",
   "version": "3.6.5"
  }
 },
 "nbformat": 4,
 "nbformat_minor": 1
}
